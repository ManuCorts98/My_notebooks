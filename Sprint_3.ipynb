{
 "cells": [
  {
   "cell_type": "markdown",
   "metadata": {
    "id": "Ml1hmfXC_Zcs"
   },
   "source": "## Etapa 1. Descripción de los datos <a id='data_review'></a>\n"
  },
  {
   "cell_type": "code",
   "metadata": {
    "id": "AXN7PHPN_Zcs",
    "ExecuteTime": {
     "end_time": "2025-07-15T22:10:42.514003Z",
     "start_time": "2025-07-15T22:10:41.226046Z"
    }
   },
   "source": [
    "# Importa pandas\n",
    "import pandas as pd"
   ],
   "outputs": [],
   "execution_count": 1
  },
  {
   "cell_type": "code",
   "metadata": {
    "id": "fFVu7vqh_Zct",
    "ExecuteTime": {
     "end_time": "2025-07-15T22:11:38.058790Z",
     "start_time": "2025-07-15T22:11:38.037571Z"
    }
   },
   "source": [
    "# Lee el archivo y almacénalo en df\n",
    "df = pd.read_csv('/datasets/music_project_en.csv')"
   ],
   "outputs": [],
   "execution_count": 3
  },
  {
   "cell_type": "code",
   "execution_count": 4,
   "metadata": {
    "id": "oWTVX3gW_Zct"
   },
   "outputs": [
    {
     "name": "stdout",
     "output_type": "stream",
     "text": [
      "     userID                        Track            artist   genre  \\\n",
      "0  FFB692EC            Kamigata To Boots  The Mass Missile    rock   \n",
      "1  55204538  Delayed Because of Accident  Andreas Rönnberg    rock   \n",
      "2    20EC38            Funiculì funiculà       Mario Lanza     pop   \n",
      "3  A3DD03C9        Dragons in the Sunset        Fire + Ice    folk   \n",
      "4  E2DC1FAE                  Soul People        Space Echo   dance   \n",
      "5  842029A1                       Chains          Obladaet  rusrap   \n",
      "6  4CB90AA5                         True      Roman Messer   dance   \n",
      "7  F03E1C1F             Feeling This Way   Polina Griffith   dance   \n",
      "8  8FA1D3BE                     L’estate       Julia Dalia  ruspop   \n",
      "9  E772D5C0                    Pessimist               NaN   dance   \n",
      "\n",
      "        City        time        Day  \n",
      "0  Shelbyville  20:28:33  Wednesday  \n",
      "1  Springfield  14:07:09     Friday  \n",
      "2  Shelbyville  20:58:07  Wednesday  \n",
      "3  Shelbyville  08:37:09     Monday  \n",
      "4  Springfield  08:34:34     Monday  \n",
      "5  Shelbyville  13:09:41     Friday  \n",
      "6  Springfield  13:00:07  Wednesday  \n",
      "7  Springfield  20:47:49  Wednesday  \n",
      "8  Springfield  09:17:40     Friday  \n",
      "9  Shelbyville  21:20:49  Wednesday  \n"
     ]
    }
   ],
   "source": [
    "# Obtén las 10 primeras filas de la tabla df\n",
    "print(df.head(10))"
   ]
  },
  {
   "cell_type": "code",
   "execution_count": 5,
   "metadata": {
    "id": "DSf2kIb-_Zct"
   },
   "outputs": [
    {
     "name": "stdout",
     "output_type": "stream",
     "text": [
      "<class 'pandas.core.frame.DataFrame'>\n",
      "RangeIndex: 65079 entries, 0 to 65078\n",
      "Data columns (total 7 columns):\n",
      " #   Column    Non-Null Count  Dtype \n",
      "---  ------    --------------  ----- \n",
      " 0     userID  65079 non-null  object\n",
      " 1   Track     63736 non-null  object\n",
      " 2   artist    57512 non-null  object\n",
      " 3   genre     63881 non-null  object\n",
      " 4     City    65079 non-null  object\n",
      " 5   time      65079 non-null  object\n",
      " 6   Day       65079 non-null  object\n",
      "dtypes: object(7)\n",
      "memory usage: 3.5+ MB\n"
     ]
    },
    {
     "data": {
      "text/plain": [
       "3826"
      ]
     },
     "execution_count": 5,
     "metadata": {},
     "output_type": "execute_result"
    }
   ],
   "source": [
    "# Obtén la información general sobre nuestros datos\n",
    "df.info()\n",
    "df.duplicated().sum()"
   ]
  },
  {
   "cell_type": "markdown",
   "metadata": {
    "id": "TaQ2Iwbr_Zct"
   },
   "source": [
    "Según la documentación:\n",
    "- `' userID'`: identificador del usuario;\n",
    "- `'Track'`: título de la canción;\n",
    "- `'artist'`: nombre del artista;\n",
    "- `'genre'`: género de la canción;\n",
    "- `'City'`: ciudad del usuario;\n",
    "- `'time'`: la hora exacta en la que se reprodujo la canción;\n",
    "- `'Day'`: día de la semana.\n",
    "\n"
   ]
  },
  {
   "cell_type": "markdown",
   "metadata": {
    "id": "emewmQcy3m_F"
   },
   "source": [
    "Observaciones:\n",
    "\n",
    "Los datos presentan 7 columnas de tipo objeto. Tras validar valores únicos, identificamos que:\n",
    "\n",
    "- 'artist' tiene 7,567 valores ausentes (11.6% del total), superando el umbral óptimo del 5%\n",
    "- Existen 3,826 duplicados explícitos\n",
    "- 'track' y 'genre' tienen tasas de valores ausentes aceptables (<2%)"
   ]
  },
  {
   "cell_type": "markdown",
   "metadata": {
    "id": "SjYF6Ub9_Zct"
   },
   "source": "## Etapa 2. Preprocesamiento de los datos <a id='data_preprocessing'></a>\n"
  },
  {
   "cell_type": "code",
   "execution_count": 6,
   "metadata": {
    "id": "oKOTdF_Q_Zct"
   },
   "outputs": [
    {
     "name": "stdout",
     "output_type": "stream",
     "text": [
      "Index(['  userID', 'Track', 'artist', 'genre', '  City  ', 'time', 'Day'], dtype='object')\n"
     ]
    }
   ],
   "source": [
    "# Muestra los nombres de las columnas\n",
    "print(df.columns)"
   ]
  },
  {
   "cell_type": "code",
   "execution_count": 7,
   "metadata": {
    "id": "6I_RwwMhzM4e"
   },
   "outputs": [
    {
     "name": "stdout",
     "output_type": "stream",
     "text": [
      "Index(['userid', 'track', 'artist', 'genre', 'city', 'time', 'day'], dtype='object')\n"
     ]
    }
   ],
   "source": [
    "# Bucle que itera sobre los encabezados y los pone todos en minúsculas\n",
    "df_c = [df_col.lower().strip() for df_col in df.columns]\n",
    "df.columns = df_c\n",
    "print(df.columns)"
   ]
  },
  {
   "cell_type": "code",
   "execution_count": 8,
   "metadata": {
    "id": "vVQXbFyJzSYl"
   },
   "outputs": [
    {
     "name": "stdout",
     "output_type": "stream",
     "text": [
      "Index(['userid', 'track', 'artist', 'genre', 'city', 'time', 'day'], dtype='object')\n"
     ]
    }
   ],
   "source": [
    "# Bucle que itera sobre los encabezados y elimina los espacios\n",
    "df_c = [df_col.lower().strip() for df_col in df.columns] # para optimizar el codigo\n",
    "df.columns = df_c\n",
    "print(df.columns)"
   ]
  },
  {
   "cell_type": "code",
   "execution_count": 9,
   "metadata": {
    "id": "ISlFqs5y_Zct"
   },
   "outputs": [
    {
     "name": "stdout",
     "output_type": "stream",
     "text": [
      "Index(['user_id', 'track', 'artist', 'genre', 'city', 'time', 'day'], dtype='object')\n"
     ]
    }
   ],
   "source": [
    "# Cambia el nombre de la columna \"userid\"\n",
    "df.rename(columns={'userid':'user_id'}, inplace=True)\n",
    "print(df.columns)"
   ]
  },
  {
   "cell_type": "code",
   "execution_count": 10,
   "metadata": {
    "id": "d4NOAmTW_Zct"
   },
   "outputs": [
    {
     "name": "stdout",
     "output_type": "stream",
     "text": [
      "Index(['user_id', 'track', 'artist', 'genre', 'city', 'time', 'day'], dtype='object')\n"
     ]
    }
   ],
   "source": [
    "# Comprueba el resultado: lista de encabezados\n",
    "print(df.columns)"
   ]
  },
  {
   "cell_type": "code",
   "execution_count": 11,
   "metadata": {
    "id": "RskX29qr_Zct"
   },
   "outputs": [
    {
     "name": "stdout",
     "output_type": "stream",
     "text": [
      "user_id       0\n",
      "track      1343\n",
      "artist     7567\n",
      "genre      1198\n",
      "city          0\n",
      "time          0\n",
      "day           0\n",
      "dtype: int64\n"
     ]
    }
   ],
   "source": [
    "# Calcula el número de valores ausentes\n",
    "print(df.isna().sum())"
   ]
  },
  {
   "cell_type": "code",
   "execution_count": 12,
   "metadata": {
    "id": "KplB5qWs_Zct"
   },
   "outputs": [
    {
     "name": "stdout",
     "output_type": "stream",
     "text": [
      "user_id    0\n",
      "track      0\n",
      "artist     0\n",
      "genre      0\n",
      "city       0\n",
      "time       0\n",
      "day        0\n",
      "dtype: int64\n",
      "        user_id                                              track  \\\n",
      "24203  E72C0D1C                               Magic Mushroom Remix   \n",
      "17240  458777E1                                       To the Beach   \n",
      "59531  1D818116                        Maha Vishnu Gayathri Mantra   \n",
      "52301  AAF63AE6        Gimme! Gimme! Gimme! / A Man After Midnight   \n",
      "20329  62A4C6FC                                              Alone   \n",
      "40188  9D887CD9                                 Part of The Family   \n",
      "23217  6951FD2F                                           Noonside   \n",
      "52892  27D45127                                              Pulse   \n",
      "55697  1F8DD98B                                            Show Me   \n",
      "1262   C53560ED                                Sfiorivano le viole   \n",
      "48566  898828C5                        Undone (feat. Mike Herrera)   \n",
      "49475  982DD155                                             Lilium   \n",
      "16879  E6A92643                                              Brand   \n",
      "28137  A30FDB5A  Chulin Culin Chunfly [feat. Residente Calle 13...   \n",
      "29000  5F03A4C3                                    Kadavergehorsam   \n",
      "39892  637983A5                                Live from the Heart   \n",
      "20893  22FB4CE4                              Your Heart Is Rotting   \n",
      "55638  8546BE05                                   Dance John Dance   \n",
      "40386  9641F8F3                                    Hip Hop Bee Bop   \n",
      "2075   B55C26E7                                               Pohu   \n",
      "\n",
      "                                           artist        genre         city  \\\n",
      "24203                                   Auricular        dance  Springfield   \n",
      "17240                                Harley Stone        house  Springfield   \n",
      "59531                             Shankara Sastry        world  Springfield   \n",
      "52301                                  ABBA Stars          pop  Springfield   \n",
      "20329                           Backwoods Payback         rock  Shelbyville   \n",
      "40188  The Blind Side (Motion Picture Soundtrack)     folkrock  Springfield   \n",
      "23217                                       Yaeji   electronic  Shelbyville   \n",
      "52892                                 Colour Haze   stonerrock  Springfield   \n",
      "55697                                     unknown        dance  Shelbyville   \n",
      "1262                                 Rino Gaetano          pop  Shelbyville   \n",
      "48566                               Amber Pacific  alternative  Springfield   \n",
      "49475                              Fausto Messina        dance  Springfield   \n",
      "16879                                   Kartvelli       ruspop  Shelbyville   \n",
      "28137                                      Voltio          rap  Springfield   \n",
      "29000                                        Die!     hardcore  Shelbyville   \n",
      "39892                                Devon Allman        blues  Springfield   \n",
      "20893                                    GUERLAIN       rusrap  Springfield   \n",
      "55638                                      Dyadya   electronic  Springfield   \n",
      "40386                                 Man Parrish        dance  Shelbyville   \n",
      "2075                                      unknown       rusrap  Springfield   \n",
      "\n",
      "           time        day  \n",
      "24203  08:38:06     Friday  \n",
      "17240  14:57:11  Wednesday  \n",
      "59531  09:17:18  Wednesday  \n",
      "52301  20:33:48  Wednesday  \n",
      "20329  20:02:53     Friday  \n",
      "40188  09:58:51     Monday  \n",
      "23217  13:55:26  Wednesday  \n",
      "52892  08:28:59     Friday  \n",
      "55697  14:23:47  Wednesday  \n",
      "1262   08:43:10     Monday  \n",
      "48566  13:57:07  Wednesday  \n",
      "49475  21:14:13     Monday  \n",
      "16879  14:55:07     Friday  \n",
      "28137  21:39:00     Friday  \n",
      "29000  13:45:54  Wednesday  \n",
      "39892  14:47:55     Monday  \n",
      "20893  20:13:35     Monday  \n",
      "55638  13:25:00     Monday  \n",
      "40386  09:06:00     Monday  \n",
      "2075   14:47:52  Wednesday  \n"
     ]
    }
   ],
   "source": [
    "df.fillna({'track':'unknown','artist':'unknown','genre':'unknown'},inplace=True)\n",
    "print(df.isna().sum())\n",
    "print(df.sample(20))"
   ]
  },
  {
   "cell_type": "code",
   "execution_count": 13,
   "metadata": {
    "id": "Tq4nYRX4_Zct"
   },
   "outputs": [
    {
     "name": "stdout",
     "output_type": "stream",
     "text": [
      "user_id    0\n",
      "track      0\n",
      "artist     0\n",
      "genre      0\n",
      "city       0\n",
      "time       0\n",
      "day        0\n",
      "dtype: int64\n"
     ]
    }
   ],
   "source": [
    "# Cuenta los valores ausentes\n",
    "print(df.isna().sum())"
   ]
  },
  {
   "cell_type": "code",
   "execution_count": 14,
   "metadata": {
    "id": "36eES_S0_Zct"
   },
   "outputs": [
    {
     "name": "stdout",
     "output_type": "stream",
     "text": [
      "3826\n"
     ]
    }
   ],
   "source": [
    "# Cuenta los duplicados explícitos\n",
    "print(df.duplicated().sum())"
   ]
  },
  {
   "cell_type": "code",
   "execution_count": 15,
   "metadata": {
    "id": "exFHq6tt_Zct"
   },
   "outputs": [
    {
     "name": "stdout",
     "output_type": "stream",
     "text": [
      "0\n"
     ]
    }
   ],
   "source": [
    "# Elimina los duplicados explícitos\n",
    "df.drop_duplicates(inplace=True)\n",
    "print(df.duplicated().sum())"
   ]
  },
  {
   "cell_type": "code",
   "execution_count": 16,
   "metadata": {
    "id": "-8PuNWQ0_Zct"
   },
   "outputs": [
    {
     "name": "stdout",
     "output_type": "stream",
     "text": [
      "0\n"
     ]
    }
   ],
   "source": [
    "# Comprueba de nuevo si hay duplicados\n",
    "print(df.duplicated().sum())"
   ]
  },
  {
   "cell_type": "code",
   "execution_count": 17,
   "metadata": {
    "id": "JIUcqzZN_Zct"
   },
   "outputs": [
    {
     "name": "stdout",
     "output_type": "stream",
     "text": [
      "['rock' 'pop' 'folk' 'dance' 'rusrap' 'ruspop' 'world' 'electronic'\n",
      " 'unknown' 'alternative' 'children' 'rnb' 'hip' 'jazz' 'postrock' 'latin'\n",
      " 'classical' 'metal' 'reggae' 'triphop' 'blues' 'instrumental' 'rusrock'\n",
      " 'dnb' 'türk' 'post' 'country' 'psychedelic' 'conjazz' 'indie'\n",
      " 'posthardcore' 'local' 'avantgarde' 'punk' 'videogame' 'techno' 'house'\n",
      " 'christmas' 'melodic' 'caucasian' 'reggaeton' 'soundtrack' 'singer' 'ska'\n",
      " 'salsa' 'ambient' 'film' 'western' 'rap' 'beats' \"hard'n'heavy\"\n",
      " 'progmetal' 'minimal' 'tropical' 'contemporary' 'new' 'soul' 'holiday'\n",
      " 'german' 'jpop' 'spiritual' 'urban' 'gospel' 'nujazz' 'folkmetal'\n",
      " 'trance' 'miscellaneous' 'anime' 'hardcore' 'progressive' 'korean'\n",
      " 'numetal' 'vocal' 'estrada' 'tango' 'loungeelectronic' 'classicmetal'\n",
      " 'dubstep' 'club' 'deep' 'southern' 'black' 'folkrock' 'fitness' 'french'\n",
      " 'disco' 'religious' 'hiphop' 'drum' 'extrememetal' 'türkçe'\n",
      " 'experimental' 'easy' 'metalcore' 'modern' 'argentinetango' 'old' 'swing'\n",
      " 'breaks' 'eurofolk' 'stonerrock' 'industrial' 'funk' 'middle' 'variété'\n",
      " 'other' 'adult' 'christian' 'thrash' 'gothic' 'international' 'muslim'\n",
      " 'relax' 'schlager' 'caribbean' 'nu' 'breakbeat' 'comedy' 'chill' 'newage'\n",
      " 'specialty' 'uzbek' 'k-pop' 'balkan' 'chinese' 'meditative' 'dub' 'power'\n",
      " 'death' 'grime' 'arabesk' 'romance' 'flamenco' 'leftfield' 'european'\n",
      " 'tech' 'newwave' 'dancehall' 'mpb' 'piano' 'top' 'bigroom' 'opera'\n",
      " 'celtic' 'tradjazz' 'acoustic' 'epicmetal' 'hip-hop' 'historisch'\n",
      " 'downbeat' 'downtempo' 'africa' 'audiobook' 'jewish' 'sängerportrait'\n",
      " 'deutschrock' 'eastern' 'action' 'future' 'electropop' 'folklore'\n",
      " 'bollywood' 'marschmusik' 'rnr' 'karaoke' 'indian' 'rancheras'\n",
      " 'afrikaans' 'rhythm' 'sound' 'deutschspr' 'trip' 'lovers' 'choral'\n",
      " 'dancepop' 'retro' 'smooth' 'mexican' 'brazilian' 'ïîï' 'mood' 'surf'\n",
      " 'gangsta' 'inspirational' 'idm' 'ethnic' 'bluegrass' 'broadway'\n",
      " 'animated' 'americana' 'karadeniz' 'rockabilly' 'colombian' 'self' 'hop'\n",
      " 'sertanejo' 'japanese' 'canzone' 'lounge' 'sport' 'ragga' 'traditional'\n",
      " 'gitarre' 'frankreich' 'emo' 'laiko' 'cantopop' 'glitch' 'documentary'\n",
      " 'oceania' 'popeurodance' 'dark' 'vi' 'grunge' 'hardstyle' 'samba'\n",
      " 'garage' 'art' 'folktronica' 'entehno' 'mediterranean' 'chamber' 'cuban'\n",
      " 'taraftar' 'gypsy' 'hardtechno' 'shoegazing' 'bossa' 'latino' 'worldbeat'\n",
      " 'malaysian' 'baile' 'ghazal' 'arabic' 'popelectronic' 'acid' 'kayokyoku'\n",
      " 'neoklassik' 'tribal' 'tanzorchester' 'native' 'independent' 'cantautori'\n",
      " 'handsup' 'punjabi' 'synthpop' 'rave' 'französisch' 'quebecois' 'speech'\n",
      " 'soulful' 'jam' 'ram' 'horror' 'orchestral' 'neue' 'roots' 'slow'\n",
      " 'jungle' 'indipop' 'axé' 'fado' 'showtunes' 'arena' 'irish' 'mandopop'\n",
      " 'forró' 'dirty' 'regional']\n",
      "269\n"
     ]
    }
   ],
   "source": [
    "# Inspecciona los nombres de géneros únicos\n",
    "print(df['genre'].unique())\n",
    "print(df['genre'].nunique())"
   ]
  },
  {
   "cell_type": "code",
   "execution_count": 18,
   "metadata": {
    "id": "ErNDkmns_Zct"
   },
   "outputs": [
    {
     "name": "stdout",
     "output_type": "stream",
     "text": [
      "7181           dance\n",
      "50127         ruspop\n",
      "54603           rock\n",
      "55812      spiritual\n",
      "27028         action\n",
      "30242        rusrock\n",
      "22662    alternative\n",
      "50338      classical\n",
      "60425           rock\n",
      "59807          dance\n",
      "21717            pop\n",
      "11009          metal\n",
      "26725        hip-hop\n",
      "48867         ruspop\n",
      "45080            pop\n",
      "55299          metal\n",
      "51070    alternative\n",
      "13737           rock\n",
      "8694       classical\n",
      "38843           rock\n",
      "14553          indie\n",
      "50882           jazz\n",
      "2074           metal\n",
      "45260            pop\n",
      "60290         ruspop\n",
      "28012          dance\n",
      "879         children\n",
      "30069         reggae\n",
      "14951        western\n",
      "56471        triphop\n",
      "Name: genre, dtype: object\n",
      "266\n"
     ]
    }
   ],
   "source": [
    "# Función para reemplazar los duplicados implícitos\n",
    "def replace_wrong_values(data, column, wrong_values, correct_value):\n",
    "    data[column].replace(wrong_values,correct_value,inplace=True)\n",
    "    print(data[column].sample(30))\n",
    "    print(data[column].nunique())\n",
    "replace_wrong_values(df,'genre',['hip','hop','hiphop'],'hip-hop')"
   ]
  },
  {
   "cell_type": "code",
   "execution_count": 19,
   "metadata": {
    "id": "YN5i2hpmSo09"
   },
   "outputs": [
    {
     "name": "stdout",
     "output_type": "stream",
     "text": [
      "2777          latin\n",
      "59741         vocal\n",
      "60524          rock\n",
      "7420          dance\n",
      "64464    electronic\n",
      "48397          rock\n",
      "2982            pop\n",
      "26980           rap\n",
      "25865       minimal\n",
      "56685           pop\n",
      "22087        hiphop\n",
      "4154         hiphop\n",
      "38491        singer\n",
      "988             pop\n",
      "27311          rock\n",
      "62725        rusrap\n",
      "58461         indie\n",
      "62161         dance\n",
      "1824     electronic\n",
      "27406         salsa\n",
      "27284      children\n",
      "7008          dance\n",
      "58479         dance\n",
      "57063         latin\n",
      "54137       western\n",
      "21492         opera\n",
      "24879        ruspop\n",
      "40302    electronic\n",
      "58794           pop\n",
      "21011         dance\n",
      "Name: genre, dtype: object\n",
      "266\n"
     ]
    }
   ],
   "source": [
    "# Elimina los duplicados implícitos\n",
    "replace_wrong_values(df,'genre','hip-hop','hiphop')"
   ]
  },
  {
   "cell_type": "code",
   "execution_count": 20,
   "metadata": {
    "id": "wvixALnFG15m"
   },
   "outputs": [
    {
     "name": "stdout",
     "output_type": "stream",
     "text": [
      "['rock' 'pop' 'folk' 'dance' 'rusrap' 'ruspop' 'world' 'electronic'\n",
      " 'unknown' 'alternative' 'children' 'rnb' 'hiphop' 'jazz' 'postrock'\n",
      " 'latin' 'classical' 'metal' 'reggae' 'triphop' 'blues' 'instrumental'\n",
      " 'rusrock' 'dnb' 'türk' 'post' 'country' 'psychedelic' 'conjazz' 'indie'\n",
      " 'posthardcore' 'local' 'avantgarde' 'punk' 'videogame' 'techno' 'house'\n",
      " 'christmas' 'melodic' 'caucasian' 'reggaeton' 'soundtrack' 'singer' 'ska'\n",
      " 'salsa' 'ambient' 'film' 'western' 'rap' 'beats' \"hard'n'heavy\"\n",
      " 'progmetal' 'minimal' 'tropical' 'contemporary' 'new' 'soul' 'holiday'\n",
      " 'german' 'jpop' 'spiritual' 'urban' 'gospel' 'nujazz' 'folkmetal'\n",
      " 'trance' 'miscellaneous' 'anime' 'hardcore' 'progressive' 'korean'\n",
      " 'numetal' 'vocal' 'estrada' 'tango' 'loungeelectronic' 'classicmetal'\n",
      " 'dubstep' 'club' 'deep' 'southern' 'black' 'folkrock' 'fitness' 'french'\n",
      " 'disco' 'religious' 'drum' 'extrememetal' 'türkçe' 'experimental' 'easy'\n",
      " 'metalcore' 'modern' 'argentinetango' 'old' 'swing' 'breaks' 'eurofolk'\n",
      " 'stonerrock' 'industrial' 'funk' 'middle' 'variété' 'other' 'adult'\n",
      " 'christian' 'thrash' 'gothic' 'international' 'muslim' 'relax' 'schlager'\n",
      " 'caribbean' 'nu' 'breakbeat' 'comedy' 'chill' 'newage' 'specialty'\n",
      " 'uzbek' 'k-pop' 'balkan' 'chinese' 'meditative' 'dub' 'power' 'death'\n",
      " 'grime' 'arabesk' 'romance' 'flamenco' 'leftfield' 'european' 'tech'\n",
      " 'newwave' 'dancehall' 'mpb' 'piano' 'top' 'bigroom' 'opera' 'celtic'\n",
      " 'tradjazz' 'acoustic' 'epicmetal' 'historisch' 'downbeat' 'downtempo'\n",
      " 'africa' 'audiobook' 'jewish' 'sängerportrait' 'deutschrock' 'eastern'\n",
      " 'action' 'future' 'electropop' 'folklore' 'bollywood' 'marschmusik' 'rnr'\n",
      " 'karaoke' 'indian' 'rancheras' 'afrikaans' 'rhythm' 'sound' 'deutschspr'\n",
      " 'trip' 'lovers' 'choral' 'dancepop' 'retro' 'smooth' 'mexican'\n",
      " 'brazilian' 'ïîï' 'mood' 'surf' 'gangsta' 'inspirational' 'idm' 'ethnic'\n",
      " 'bluegrass' 'broadway' 'animated' 'americana' 'karadeniz' 'rockabilly'\n",
      " 'colombian' 'self' 'sertanejo' 'japanese' 'canzone' 'lounge' 'sport'\n",
      " 'ragga' 'traditional' 'gitarre' 'frankreich' 'emo' 'laiko' 'cantopop'\n",
      " 'glitch' 'documentary' 'oceania' 'popeurodance' 'dark' 'vi' 'grunge'\n",
      " 'hardstyle' 'samba' 'garage' 'art' 'folktronica' 'entehno'\n",
      " 'mediterranean' 'chamber' 'cuban' 'taraftar' 'gypsy' 'hardtechno'\n",
      " 'shoegazing' 'bossa' 'latino' 'worldbeat' 'malaysian' 'baile' 'ghazal'\n",
      " 'arabic' 'popelectronic' 'acid' 'kayokyoku' 'neoklassik' 'tribal'\n",
      " 'tanzorchester' 'native' 'independent' 'cantautori' 'handsup' 'punjabi'\n",
      " 'synthpop' 'rave' 'französisch' 'quebecois' 'speech' 'soulful' 'jam'\n",
      " 'ram' 'horror' 'orchestral' 'neue' 'roots' 'slow' 'jungle' 'indipop'\n",
      " 'axé' 'fado' 'showtunes' 'arena' 'irish' 'mandopop' 'forró' 'dirty'\n",
      " 'regional']\n"
     ]
    }
   ],
   "source": [
    "# Comprueba de nuevo los duplicados implícitos\n",
    "print(df['genre'].unique())"
   ]
  },
  {
   "cell_type": "markdown",
   "metadata": {
    "id": "WttZHXH0SqKk"
   },
   "source": [
    "## Etapa 3. Análisis"
   ]
  },
  {
   "cell_type": "code",
   "execution_count": 21,
   "metadata": {
    "id": "0_Qs96oh_Zcu"
   },
   "outputs": [
    {
     "name": "stdout",
     "output_type": "stream",
     "text": [
      "city\n",
      "Shelbyville    18512\n",
      "Springfield    42741\n",
      "Name: track, dtype: int64\n",
      "city\n",
      "Shelbyville    18512\n",
      "Springfield    42741\n",
      "Name: genre, dtype: int64\n",
      "city\n",
      "Shelbyville   11580 days 14:02:48\n",
      "Springfield   26259 days 08:46:54\n",
      "Name: time, dtype: timedelta64[ns]\n",
      "city\n",
      "Shelbyville    18512\n",
      "Springfield    42741\n",
      "Name: user_id, dtype: int64\n"
     ]
    }
   ],
   "source": [
    "# Cuenta las canciones reproducidas en cada ciudad\n",
    "print(df.groupby('city')['track'].count())\n",
    "print(df.groupby('city')['genre'].count())\n",
    "df['time'] = pd.to_timedelta(df['time'])\n",
    "print(df.groupby('city')['time'].sum())\n",
    "print(df.groupby('city')['user_id'].count())"
   ]
  },
  {
   "cell_type": "markdown",
   "metadata": {
    "id": "Kjb4vX38DC3I"
   },
   "source": [
    "Observaciones\n",
    "\n",
    "Springfield muestra mayor volumen de actividad (42,741 reproducciones vs 18,512 en Shelbyville). La correlación 1:1 entre usuarios, canciones y géneros sugiere que:\n",
    "\n",
    "- Cada usuario reproduce una única canción por sesión\n",
    "- Podrían existir duplicados implícitos en registros"
   ]
  },
  {
   "cell_type": "code",
   "execution_count": 22,
   "metadata": {
    "id": "uZMKjiJz_Zcu"
   },
   "outputs": [
    {
     "name": "stdout",
     "output_type": "stream",
     "text": [
      "day\n",
      "Friday       21840\n",
      "Monday       21354\n",
      "Wednesday    18059\n",
      "Name: track, dtype: int64\n",
      "                                                                          user_id  \\\n",
      "day       track                                              city                   \n",
      "Friday     Cello Concerto No.1 Op.107 - 2. Moderato          Springfield        1   \n",
      "           Concerto For Violin And Strings In E Op.8 No.1... Springfield        1   \n",
      "           Poppin Tags                                       Springfield        1   \n",
      "           Scheherazade Op.35 - 1. Largo e maestoso          Shelbyville        1   \n",
      "           String Quartet No.17 in B flat K.458 -\"The Hun... Shelbyville        1   \n",
      "...                                                                           ...   \n",
      "Wednesday 酒歌                                                 Shelbyville        1   \n",
      "          쉼표                                                 Shelbyville        1   \n",
      "          이리와봐 Come Here                                     Shelbyville        1   \n",
      "          지금 여기 이곳에서 (Inst.)  지금 여기 이곳에서                     Springfield        1   \n",
      "          푸른 기억의 바다                                          Shelbyville        1   \n",
      "\n",
      "                                                                          artist  \\\n",
      "day       track                                              city                  \n",
      "Friday     Cello Concerto No.1 Op.107 - 2. Moderato          Springfield       1   \n",
      "           Concerto For Violin And Strings In E Op.8 No.1... Springfield       1   \n",
      "           Poppin Tags                                       Springfield       1   \n",
      "           Scheherazade Op.35 - 1. Largo e maestoso          Shelbyville       1   \n",
      "           String Quartet No.17 in B flat K.458 -\"The Hun... Shelbyville       1   \n",
      "...                                                                          ...   \n",
      "Wednesday 酒歌                                                 Shelbyville       1   \n",
      "          쉼표                                                 Shelbyville       1   \n",
      "          이리와봐 Come Here                                     Shelbyville       1   \n",
      "          지금 여기 이곳에서 (Inst.)  지금 여기 이곳에서                     Springfield       1   \n",
      "          푸른 기억의 바다                                          Shelbyville       1   \n",
      "\n",
      "                                                                          genre  \\\n",
      "day       track                                              city                 \n",
      "Friday     Cello Concerto No.1 Op.107 - 2. Moderato          Springfield      1   \n",
      "           Concerto For Violin And Strings In E Op.8 No.1... Springfield      1   \n",
      "           Poppin Tags                                       Springfield      1   \n",
      "           Scheherazade Op.35 - 1. Largo e maestoso          Shelbyville      1   \n",
      "           String Quartet No.17 in B flat K.458 -\"The Hun... Shelbyville      1   \n",
      "...                                                                         ...   \n",
      "Wednesday 酒歌                                                 Shelbyville      1   \n",
      "          쉼표                                                 Shelbyville      1   \n",
      "          이리와봐 Come Here                                     Shelbyville      1   \n",
      "          지금 여기 이곳에서 (Inst.)  지금 여기 이곳에서                     Springfield      1   \n",
      "          푸른 기억의 바다                                          Shelbyville      1   \n",
      "\n",
      "                                                                          time  \n",
      "day       track                                              city               \n",
      "Friday     Cello Concerto No.1 Op.107 - 2. Moderato          Springfield     1  \n",
      "           Concerto For Violin And Strings In E Op.8 No.1... Springfield     1  \n",
      "           Poppin Tags                                       Springfield     1  \n",
      "           Scheherazade Op.35 - 1. Largo e maestoso          Shelbyville     1  \n",
      "           String Quartet No.17 in B flat K.458 -\"The Hun... Shelbyville     1  \n",
      "...                                                                        ...  \n",
      "Wednesday 酒歌                                                 Shelbyville     1  \n",
      "          쉼표                                                 Shelbyville     1  \n",
      "          이리와봐 Come Here                                     Shelbyville     1  \n",
      "          지금 여기 이곳에서 (Inst.)  지금 여기 이곳에서                     Springfield     1  \n",
      "          푸른 기억의 바다                                          Shelbyville     1  \n",
      "\n",
      "[51268 rows x 4 columns]\n"
     ]
    }
   ],
   "source": [
    "# Calcula las canciones reproducidas en cada uno de los dos días\n",
    "print(df.groupby('day')['track'].count())\n",
    "print(df.groupby(['day','track','city']).count())"
   ]
  },
  {
   "cell_type": "markdown",
   "metadata": {
    "id": "q537Zl8oDNfH"
   },
   "source": [
    "Observaciones:\n",
    "\n",
    "- Viernes: Máxima actividad global (21,840 reproducciones), liderada por Springfield (15,945)\n",
    "- Lunes: Segunda mayor actividad (21,354), nuevamente dominada por Springfield (15,740)\n",
    "- Miércoles: Shelbyville tiene su pico de actividad (5,895 vs 5,614 en lunes)"
   ]
  },
  {
   "cell_type": "code",
   "execution_count": 34,
   "metadata": {
    "id": "Nz3GdQB1_Zcu"
   },
   "outputs": [
    {
     "name": "stdout",
     "output_type": "stream",
     "text": [
      "        user_id                                 track  \\\n",
      "0      FFB692EC                     Kamigata To Boots   \n",
      "298    FFB692EC                                 Bells   \n",
      "3918   FFB692EC                            Get A Clue   \n",
      "5549   FFB692EC        The Curse of Blackbeard Lavoie   \n",
      "5958   FFB692EC              And Maybe God Is a Train   \n",
      "9538   FFB692EC                            Lunchblood   \n",
      "14275  FFB692EC                         Powerlessness   \n",
      "22585  FFB692EC                            Wake Me Up   \n",
      "29603  FFB692EC                            Space Port   \n",
      "29699  FFB692EC  Col (Picture Of Everything You Lost)   \n",
      "31070  FFB692EC                        Tax Revolution   \n",
      "41385  FFB692EC                              The Fool   \n",
      "44408  FFB692EC                     Fall At Your Feet   \n",
      "48890  FFB692EC                      Convertible love   \n",
      "50473  FFB692EC                        Nobody Like Me   \n",
      "52688  FFB692EC                             All Along   \n",
      "53735  FFB692EC                              Constant   \n",
      "60383  FFB692EC                           Rock & Roll   \n",
      "60879  FFB692EC                                  Stay   \n",
      "\n",
      "                                   artist        genre         city  \\\n",
      "0                        The Mass Missile         rock  Shelbyville   \n",
      "298                          Seth Lakeman        world  Shelbyville   \n",
      "3918                             The Putz         punk  Shelbyville   \n",
      "5549                     Hoist the Colors  alternative  Shelbyville   \n",
      "5958                          Ezra Furman  alternative  Shelbyville   \n",
      "9538                       Sunshine State  alternative  Shelbyville   \n",
      "14275                     Jeff Rosenstock         punk  Shelbyville   \n",
      "22585                        The Once Was         rock  Shelbyville   \n",
      "29603                         Walter Lupi          pop  Shelbyville   \n",
      "29699                                Umin   electronic  Shelbyville   \n",
      "31070                      Roadside Bombs         rock  Shelbyville   \n",
      "41385                         The Marshes         punk  Shelbyville   \n",
      "44408                          Boy & Bear          pop  Shelbyville   \n",
      "48890  Blood Sweat Drum 'n' Bass Big Band         jazz  Shelbyville   \n",
      "50473                         Huntingtons          pop  Shelbyville   \n",
      "52688               The Franklin Electric  alternative  Shelbyville   \n",
      "53735                     Among Criminals         rock  Shelbyville   \n",
      "60383                      Tanita Tikaram          pop  Shelbyville   \n",
      "60879                  Mathew James White         folk  Shelbyville   \n",
      "\n",
      "                 time        day  \n",
      "0     0 days 20:28:33  Wednesday  \n",
      "298   0 days 09:29:59     Monday  \n",
      "3918  0 days 20:29:11  Wednesday  \n",
      "5549  0 days 20:29:43  Wednesday  \n",
      "5958  0 days 09:49:12     Monday  \n",
      "9538  0 days 20:29:36  Wednesday  \n",
      "14275 0 days 20:28:49  Wednesday  \n",
      "22585 0 days 09:50:52     Monday  \n",
      "29603 0 days 09:29:50     Monday  \n",
      "29699 0 days 09:29:35     Monday  \n",
      "31070 0 days 20:28:24  Wednesday  \n",
      "41385 0 days 09:50:01     Monday  \n",
      "44408 0 days 09:36:12     Monday  \n",
      "48890 0 days 09:30:36     Monday  \n",
      "50473 0 days 20:29:16  Wednesday  \n",
      "52688 0 days 09:35:50     Monday  \n",
      "53735 0 days 20:29:39  Wednesday  \n",
      "60383 0 days 09:36:02     Monday  \n",
      "60879 0 days 09:35:26     Monday  \n",
      "user_id    19\n",
      "track      19\n",
      "artist     19\n",
      "genre      19\n",
      "city       19\n",
      "time       19\n",
      "day        19\n",
      "dtype: int64\n",
      "1        55204538\n",
      "8        8FA1D3BE\n",
      "13       CC782B0F\n",
      "34       B416A40F\n",
      "42       F9AD83A7\n",
      "           ...   \n",
      "65071    92378E24\n",
      "65072    C532021D\n",
      "65076    C5E3A0D5\n",
      "65077    321D0506\n",
      "65078    3A64EF84\n",
      "Name: user_id, Length: 15945, dtype: object\n",
      "15945\n"
     ]
    }
   ],
   "source": [
    "print(df[df['user_id']=='FFB692EC'])\n",
    "print(df[df['user_id']=='FFB692EC'].count())\n",
    "# Declara la función number_tracks() con dos parámetros: day= y city=.\n",
    "def number_tracks(data, day, city):\n",
    "    # Almacena las filas del DataFrame donde el valor en la columna 'day' es igual al parámetro day=\n",
    "    # Filtra las filas donde el valor en la columna 'city' es igual al parámetro city=\n",
    "    # Extrae la columna 'user_id' de la tabla filtrada y aplica el método count()\n",
    "    # Devuelve el número de valores de la columna 'user_id'\n",
    "    filtered = data[(data['day'] == day) & (data['city'] == city)]\n",
    "    return filtered['user_id']\n",
    "print(number_tracks(df,'Friday','Springfield'))\n",
    "print(number_tracks(df,'Friday','Springfield').count())"
   ]
  },
  {
   "cell_type": "code",
   "execution_count": 35,
   "metadata": {
    "id": "rJcRATNQ_Zcu"
   },
   "outputs": [
    {
     "name": "stdout",
     "output_type": "stream",
     "text": [
      "15740\n"
     ]
    }
   ],
   "source": [
    "# El número de canciones reproducidas en Springfield el lunes\n",
    "print(number_tracks(df,'Monday','Springfield').count())"
   ]
  },
  {
   "cell_type": "code",
   "execution_count": 36,
   "metadata": {
    "id": "hq_ncZ5T_Zcu"
   },
   "outputs": [
    {
     "name": "stdout",
     "output_type": "stream",
     "text": [
      "5614\n"
     ]
    }
   ],
   "source": [
    "# El número de canciones reproducidas en Shelbyville el lunes\n",
    "print(number_tracks(df,'Monday','Shelbyville').count())"
   ]
  },
  {
   "cell_type": "code",
   "execution_count": 37,
   "metadata": {
    "id": "vYDw5u_K_Zcu"
   },
   "outputs": [
    {
     "name": "stdout",
     "output_type": "stream",
     "text": [
      "15945\n"
     ]
    }
   ],
   "source": [
    "# El número de canciones reproducidas en Springfield el viernes\n",
    "print(number_tracks(df,'Friday','Springfield').count())"
   ]
  },
  {
   "cell_type": "code",
   "execution_count": 38,
   "metadata": {
    "id": "8_yzFtW3_Zcu"
   },
   "outputs": [
    {
     "name": "stdout",
     "output_type": "stream",
     "text": [
      "5895\n"
     ]
    }
   ],
   "source": [
    "# El número de canciones reproducidas en Shelbyville el viernes\n",
    "print(number_tracks(df,'Friday','Shelbyville').count())"
   ]
  },
  {
   "cell_type": "markdown",
   "metadata": {
    "id": "ykKQ0N65_Zcv"
   },
   "source": [
    "# Conclusiones <a id='end'></a>"
   ]
  },
  {
   "cell_type": "markdown",
   "metadata": {
    "id": "7igqKDUBwPQt"
   },
   "source": [
    "1. Patrones clave:\n",
    "- Los usuarios de Springfield son 2.3 veces más activos\n",
    "- Ambos ciudades incrementan actividad en viernes (+12% vs lunes en Springfield)\n",
    "- Shelbyville tiene comportamiento atípico con mayor uso los miércoles\n",
    "2. Problemas resueltos:\n",
    "- Normalización de géneros (ej: unificación de \"hip-hop\")\n",
    "- Eliminación de 3,826 duplicados\n",
    "- Imputación de valores ausentes en track, artist y genre con \"unknown\"\n",
    "3. Si existe variacion significativa:\n",
    "- Springfield consume más música los viernes (15,945 vs 5,895 en Shelbyville)\n",
    "- Shelbyville tiene perfil atípico con pico los miércoles\n",
    "- Géneros dominantes difieren: Springfield prefiere classical, dance y pop, Shelbyville rock y ruspop"
   ]
  }
 ],
 "metadata": {
  "colab": {
   "collapsed_sections": [
    "E0vqbgi9ay0H",
    "VUC88oWjTJw2"
   ],
   "provenance": []
  },
  "kernelspec": {
   "display_name": "Python 3 (ipykernel)",
   "language": "python",
   "name": "python3"
  },
  "language_info": {
   "codemirror_mode": {
    "name": "ipython",
    "version": 3
   },
   "file_extension": ".py",
   "mimetype": "text/x-python",
   "name": "python",
   "nbconvert_exporter": "python",
   "pygments_lexer": "ipython3",
   "version": "3.9.23"
  },
  "toc": {
   "base_numbering": 1,
   "nav_menu": {},
   "number_sections": true,
   "sideBar": true,
   "skip_h1_title": true,
   "title_cell": "Table of Contents",
   "title_sidebar": "Contents",
   "toc_cell": false,
   "toc_position": {},
   "toc_section_display": true,
   "toc_window_display": false
  }
 },
 "nbformat": 4,
 "nbformat_minor": 4
}
