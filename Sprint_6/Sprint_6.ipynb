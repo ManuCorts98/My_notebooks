{
 "cells": [
  {
   "metadata": {},
   "cell_type": "markdown",
   "source": "Paso 1. Cargar el archivo y librerias",
   "id": "59d20e8f529d00b1"
  },
  {
   "metadata": {
    "ExecuteTime": {
     "end_time": "2025-07-10T00:41:15.114420Z",
     "start_time": "2025-07-10T00:41:15.069772Z"
    }
   },
   "cell_type": "code",
   "source": [
    "import pandas as pd\n",
    "import numpy as np\n",
    "import matplotlib.pyplot as plt\n",
    "from scipy.stats import levene, ttest_ind\n",
    "\n",
    "games = pd.read_csv('games.csv')"
   ],
   "id": "initial_id",
   "outputs": [],
   "execution_count": 309
  },
  {
   "metadata": {},
   "cell_type": "markdown",
   "source": "Paso 2. Preparacion de los datos",
   "id": "437a793a281f24bd"
  },
  {
   "metadata": {
    "ExecuteTime": {
     "end_time": "2025-07-10T00:41:15.330476Z",
     "start_time": "2025-07-10T00:41:15.239692Z"
    }
   },
   "cell_type": "code",
   "source": "games.info()",
   "id": "6456adc70385909e",
   "outputs": [
    {
     "name": "stdout",
     "output_type": "stream",
     "text": [
      "<class 'pandas.core.frame.DataFrame'>\n",
      "RangeIndex: 16715 entries, 0 to 16714\n",
      "Data columns (total 11 columns):\n",
      " #   Column           Non-Null Count  Dtype  \n",
      "---  ------           --------------  -----  \n",
      " 0   Name             16713 non-null  object \n",
      " 1   Platform         16715 non-null  object \n",
      " 2   Year_of_Release  16446 non-null  float64\n",
      " 3   Genre            16713 non-null  object \n",
      " 4   NA_sales         16715 non-null  float64\n",
      " 5   EU_sales         16715 non-null  float64\n",
      " 6   JP_sales         16715 non-null  float64\n",
      " 7   Other_sales      16715 non-null  float64\n",
      " 8   Critic_Score     8137 non-null   float64\n",
      " 9   User_Score       10014 non-null  object \n",
      " 10  Rating           9949 non-null   object \n",
      "dtypes: float64(6), object(5)\n",
      "memory usage: 1.4+ MB\n"
     ]
    }
   ],
   "execution_count": 310
  },
  {
   "metadata": {
    "ExecuteTime": {
     "end_time": "2025-07-10T00:41:15.465854Z",
     "start_time": "2025-07-10T00:41:15.453518Z"
    }
   },
   "cell_type": "code",
   "source": [
    "games_columns = games.columns\n",
    "print(games_columns)"
   ],
   "id": "d1ad5eeb00b054c9",
   "outputs": [
    {
     "name": "stdout",
     "output_type": "stream",
     "text": [
      "Index(['Name', 'Platform', 'Year_of_Release', 'Genre', 'NA_sales', 'EU_sales',\n",
      "       'JP_sales', 'Other_sales', 'Critic_Score', 'User_Score', 'Rating'],\n",
      "      dtype='object')\n"
     ]
    }
   ],
   "execution_count": 311
  },
  {
   "metadata": {
    "ExecuteTime": {
     "end_time": "2025-07-10T00:41:15.611680Z",
     "start_time": "2025-07-10T00:41:15.579917Z"
    }
   },
   "cell_type": "code",
   "source": [
    "games_columns = [name.lower() for name in games_columns]\n",
    "games.columns = games_columns\n",
    "games.info() #comprobacion de la modificacion en el nombre de las columnas\n",
    "\n",
    "# MODIFIQUE EL NOMBRE DE LAS COLUMNAS PARA QUE SEA MAS LEGIBLE AL MOMENTO DE LEER LOS DATOS"
   ],
   "id": "d08bebf0722f5d6",
   "outputs": [
    {
     "name": "stdout",
     "output_type": "stream",
     "text": [
      "<class 'pandas.core.frame.DataFrame'>\n",
      "RangeIndex: 16715 entries, 0 to 16714\n",
      "Data columns (total 11 columns):\n",
      " #   Column           Non-Null Count  Dtype  \n",
      "---  ------           --------------  -----  \n",
      " 0   name             16713 non-null  object \n",
      " 1   platform         16715 non-null  object \n",
      " 2   year_of_release  16446 non-null  float64\n",
      " 3   genre            16713 non-null  object \n",
      " 4   na_sales         16715 non-null  float64\n",
      " 5   eu_sales         16715 non-null  float64\n",
      " 6   jp_sales         16715 non-null  float64\n",
      " 7   other_sales      16715 non-null  float64\n",
      " 8   critic_score     8137 non-null   float64\n",
      " 9   user_score       10014 non-null  object \n",
      " 10  rating           9949 non-null   object \n",
      "dtypes: float64(6), object(5)\n",
      "memory usage: 1.4+ MB\n"
     ]
    }
   ],
   "execution_count": 312
  },
  {
   "metadata": {
    "ExecuteTime": {
     "end_time": "2025-07-10T00:41:15.786564Z",
     "start_time": "2025-07-10T00:41:15.756670Z"
    }
   },
   "cell_type": "code",
   "source": [
    "print(games)\n",
    "print(games['year_of_release'].sample(50))\n",
    "\n",
    "# SAQUE UNA MUESTRA PARA PODER VER COMO SUSTITUIR LOS VALORES AUSENTES EN LA COLUMNA"
   ],
   "id": "5dc5e7112c3aa1ba",
   "outputs": [
    {
     "name": "stdout",
     "output_type": "stream",
     "text": [
      "                                name platform  year_of_release         genre  \\\n",
      "0                         Wii Sports      Wii           2006.0        Sports   \n",
      "1                  Super Mario Bros.      NES           1985.0      Platform   \n",
      "2                     Mario Kart Wii      Wii           2008.0        Racing   \n",
      "3                  Wii Sports Resort      Wii           2009.0        Sports   \n",
      "4           Pokemon Red/Pokemon Blue       GB           1996.0  Role-Playing   \n",
      "...                              ...      ...              ...           ...   \n",
      "16710  Samurai Warriors: Sanada Maru      PS3           2016.0        Action   \n",
      "16711               LMA Manager 2007     X360           2006.0        Sports   \n",
      "16712        Haitaka no Psychedelica      PSV           2016.0     Adventure   \n",
      "16713               Spirits & Spells      GBA           2003.0      Platform   \n",
      "16714            Winning Post 8 2016      PSV           2016.0    Simulation   \n",
      "\n",
      "       na_sales  eu_sales  jp_sales  other_sales  critic_score user_score  \\\n",
      "0         41.36     28.96      3.77         8.45          76.0          8   \n",
      "1         29.08      3.58      6.81         0.77           NaN        NaN   \n",
      "2         15.68     12.76      3.79         3.29          82.0        8.3   \n",
      "3         15.61     10.93      3.28         2.95          80.0          8   \n",
      "4         11.27      8.89     10.22         1.00           NaN        NaN   \n",
      "...         ...       ...       ...          ...           ...        ...   \n",
      "16710      0.00      0.00      0.01         0.00           NaN        NaN   \n",
      "16711      0.00      0.01      0.00         0.00           NaN        NaN   \n",
      "16712      0.00      0.00      0.01         0.00           NaN        NaN   \n",
      "16713      0.01      0.00      0.00         0.00           NaN        NaN   \n",
      "16714      0.00      0.00      0.01         0.00           NaN        NaN   \n",
      "\n",
      "      rating  \n",
      "0          E  \n",
      "1        NaN  \n",
      "2          E  \n",
      "3          E  \n",
      "4        NaN  \n",
      "...      ...  \n",
      "16710    NaN  \n",
      "16711    NaN  \n",
      "16712    NaN  \n",
      "16713    NaN  \n",
      "16714    NaN  \n",
      "\n",
      "[16715 rows x 11 columns]\n",
      "4717     2011.0\n",
      "6240     2000.0\n",
      "13948    2001.0\n",
      "3680     2008.0\n",
      "42       2014.0\n",
      "6067     2008.0\n",
      "11450    2016.0\n",
      "12625    2012.0\n",
      "730      2013.0\n",
      "16371    2014.0\n",
      "4967     2013.0\n",
      "9930     2000.0\n",
      "5031     2003.0\n",
      "3239     2014.0\n",
      "7590     1998.0\n",
      "12591    2015.0\n",
      "8354     2010.0\n",
      "8803     2010.0\n",
      "7834     1997.0\n",
      "2536        NaN\n",
      "13232    2016.0\n",
      "5960     2000.0\n",
      "14791    2007.0\n",
      "10285    2010.0\n",
      "5547     2009.0\n",
      "5655        NaN\n",
      "7778     2016.0\n",
      "366      2001.0\n",
      "2784     2014.0\n",
      "4342     2007.0\n",
      "9324     2001.0\n",
      "9225     2010.0\n",
      "16297    2009.0\n",
      "457      2015.0\n",
      "15868    2007.0\n",
      "5095     1994.0\n",
      "3927     2004.0\n",
      "7918     2010.0\n",
      "6906     2008.0\n",
      "7219     2007.0\n",
      "4691     2014.0\n",
      "11276    2009.0\n",
      "1504     2004.0\n",
      "9765     2013.0\n",
      "12793    2015.0\n",
      "7808     2010.0\n",
      "12529    2005.0\n",
      "3533     2007.0\n",
      "12657    2008.0\n",
      "4737     1995.0\n",
      "Name: year_of_release, dtype: float64\n"
     ]
    }
   ],
   "execution_count": 313
  },
  {
   "metadata": {
    "ExecuteTime": {
     "end_time": "2025-07-10T00:41:15.997892Z",
     "start_time": "2025-07-10T00:41:15.913601Z"
    }
   },
   "cell_type": "code",
   "source": [
    "year_mode = games['year_of_release'].mode()[0]\n",
    "print(year_mode)\n",
    "games['year_of_release'].fillna(year_mode,inplace=True)\n",
    "games['year_of_release'] = games['year_of_release'].astype(int)\n",
    "games.info()\n",
    "\n",
    "# MODIFIQUE LOS VALORES AUSENTES POR EL VALOR QUE MAS SE REPITE (MODA) Y LOS CONVERTI A TIPO ENTERO, PORQUE ES EL MEJOR TIPO DE DATO PARA TRABAJAR HABLANDO DE AÑOS (VALORES DISCRETOS). ADEMAS, USE LA MODA PORQUE USAR LA MEDIA NOS DARIA UN VALOR IRREAL AL DAR VALORES DECIMALES, LA MEDIANA PODRIA SELECCIONAR UN AÑO CON POCOS LANZAMIENTOS Y USAR LA MODA MANTIENE LA INTEGRIDAD DE LOS DATOS Y NOS PODRIA MOSTRAR UN PICO HISTORICO EN CASO DE QUE OTROS JUEGOS HAYAN SIDO LANZADOS ESE MISMO AÑO."
   ],
   "id": "12d278a43f8de81f",
   "outputs": [
    {
     "name": "stdout",
     "output_type": "stream",
     "text": [
      "2008.0\n",
      "<class 'pandas.core.frame.DataFrame'>\n",
      "RangeIndex: 16715 entries, 0 to 16714\n",
      "Data columns (total 11 columns):\n",
      " #   Column           Non-Null Count  Dtype  \n",
      "---  ------           --------------  -----  \n",
      " 0   name             16713 non-null  object \n",
      " 1   platform         16715 non-null  object \n",
      " 2   year_of_release  16715 non-null  int64  \n",
      " 3   genre            16713 non-null  object \n",
      " 4   na_sales         16715 non-null  float64\n",
      " 5   eu_sales         16715 non-null  float64\n",
      " 6   jp_sales         16715 non-null  float64\n",
      " 7   other_sales      16715 non-null  float64\n",
      " 8   critic_score     8137 non-null   float64\n",
      " 9   user_score       10014 non-null  object \n",
      " 10  rating           9949 non-null   object \n",
      "dtypes: float64(5), int64(1), object(5)\n",
      "memory usage: 1.4+ MB\n"
     ]
    },
    {
     "name": "stderr",
     "output_type": "stream",
     "text": [
      "C:\\Users\\manue\\AppData\\Local\\Temp\\ipykernel_11912\\2646585367.py:3: FutureWarning: A value is trying to be set on a copy of a DataFrame or Series through chained assignment using an inplace method.\n",
      "The behavior will change in pandas 3.0. This inplace method will never work because the intermediate object on which we are setting values always behaves as a copy.\n",
      "\n",
      "For example, when doing 'df[col].method(value, inplace=True)', try using 'df.method({col: value}, inplace=True)' or df[col] = df[col].method(value) instead, to perform the operation inplace on the original object.\n",
      "\n",
      "\n",
      "  games['year_of_release'].fillna(year_mode,inplace=True)\n"
     ]
    }
   ],
   "execution_count": 314
  },
  {
   "metadata": {
    "ExecuteTime": {
     "end_time": "2025-07-10T00:41:16.186590Z",
     "start_time": "2025-07-10T00:41:16.126695Z"
    }
   },
   "cell_type": "code",
   "source": [
    "games['critic_score'] = pd.to_numeric(games['critic_score'],errors='coerce')\n",
    "games['user_score'] = pd.to_numeric(games['user_score'],errors='coerce')\n",
    "crit_score = games[games['critic_score'].notna()]['critic_score']\n",
    "user_score = games[games['user_score'].notna()]['user_score']"
   ],
   "id": "e72abd63df4f4af6",
   "outputs": [],
   "execution_count": 315
  },
  {
   "metadata": {
    "ExecuteTime": {
     "end_time": "2025-07-10T00:41:16.691458Z",
     "start_time": "2025-07-10T00:41:16.312302Z"
    }
   },
   "cell_type": "code",
   "source": [
    "plt.figure(figsize=(12,6))\n",
    "plt.hist(crit_score, label='critic_score', bins=30)\n",
    "plt.hist(user_score, label='user_score', bins=30)\n",
    "plt.legend()\n",
    "plt.tight_layout()\n",
    "plt.show()"
   ],
   "id": "dd7de4b24c072a5e",
   "outputs": [
    {
     "data": {
      "text/plain": [
       "<Figure size 1200x600 with 1 Axes>"
      ],
      "image/png": "[encoded data removed]"
     },
     "metadata": {},
     "output_type": "display_data"
    }
   ],
   "execution_count": 316
  },
  {
   "metadata": {},
   "cell_type": "markdown",
   "source": [
    "El grafico se utilizo como referencia para poder decidir si usar la media o mediana para rellenar los datos ausentes.\n",
    "- La distribucion parece simetrica en critic_score y lo mas razonable seria usar el promedio (media), porque las criticas suelen seguir una distribucion normal en juegos bien evaluados y la media preserva el valor central.\n",
    "- La distribucion en user_score indica que estan sesgados los datos o que tiene outliers (datos atipicos), se usara la mediana, debido a la polaridad de los votos de los usuarios, pueden haber haters que votan 0/10 o 10/10 para los fans, por lo que se podria distorsionar la media de manera artificial."
   ],
   "id": "bb0450c8a07bf2ba"
  },
  {
   "metadata": {
    "ExecuteTime": {
     "end_time": "2025-07-10T00:41:16.890580Z",
     "start_time": "2025-07-10T00:41:16.826802Z"
    }
   },
   "cell_type": "code",
   "source": [
    "games['critic_score'].fillna(games['critic_score'].mean(),inplace=True)\n",
    "games['user_score'].fillna(games['user_score'].median(),inplace=True)\n",
    "games.info()\n",
    "print(games.sample(50))"
   ],
   "id": "a4577b5f6b85935d",
   "outputs": [
    {
     "name": "stdout",
     "output_type": "stream",
     "text": [
      "<class 'pandas.core.frame.DataFrame'>\n",
      "RangeIndex: 16715 entries, 0 to 16714\n",
      "Data columns (total 11 columns):\n",
      " #   Column           Non-Null Count  Dtype  \n",
      "---  ------           --------------  -----  \n",
      " 0   name             16713 non-null  object \n",
      " 1   platform         16715 non-null  object \n",
      " 2   year_of_release  16715 non-null  int64  \n",
      " 3   genre            16713 non-null  object \n",
      " 4   na_sales         16715 non-null  float64\n",
      " 5   eu_sales         16715 non-null  float64\n",
      " 6   jp_sales         16715 non-null  float64\n",
      " 7   other_sales      16715 non-null  float64\n",
      " 8   critic_score     16715 non-null  float64\n",
      " 9   user_score       16715 non-null  float64\n",
      " 10  rating           9949 non-null   object \n",
      "dtypes: float64(6), int64(1), object(4)\n",
      "memory usage: 1.4+ MB\n",
      "                                                    name platform  \\\n",
      "7269                         Yoshi Touch & Go (JP sales)       DS   \n",
      "1915                                      Call of Duty 3      PS2   \n",
      "6702                                         Devil Kings      PS2   \n",
      "12458                                        Steins;Gate     X360   \n",
      "7833                                               Hexen      N64   \n",
      "11671                                    Slayers Royal 2      SAT   \n",
      "5177                                 Tom Clancy's HAWX 2     X360   \n",
      "2865                                 XCOM: Enemy Unknown       PC   \n",
      "1101                 Shaun White Snowboarding: Road Trip      Wii   \n",
      "15458                   Dance Dance Revolution Extra Mix       PS   \n",
      "14895                                          AniMates!       DS   \n",
      "6912                         G.I. Joe: The Rise of Cobra     X360   \n",
      "9470                                        Drakengard 2      PS2   \n",
      "15925                        Zoey 101: Field Trip Fiasco       DS   \n",
      "6239                     Army of Two: The Devil's Cartel      PS3   \n",
      "12252                              Flower, Sun, and Rain       DS   \n",
      "16199                           LifeSigns: Surgical Unit       DS   \n",
      "2498                                  Tales of the Abyss      3DS   \n",
      "10397                                Project: Horned Owl       PS   \n",
      "2224                        Teenage Mutant Ninja Turtles      GBA   \n",
      "3034                               Skylanders: Trap Team      PS3   \n",
      "12803              Meitantei Conan: Tantei Ryoku Trainer       DS   \n",
      "5251                  Cabela's Outdoor Adventures (2006)      PS2   \n",
      "2800                                              Croc 2       PS   \n",
      "4795                                     Fighting Vipers      SAT   \n",
      "14736                               Onechanbara Z Kagura     X360   \n",
      "9485                                   Street Fighter IV       PC   \n",
      "16094                          Space Invaders Revolution       DS   \n",
      "16144                             Penguins of Madagascar      Wii   \n",
      "9953                                Dragon Ball: Origins       DS   \n",
      "10225                                             Eragon      PSP   \n",
      "3376                                          SimCity DS       DS   \n",
      "8646                           Power Rangers Double Pack      GBA   \n",
      "1813                                  Jampack Winter '98       PS   \n",
      "14980                          Legend of Kay Anniversary      PS4   \n",
      "4195                                              NHL 97       PS   \n",
      "2530                                         NASCAR 2001       PS   \n",
      "10745                          Pro Evolution Soccer 2016     X360   \n",
      "14744  Kaitou Tenshi Twin Angel: Toki to Sekai no Mei...      PSP   \n",
      "12949                                     PopStar Guitar      Wii   \n",
      "6164        The Urbz: Sims In the City (US weekly sales)       DS   \n",
      "12332                                        Ray Tracers       PS   \n",
      "13171                      Dr. Seuss: Green Eggs and Ham      GBA   \n",
      "16209                                     Serious Sam II       PC   \n",
      "12101  Keroro RPG: Kishi to Musha to Densetsu no Kaizoku       DS   \n",
      "6361                                 NASCAR Thunder 2003       XB   \n",
      "2949                                  Mario Pinball Land      GBA   \n",
      "8699                  Fist of the North Star: Ken's Rage     X360   \n",
      "5524                                   DX Game of Life 2       PS   \n",
      "13212          Sword Art Online: Game Director's Edition      PS4   \n",
      "\n",
      "       year_of_release         genre  na_sales  eu_sales  jp_sales  \\\n",
      "7269              2005      Platform      0.00      0.00      0.22   \n",
      "1915              2006       Shooter      0.89      0.03      0.00   \n",
      "6702              2005        Action      0.03      0.03      0.18   \n",
      "12458             2009     Adventure      0.00      0.00      0.06   \n",
      "7833              1996       Shooter      0.15      0.04      0.00   \n",
      "11671             1998  Role-Playing      0.00      0.00      0.08   \n",
      "5177              2010        Action      0.24      0.09      0.01   \n",
      "2865              2012      Strategy      0.27      0.36      0.00   \n",
      "1101              2008        Sports      0.93      0.56      0.00   \n",
      "15458             2001    Simulation      0.00      0.00      0.02   \n",
      "14895             2007    Simulation      0.02      0.00      0.00   \n",
      "6912              2009        Action      0.17      0.05      0.00   \n",
      "9470              2005  Role-Playing      0.06      0.05      0.00   \n",
      "15925             2007        Action      0.02      0.00      0.00   \n",
      "6239              2013       Shooter      0.11      0.11      0.01   \n",
      "12252             2008     Adventure      0.06      0.00      0.00   \n",
      "16199             2005    Simulation      0.01      0.01      0.00   \n",
      "2498              2011  Role-Playing      0.43      0.19      0.14   \n",
      "10397             1995       Shooter      0.03      0.02      0.05   \n",
      "2224              2003        Action      0.67      0.25      0.00   \n",
      "3034              2014        Action      0.26      0.30      0.00   \n",
      "12803             2007          Misc      0.00      0.00      0.06   \n",
      "5251              2005        Sports      0.17      0.14      0.00   \n",
      "2800              1999      Platform      0.41      0.28      0.00   \n",
      "4795              1995      Fighting      0.00      0.00      0.40   \n",
      "14736             2012        Action      0.00      0.00      0.03   \n",
      "9485              2008      Fighting      0.07      0.05      0.00   \n",
      "16094             2005       Shooter      0.01      0.00      0.00   \n",
      "16144             2014        Action      0.00      0.01      0.00   \n",
      "9953              2008        Action      0.08      0.02      0.00   \n",
      "10225             2006        Action      0.10      0.00      0.00   \n",
      "3376              2007    Simulation      0.33      0.02      0.21   \n",
      "8646              2005        Action      0.11      0.04      0.00   \n",
      "1813              1998          Misc      0.63      0.43      0.00   \n",
      "14980             2015        Action      0.00      0.02      0.00   \n",
      "4195              1996        Sports      0.26      0.18      0.00   \n",
      "2530              2000        Racing      0.45      0.31      0.00   \n",
      "10745             2015        Sports      0.04      0.05      0.00   \n",
      "14744             2011     Adventure      0.00      0.00      0.03   \n",
      "12949             2008          Misc      0.03      0.02      0.00   \n",
      "6164              2004    Simulation      0.26      0.00      0.00   \n",
      "12332             1997        Racing      0.04      0.02      0.00   \n",
      "13171             2003        Action      0.04      0.01      0.00   \n",
      "16209             2005       Shooter      0.00      0.01      0.00   \n",
      "12101             2010  Role-Playing      0.00      0.00      0.07   \n",
      "6361              2002        Racing      0.20      0.06      0.00   \n",
      "2949              2004          Misc      0.50      0.18      0.00   \n",
      "8699              2010        Action      0.07      0.02      0.06   \n",
      "5524              1997          Misc      0.00      0.00      0.31   \n",
      "13212             2015  Role-Playing      0.00      0.00      0.05   \n",
      "\n",
      "       other_sales  critic_score  user_score rating  \n",
      "7269          0.00     68.967679         7.5    NaN  \n",
      "1915          0.15     82.000000         7.4      T  \n",
      "6702          0.01     64.000000         7.4      T  \n",
      "12458         0.00     68.967679         7.5    NaN  \n",
      "7833          0.00     68.967679         7.5    NaN  \n",
      "11671         0.00     68.967679         7.5    NaN  \n",
      "5177          0.03     68.000000         6.3      T  \n",
      "2865          0.08     89.000000         8.2      M  \n",
      "1101          0.16     78.000000         8.7   E10+  \n",
      "15458         0.00     68.967679         7.5    NaN  \n",
      "14895         0.00     33.000000         2.5      E  \n",
      "6912          0.02     42.000000         4.7      T  \n",
      "9470          0.02     58.000000         5.5      M  \n",
      "15925         0.00     31.000000         7.5      E  \n",
      "6239          0.05     58.000000         6.7      M  \n",
      "12252         0.00     54.000000         7.1      T  \n",
      "16199         0.00     61.000000         7.8      T  \n",
      "2498          0.06     75.000000         7.6      T  \n",
      "10397         0.01     68.967679         7.5    NaN  \n",
      "2224          0.02     71.000000         8.8      E  \n",
      "3034          0.11     68.967679         7.0   E10+  \n",
      "12803         0.00     68.967679         7.5    NaN  \n",
      "5251          0.05     68.967679         8.9      T  \n",
      "2800          0.05     68.967679         7.5    NaN  \n",
      "4795          0.00     68.967679         7.5    NaN  \n",
      "14736         0.00     68.967679         7.5    NaN  \n",
      "9485          0.02     91.000000         8.0      T  \n",
      "16094         0.00     49.000000         5.2      E  \n",
      "16144         0.00     68.967679         7.5      E  \n",
      "9953          0.01     78.000000         7.5      T  \n",
      "10225         0.01     59.000000         7.5      T  \n",
      "3376          0.03     69.000000         6.3      E  \n",
      "8646          0.00     68.967679         7.5    NaN  \n",
      "1813          0.07     68.967679         7.5    NaN  \n",
      "14980         0.00     62.000000         6.4   E10+  \n",
      "4195          0.03     68.967679         7.5    NaN  \n",
      "2530          0.05     73.000000         6.1      E  \n",
      "10745         0.01     68.967679         7.0      E  \n",
      "14744         0.00     68.967679         7.5    NaN  \n",
      "12949         0.00     68.967679         7.5      T  \n",
      "6164          0.02     68.967679         7.5    NaN  \n",
      "12332         0.00     68.967679         7.5    NaN  \n",
      "13171         0.00     68.967679         9.0      E  \n",
      "16209         0.00     74.000000         7.0      M  \n",
      "12101         0.00     68.967679         7.5    NaN  \n",
      "6361          0.01     84.000000         7.5      E  \n",
      "2949          0.01     62.000000         4.9      E  \n",
      "8699          0.01     59.000000         7.3      M  \n",
      "5524          0.02     68.967679         7.5    NaN  \n",
      "13212         0.00     68.967679         7.5    NaN  \n"
     ]
    },
    {
     "name": "stderr",
     "output_type": "stream",
     "text": [
      "C:\\Users\\manue\\AppData\\Local\\Temp\\ipykernel_11912\\2341522980.py:1: FutureWarning: A value is trying to be set on a copy of a DataFrame or Series through chained assignment using an inplace method.\n",
      "The behavior will change in pandas 3.0. This inplace method will never work because the intermediate object on which we are setting values always behaves as a copy.\n",
      "\n",
      "For example, when doing 'df[col].method(value, inplace=True)', try using 'df.method({col: value}, inplace=True)' or df[col] = df[col].method(value) instead, to perform the operation inplace on the original object.\n",
      "\n",
      "\n",
      "  games['critic_score'].fillna(games['critic_score'].mean(),inplace=True)\n",
      "C:\\Users\\manue\\AppData\\Local\\Temp\\ipykernel_11912\\2341522980.py:2: FutureWarning: A value is trying to be set on a copy of a DataFrame or Series through chained assignment using an inplace method.\n",
      "The behavior will change in pandas 3.0. This inplace method will never work because the intermediate object on which we are setting values always behaves as a copy.\n",
      "\n",
      "For example, when doing 'df[col].method(value, inplace=True)', try using 'df.method({col: value}, inplace=True)' or df[col] = df[col].method(value) instead, to perform the operation inplace on the original object.\n",
      "\n",
      "\n",
      "  games['user_score'].fillna(games['user_score'].median(),inplace=True)\n"
     ]
    }
   ],
   "execution_count": 317
  },
  {
   "metadata": {
    "ExecuteTime": {
     "end_time": "2025-07-10T00:41:17.070246Z",
     "start_time": "2025-07-10T00:41:17.035720Z"
    }
   },
   "cell_type": "code",
   "source": [
    "# Rellenamos los datos faltantes\n",
    "\n",
    "games['name'].fillna('unknown',inplace=True)\n",
    "games['genre'].fillna('unknown',inplace=True)\n",
    "games['rating'].fillna('unknown',inplace=True)\n",
    "games.info()"
   ],
   "id": "e58eaf430d2d5497",
   "outputs": [
    {
     "name": "stdout",
     "output_type": "stream",
     "text": [
      "<class 'pandas.core.frame.DataFrame'>\n",
      "RangeIndex: 16715 entries, 0 to 16714\n",
      "Data columns (total 11 columns):\n",
      " #   Column           Non-Null Count  Dtype  \n",
      "---  ------           --------------  -----  \n",
      " 0   name             16715 non-null  object \n",
      " 1   platform         16715 non-null  object \n",
      " 2   year_of_release  16715 non-null  int64  \n",
      " 3   genre            16715 non-null  object \n",
      " 4   na_sales         16715 non-null  float64\n",
      " 5   eu_sales         16715 non-null  float64\n",
      " 6   jp_sales         16715 non-null  float64\n",
      " 7   other_sales      16715 non-null  float64\n",
      " 8   critic_score     16715 non-null  float64\n",
      " 9   user_score       16715 non-null  float64\n",
      " 10  rating           16715 non-null  object \n",
      "dtypes: float64(6), int64(1), object(4)\n",
      "memory usage: 1.4+ MB\n"
     ]
    },
    {
     "name": "stderr",
     "output_type": "stream",
     "text": [
      "C:\\Users\\manue\\AppData\\Local\\Temp\\ipykernel_11912\\2689572529.py:3: FutureWarning: A value is trying to be set on a copy of a DataFrame or Series through chained assignment using an inplace method.\n",
      "The behavior will change in pandas 3.0. This inplace method will never work because the intermediate object on which we are setting values always behaves as a copy.\n",
      "\n",
      "For example, when doing 'df[col].method(value, inplace=True)', try using 'df.method({col: value}, inplace=True)' or df[col] = df[col].method(value) instead, to perform the operation inplace on the original object.\n",
      "\n",
      "\n",
      "  games['name'].fillna('unknown',inplace=True)\n",
      "C:\\Users\\manue\\AppData\\Local\\Temp\\ipykernel_11912\\2689572529.py:4: FutureWarning: A value is trying to be set on a copy of a DataFrame or Series through chained assignment using an inplace method.\n",
      "The behavior will change in pandas 3.0. This inplace method will never work because the intermediate object on which we are setting values always behaves as a copy.\n",
      "\n",
      "For example, when doing 'df[col].method(value, inplace=True)', try using 'df.method({col: value}, inplace=True)' or df[col] = df[col].method(value) instead, to perform the operation inplace on the original object.\n",
      "\n",
      "\n",
      "  games['genre'].fillna('unknown',inplace=True)\n",
      "C:\\Users\\manue\\AppData\\Local\\Temp\\ipykernel_11912\\2689572529.py:5: FutureWarning: A value is trying to be set on a copy of a DataFrame or Series through chained assignment using an inplace method.\n",
      "The behavior will change in pandas 3.0. This inplace method will never work because the intermediate object on which we are setting values always behaves as a copy.\n",
      "\n",
      "For example, when doing 'df[col].method(value, inplace=True)', try using 'df.method({col: value}, inplace=True)' or df[col] = df[col].method(value) instead, to perform the operation inplace on the original object.\n",
      "\n",
      "\n",
      "  games['rating'].fillna('unknown',inplace=True)\n"
     ]
    }
   ],
   "execution_count": 318
  },
  {
   "metadata": {
    "ExecuteTime": {
     "end_time": "2025-07-10T00:41:17.291884Z",
     "start_time": "2025-07-10T00:41:17.180537Z"
    }
   },
   "cell_type": "code",
   "source": [
    "games['rating'] = games['rating'].astype('category')\n",
    "games.info()\n",
    "print(games.sample(50))"
   ],
   "id": "d2f81b2612547218",
   "outputs": [
    {
     "name": "stdout",
     "output_type": "stream",
     "text": [
      "<class 'pandas.core.frame.DataFrame'>\n",
      "RangeIndex: 16715 entries, 0 to 16714\n",
      "Data columns (total 11 columns):\n",
      " #   Column           Non-Null Count  Dtype   \n",
      "---  ------           --------------  -----   \n",
      " 0   name             16715 non-null  object  \n",
      " 1   platform         16715 non-null  object  \n",
      " 2   year_of_release  16715 non-null  int64   \n",
      " 3   genre            16715 non-null  object  \n",
      " 4   na_sales         16715 non-null  float64 \n",
      " 5   eu_sales         16715 non-null  float64 \n",
      " 6   jp_sales         16715 non-null  float64 \n",
      " 7   other_sales      16715 non-null  float64 \n",
      " 8   critic_score     16715 non-null  float64 \n",
      " 9   user_score       16715 non-null  float64 \n",
      " 10  rating           16715 non-null  category\n",
      "dtypes: category(1), float64(6), int64(1), object(3)\n",
      "memory usage: 1.3+ MB\n",
      "                                                    name platform  \\\n",
      "7228                              All-Star Baseball 2002       GC   \n",
      "10297                                        NBA Live 16     XOne   \n",
      "4600   The Adventures of Jimmy Neutron Boy Genius: Je...      PS2   \n",
      "15965                                  Full House Kiss 2      PS2   \n",
      "11589                            Tomb Raider: Underworld       PC   \n",
      "10219                                          Planet 51      PS3   \n",
      "11424                           Initial D: Extreme Stage      PS3   \n",
      "12175                                           God Hand      PS2   \n",
      "6361                                 NASCAR Thunder 2003       XB   \n",
      "9821                                    Densha De Go! 64      N64   \n",
      "15339                                     Sugoi Hebereke     SNES   \n",
      "4878                                         NBA Live 09      PS2   \n",
      "16431                                        Whac-A-Mole      GBA   \n",
      "3598                     Yu-Gi-Oh! Reshef of Destruction      GBA   \n",
      "1521                                  Resident Evil Zero       GC   \n",
      "632                                      Final Fantasy V     SNES   \n",
      "5663                       Cabela's Dangerous Hunts 2011     X360   \n",
      "13873                                        Dead Rising      PS4   \n",
      "12627                                              Trapt      PS2   \n",
      "13293              Treasure Report: Kikai Jikake no Isan       DS   \n",
      "13841                         Resident Evil: Revelations       PC   \n",
      "1760                             Medal of Honor Heroes 2      PSP   \n",
      "5786                                 The Incredible Hulk      Wii   \n",
      "15687  Summon Night Granthese: Horobi no Ken to Yakus...      PS2   \n",
      "9585                                         Surf Riders       PS   \n",
      "15147                             DemiKids: Dark Version      GBA   \n",
      "5227                       Dance Dance Revolution 3rdMix       PS   \n",
      "9715             Puzzle Quest: Challenge of the Warlords      PS2   \n",
      "2426                                          Pictionary      Wii   \n",
      "7468                         X-Men: Children of the Atom      SAT   \n",
      "11336               Disney's Donald Duck: Goin' Quackers      PS2   \n",
      "11912                        Discovery Kids: Parrot Pals       DS   \n",
      "523                          Need for Speed: Most Wanted      PS3   \n",
      "343                                               MySims       DS   \n",
      "9940                                           Wipeout 2      PS3   \n",
      "11300  Pachitte Chonmage Tatsujin 13: Pachinko Hissat...      PS2   \n",
      "13383              Winter Sports 3: The Great Tournament      Wii   \n",
      "6548     Lemony Snicket's A Series of Unfortunate Events       GC   \n",
      "15956                                  San Goku Shi DS 2       DS   \n",
      "4373                             Silent Hill: Homecoming     X360   \n",
      "15757    Nobunaga no Yabou: Soutensoku with Power-Up Kit      PSP   \n",
      "10758                         Star Wars: Lethal Alliance       DS   \n",
      "16485                                  Poker for Dummies       PC   \n",
      "16545                        Madagascar: Escape 2 Africa       PC   \n",
      "10634                                 Milo's Astro Lanes      N64   \n",
      "5497                          Disgaea 2: Cursed Memories      PS2   \n",
      "12026                 GunParade Orchestra: Shiro no Shou      PS2   \n",
      "1639                                             Pac-Man      NES   \n",
      "14826                                   Warship Gunner 2      PS2   \n",
      "15998                                        Jet Impulse       DS   \n",
      "\n",
      "       year_of_release         genre  na_sales  eu_sales  jp_sales  \\\n",
      "7228              2001        Sports      0.17      0.04      0.00   \n",
      "10297             2015        Sports      0.09      0.01      0.00   \n",
      "4600              2003        Action      0.21      0.16      0.00   \n",
      "15965             2006     Adventure      0.00      0.00      0.02   \n",
      "11589             2008        Action      0.00      0.06      0.00   \n",
      "10219             2009        Action      0.07      0.03      0.00   \n",
      "11424             2008        Racing      0.00      0.00      0.08   \n",
      "12175             2006        Action      0.00      0.00      0.07   \n",
      "6361              2002        Racing      0.20      0.06      0.00   \n",
      "9821              1999    Simulation      0.00      0.00      0.05   \n",
      "15339             1994      Fighting      0.00      0.00      0.02   \n",
      "4878              2008        Sports      0.32      0.01      0.01   \n",
      "16431             2005        Puzzle      0.01      0.00      0.00   \n",
      "3598              2003      Strategy      0.40      0.15      0.00   \n",
      "1521              2002        Action      0.54      0.27      0.45   \n",
      "632               1992  Role-Playing      0.00      0.00      2.43   \n",
      "5663              2010        Sports      0.28      0.01      0.00   \n",
      "13873             2016        Action      0.02      0.00      0.01   \n",
      "12627             2005        Action      0.03      0.02      0.00   \n",
      "13293             2011     Adventure      0.00      0.00      0.05   \n",
      "13841             2013        Action      0.00      0.04      0.00   \n",
      "1760              2007       Shooter      0.50      0.39      0.02   \n",
      "5786              2008        Action      0.28      0.01      0.00   \n",
      "15687             2010  Role-Playing      0.00      0.00      0.02   \n",
      "9585              1999        Sports      0.07      0.05      0.00   \n",
      "15147             2002  Role-Playing      0.02      0.01      0.00   \n",
      "5227              2000    Simulation      0.00      0.00      0.33   \n",
      "9715              2007        Puzzle      0.06      0.05      0.00   \n",
      "2426              2010        Puzzle      0.60      0.19      0.00   \n",
      "7468              1995      Fighting      0.00      0.00      0.21   \n",
      "11336             2000      Platform      0.04      0.03      0.00   \n",
      "11912             2009    Simulation      0.07      0.00      0.00   \n",
      "523               2012        Racing      0.71      1.46      0.06   \n",
      "343               2007    Simulation      1.58      1.59      0.08   \n",
      "9940              2011          Misc      0.11      0.00      0.00   \n",
      "11300             2007          Misc      0.00      0.00      0.08   \n",
      "13383             2010        Sports      0.02      0.02      0.00   \n",
      "6548              2004      Platform      0.20      0.05      0.00   \n",
      "15956             2007      Strategy      0.00      0.00      0.02   \n",
      "4373              2008        Action      0.25      0.15      0.00   \n",
      "15757             2011      Strategy      0.00      0.00      0.02   \n",
      "10758             2006        Action      0.08      0.01      0.00   \n",
      "16485             2008          Misc      0.00      0.01      0.00   \n",
      "16545             2008        Action      0.01      0.00      0.00   \n",
      "10634             1998        Sports      0.08      0.02      0.00   \n",
      "5497              2006  Role-Playing      0.09      0.07      0.15   \n",
      "12026             2006     Adventure      0.00      0.00      0.07   \n",
      "1639              1984        Puzzle      0.27      0.08      0.85   \n",
      "14826             2006    Simulation      0.01      0.01      0.00   \n",
      "15998             2008    Simulation      0.00      0.00      0.02   \n",
      "\n",
      "       other_sales  critic_score  user_score   rating  \n",
      "7228          0.01     66.000000         5.6        E  \n",
      "10297         0.01     60.000000         5.6        E  \n",
      "4600          0.05     68.967679         7.5  unknown  \n",
      "15965         0.00     68.967679         7.5  unknown  \n",
      "11589         0.01     80.000000         7.7        T  \n",
      "10219         0.01     50.000000         7.5        E  \n",
      "11424         0.00     68.967679         7.5  unknown  \n",
      "12175         0.00     73.000000         7.7        M  \n",
      "6361          0.01     84.000000         7.5        E  \n",
      "9821          0.07     68.967679         7.5  unknown  \n",
      "15339         0.00     68.967679         7.5  unknown  \n",
      "4878          0.05     68.967679         7.4        E  \n",
      "16431         0.00     68.967679         7.5        E  \n",
      "3598          0.01     68.967679         7.5  unknown  \n",
      "1521          0.04     68.967679         7.5  unknown  \n",
      "632           0.02     68.967679         7.5  unknown  \n",
      "5663          0.02     55.000000         7.5        T  \n",
      "13873         0.01     78.000000         6.6        M  \n",
      "12627         0.01     60.000000         7.9        M  \n",
      "13293         0.00     68.967679         7.5  unknown  \n",
      "13841         0.00     77.000000         7.0        M  \n",
      "1760          0.25     69.000000         7.3        T  \n",
      "5786          0.02     46.000000         7.5        T  \n",
      "15687         0.00     68.967679         7.5  unknown  \n",
      "9585          0.01     64.000000         7.5        E  \n",
      "15147         0.00     68.967679         7.5  unknown  \n",
      "5227          0.02     68.967679         7.5  unknown  \n",
      "9715          0.02     78.000000         7.0     E10+  \n",
      "2426          0.07     71.000000         7.5        E  \n",
      "7468          0.00     68.967679         7.5  unknown  \n",
      "11336         0.01     73.000000         7.3        E  \n",
      "11912         0.01     68.967679         7.5        E  \n",
      "523           0.58     68.967679         7.5  unknown  \n",
      "343           0.41     67.000000         7.3        E  \n",
      "9940          0.01     68.967679         7.5     E10+  \n",
      "11300         0.00     68.967679         7.5  unknown  \n",
      "13383         0.00     68.967679         7.5  unknown  \n",
      "6548          0.01     68.967679         7.5  unknown  \n",
      "15956         0.00     68.967679         7.5  unknown  \n",
      "4373          0.04     70.000000         6.9        M  \n",
      "15757         0.00     68.967679         7.5  unknown  \n",
      "10758         0.01     57.000000         7.5     E10+  \n",
      "16485         0.00     68.967679         7.5        T  \n",
      "16545         0.00     58.000000         8.0     E10+  \n",
      "10634         0.00     68.967679         7.5  unknown  \n",
      "5497          0.02     84.000000         6.4        T  \n",
      "12026         0.00     68.967679         7.5  unknown  \n",
      "1639          0.02     68.967679         7.5  unknown  \n",
      "14826         0.00     62.000000         8.5        T  \n",
      "15998         0.00     68.967679         7.5  unknown  \n"
     ]
    }
   ],
   "execution_count": 319
  },
  {
   "metadata": {},
   "cell_type": "markdown",
   "source": [
    "La columna year_of release se convirtió a tipo entero (int) para garantizar un manejo preciso y eficiente de los años, ya que:\n",
    "- Los años son valores discretos (sin decimales).\n",
    "- Las operaciones aritméticas y filtros son más rápidas con enteros.\n",
    "- Evita errores en análisis temporales (ej.: agrupaciones por año).\n",
    "\n",
    "La columna rating se modifico a un tipo category para\n",
    "- Optimizar la memoria\n",
    "- Acelerar operaciones\n",
    "- Controlar el orden"
   ],
   "id": "cc6e78ddd0adbdd2"
  },
  {
   "metadata": {
    "ExecuteTime": {
     "end_time": "2025-07-10T00:41:17.452472Z",
     "start_time": "2025-07-10T00:41:17.420748Z"
    }
   },
   "cell_type": "code",
   "source": [
    "# BUSCAMOS VALORES DUPLICADOS\n",
    "print(games.duplicated().sum())"
   ],
   "id": "cd20fffff7cdf253",
   "outputs": [
    {
     "name": "stdout",
     "output_type": "stream",
     "text": [
      "0\n"
     ]
    }
   ],
   "execution_count": 320
  },
  {
   "metadata": {
    "ExecuteTime": {
     "end_time": "2025-07-10T00:41:17.625661Z",
     "start_time": "2025-07-10T00:41:17.607584Z"
    }
   },
   "cell_type": "code",
   "source": [
    "ventas_totales = games[['eu_sales','jp_sales','na_sales','other_sales']].sum().sum()\n",
    "print(f\"Ventas totales de EU, NA, JP y other: {ventas_totales}\")"
   ],
   "id": "4439d4809efef0e1",
   "outputs": [
    {
     "name": "stdout",
     "output_type": "stream",
     "text": [
      "Ventas totales de EU, NA, JP y other: 8915.710000000001\n"
     ]
    }
   ],
   "execution_count": 321
  },
  {
   "metadata": {
    "ExecuteTime": {
     "end_time": "2025-07-10T00:41:17.857668Z",
     "start_time": "2025-07-10T00:41:17.810675Z"
    }
   },
   "cell_type": "code",
   "source": [
    "games['sales_per_platform'] = games.groupby('name')[['eu_sales','jp_sales','na_sales','other_sales']].transform('sum').sum(axis=1)\n",
    "print(games[['name','sales_per_platform']])"
   ],
   "id": "7144b52d599a432",
   "outputs": [
    {
     "name": "stdout",
     "output_type": "stream",
     "text": [
      "                                name  sales_per_platform\n",
      "0                         Wii Sports               82.54\n",
      "1                  Super Mario Bros.               45.31\n",
      "2                     Mario Kart Wii               35.52\n",
      "3                  Wii Sports Resort               32.77\n",
      "4           Pokemon Red/Pokemon Blue               31.38\n",
      "...                              ...                 ...\n",
      "16710  Samurai Warriors: Sanada Maru                0.05\n",
      "16711               LMA Manager 2007                0.01\n",
      "16712        Haitaka no Psychedelica                0.01\n",
      "16713               Spirits & Spells                0.02\n",
      "16714            Winning Post 8 2016                0.03\n",
      "\n",
      "[16715 rows x 2 columns]\n"
     ]
    }
   ],
   "execution_count": 322
  },
  {
   "metadata": {
    "ExecuteTime": {
     "end_time": "2025-07-10T00:41:18.046194Z",
     "start_time": "2025-07-10T00:41:18.010932Z"
    }
   },
   "cell_type": "code",
   "source": [
    "games.rename(columns={'sales_per_platform':'sales_per_name'},inplace=True)\n",
    "print(games)"
   ],
   "id": "adaebbfc57f4e481",
   "outputs": [
    {
     "name": "stdout",
     "output_type": "stream",
     "text": [
      "                                name platform  year_of_release         genre  \\\n",
      "0                         Wii Sports      Wii             2006        Sports   \n",
      "1                  Super Mario Bros.      NES             1985      Platform   \n",
      "2                     Mario Kart Wii      Wii             2008        Racing   \n",
      "3                  Wii Sports Resort      Wii             2009        Sports   \n",
      "4           Pokemon Red/Pokemon Blue       GB             1996  Role-Playing   \n",
      "...                              ...      ...              ...           ...   \n",
      "16710  Samurai Warriors: Sanada Maru      PS3             2016        Action   \n",
      "16711               LMA Manager 2007     X360             2006        Sports   \n",
      "16712        Haitaka no Psychedelica      PSV             2016     Adventure   \n",
      "16713               Spirits & Spells      GBA             2003      Platform   \n",
      "16714            Winning Post 8 2016      PSV             2016    Simulation   \n",
      "\n",
      "       na_sales  eu_sales  jp_sales  other_sales  critic_score  user_score  \\\n",
      "0         41.36     28.96      3.77         8.45     76.000000         8.0   \n",
      "1         29.08      3.58      6.81         0.77     68.967679         7.5   \n",
      "2         15.68     12.76      3.79         3.29     82.000000         8.3   \n",
      "3         15.61     10.93      3.28         2.95     80.000000         8.0   \n",
      "4         11.27      8.89     10.22         1.00     68.967679         7.5   \n",
      "...         ...       ...       ...          ...           ...         ...   \n",
      "16710      0.00      0.00      0.01         0.00     68.967679         7.5   \n",
      "16711      0.00      0.01      0.00         0.00     68.967679         7.5   \n",
      "16712      0.00      0.00      0.01         0.00     68.967679         7.5   \n",
      "16713      0.01      0.00      0.00         0.00     68.967679         7.5   \n",
      "16714      0.00      0.00      0.01         0.00     68.967679         7.5   \n",
      "\n",
      "        rating  sales_per_name  \n",
      "0            E           82.54  \n",
      "1      unknown           45.31  \n",
      "2            E           35.52  \n",
      "3            E           32.77  \n",
      "4      unknown           31.38  \n",
      "...        ...             ...  \n",
      "16710  unknown            0.05  \n",
      "16711  unknown            0.01  \n",
      "16712  unknown            0.01  \n",
      "16713  unknown            0.02  \n",
      "16714  unknown            0.03  \n",
      "\n",
      "[16715 rows x 12 columns]\n"
     ]
    }
   ],
   "execution_count": 323
  },
  {
   "metadata": {},
   "cell_type": "markdown",
   "source": "Paso 3. Analisis de datos",
   "id": "38098f83ea5fdbd"
  },
  {
   "metadata": {
    "ExecuteTime": {
     "end_time": "2025-07-10T00:41:18.271006Z",
     "start_time": "2025-07-10T00:41:18.246967Z"
    }
   },
   "cell_type": "code",
   "source": [
    "games_per_year = games.groupby('year_of_release')['name'].count().reset_index(name='total_games')\n",
    "print(games_per_year)"
   ],
   "id": "62c06e7f223eaffd",
   "outputs": [
    {
     "name": "stdout",
     "output_type": "stream",
     "text": [
      "    year_of_release  total_games\n",
      "0              1980            9\n",
      "1              1981           46\n",
      "2              1982           36\n",
      "3              1983           17\n",
      "4              1984           14\n",
      "5              1985           14\n",
      "6              1986           21\n",
      "7              1987           16\n",
      "8              1988           15\n",
      "9              1989           17\n",
      "10             1990           16\n",
      "11             1991           41\n",
      "12             1992           43\n",
      "13             1993           62\n",
      "14             1994          121\n",
      "15             1995          219\n",
      "16             1996          263\n",
      "17             1997          289\n",
      "18             1998          379\n",
      "19             1999          338\n",
      "20             2000          350\n",
      "21             2001          482\n",
      "22             2002          829\n",
      "23             2003          775\n",
      "24             2004          762\n",
      "25             2005          939\n",
      "26             2006         1006\n",
      "27             2007         1197\n",
      "28             2008         1696\n",
      "29             2009         1426\n",
      "30             2010         1255\n",
      "31             2011         1136\n",
      "32             2012          653\n",
      "33             2013          544\n",
      "34             2014          581\n",
      "35             2015          606\n",
      "36             2016          502\n"
     ]
    }
   ],
   "execution_count": 324
  },
  {
   "metadata": {},
   "cell_type": "markdown",
   "source": [
    "1980 - 1993: era temprana (epoca de desarrollo):\n",
    "- volumenes bajos: min de 9, max de 62.\n",
    "\n",
    "1994 - 2006: Expansion, primeras consolas (playstation, xbox, wii)\n",
    "- crecimiento de 121 a 1006\n",
    "\n",
    "2007 - 2011: maximo historico\n",
    "- Apogeo del xbox360, playstation3 y wii\n",
    "- Pico historico en el 2008 con 1696 juegos\n",
    "\n",
    "2012 - 2015: reduccion de desarrollo / declive\n",
    "- Transicion de consolas playstation4, xboxOne"
   ],
   "id": "f2ce80ac9a4a955a"
  },
  {
   "metadata": {
    "ExecuteTime": {
     "end_time": "2025-07-10T00:41:18.471045Z",
     "start_time": "2025-07-10T00:41:18.427528Z"
    }
   },
   "cell_type": "code",
   "source": [
    "sales_per_platform = games.groupby('platform')[['eu_sales','jp_sales','na_sales','other_sales']].sum()\n",
    "sales_per_platform['total_sales'] = sales_per_platform.sum(axis=1)\n",
    "sales_per_platform = sales_per_platform.sort_values('total_sales',ascending=False)\n",
    "print(sales_per_platform)"
   ],
   "id": "1f01af20d0b6a32",
   "outputs": [
    {
     "name": "stdout",
     "output_type": "stream",
     "text": [
      "          eu_sales  jp_sales  na_sales  other_sales  total_sales\n",
      "platform                                                        \n",
      "PS2         339.29    139.20    583.84       193.44      1255.77\n",
      "X360        270.76     12.43    602.47        85.76       971.42\n",
      "PS3         330.29     80.19    393.49       135.68       939.65\n",
      "Wii         262.21     69.33    496.90        79.07       907.51\n",
      "DS          188.89    175.57    382.40        59.26       806.12\n",
      "PS          213.61    139.82    336.52        40.91       730.86\n",
      "GBA          75.25     47.33    187.54         7.73       317.85\n",
      "PS4         141.09     15.96    108.74        48.35       314.14\n",
      "PSP          66.68     76.78    109.17        41.42       294.05\n",
      "PC          142.44      0.17     94.53        22.38       259.52\n",
      "3DS          61.48    100.67     83.49        13.36       259.00\n",
      "XB           60.95      1.38    186.69         8.72       257.74\n",
      "GB           47.82     85.12    114.32         8.20       255.46\n",
      "NES          21.15     98.65    125.94         5.31       251.05\n",
      "N64          41.06     34.22    139.02         4.38       218.68\n",
      "SNES         19.04    116.55     61.23         3.22       200.04\n",
      "GC           38.71     21.58    133.46         5.18       198.93\n",
      "XOne         51.59      0.34     93.12        14.27       159.32\n",
      "2600          5.47      0.00     90.60         0.91        96.98\n",
      "WiiU         25.13     13.01     38.10         5.95        82.19\n",
      "PSV          13.12     21.91     12.58         6.46        54.07\n",
      "SAT           0.54     32.26      0.72         0.07        33.59\n",
      "GEN           6.05      2.70     21.05         0.97        30.77\n",
      "DC            1.69      8.56      5.43         0.27        15.95\n",
      "SCD           0.36      0.45      1.00         0.05         1.86\n",
      "NG            0.00      1.44      0.00         0.00         1.44\n",
      "WS            0.00      1.42      0.00         0.00         1.42\n",
      "TG16          0.00      0.16      0.00         0.00         0.16\n",
      "3DO           0.00      0.10      0.00         0.00         0.10\n",
      "GG            0.00      0.04      0.00         0.00         0.04\n",
      "PCFX          0.00      0.03      0.00         0.00         0.03\n"
     ]
    }
   ],
   "execution_count": 325
  },
  {
   "metadata": {
    "ExecuteTime": {
     "end_time": "2025-07-10T00:41:19.092459Z",
     "start_time": "2025-07-10T00:41:18.659315Z"
    }
   },
   "cell_type": "code",
   "source": [
    "sales_per_platform['total_sales'].plot(\n",
    "    kind='bar',\n",
    "    figsize=(12,6),\n",
    "    xlabel='Platform',\n",
    "    ylabel='Sales'\n",
    ")"
   ],
   "id": "fe24ea071b2109af",
   "outputs": [
    {
     "data": {
      "text/plain": [
       "<Axes: xlabel='Platform', ylabel='Sales'>"
      ]
     },
     "execution_count": 326,
     "metadata": {},
     "output_type": "execute_result"
    },
    {
     "data": {
      "text/plain": [
       "<Figure size 1200x600 with 1 Axes>"
      ],
      "image/png": "[encoded data removed]"
     },
     "metadata": {},
     "output_type": "display_data"
    }
   ],
   "execution_count": 326
  },
  {
   "metadata": {
    "ExecuteTime": {
     "end_time": "2025-07-10T00:41:19.282219Z",
     "start_time": "2025-07-10T00:41:19.221833Z"
    }
   },
   "cell_type": "code",
   "source": [
    "sales_per_platform_year = games.groupby(['platform','year_of_release'])[['eu_sales','jp_sales','na_sales','other_sales']].sum()\n",
    "sales_per_platform_year['total_sales'] = sales_per_platform_year.sum(axis=1)\n",
    "sales_per_platform_year = sales_per_platform_year.sort_values('total_sales',ascending=False)\n",
    "sales_per_platform_year = sales_per_platform_year.reset_index()\n",
    "print(sales_per_platform_year.head(50))"
   ],
   "id": "7547a69d587e4b90",
   "outputs": [
    {
     "name": "stdout",
     "output_type": "stream",
     "text": [
      "   platform  year_of_release  eu_sales  jp_sales  na_sales  other_sales  \\\n",
      "0       PS2             2004     56.01     19.17     96.78        39.85   \n",
      "1       Wii             2009     58.31     16.57    114.55        17.54   \n",
      "2       PS2             2002     65.27     21.85     96.54        21.72   \n",
      "3       Wii             2008     50.41     13.74    107.15        16.35   \n",
      "4       PS2             2003     61.20     18.88     83.54        20.69   \n",
      "5      X360             2010     46.31      2.11    107.38        14.23   \n",
      "6        PS             1998     48.74     28.48     83.22         9.05   \n",
      "7       PS2             2001     52.37     17.79     79.49        16.78   \n",
      "8       PS2             2005     40.86     15.05     85.60        19.15   \n",
      "9       PS3             2011     56.24     14.10     64.88        21.56   \n",
      "10      Wii             2007     43.96     12.12     83.14        13.55   \n",
      "11       DS             2008     32.72     24.56     80.21        11.16   \n",
      "12       DS             2007     33.79     26.81     75.25        11.09   \n",
      "13     X360             2008     40.60      2.02     89.24        13.58   \n",
      "14       PS             1999     42.60     28.07     65.94         7.92   \n",
      "15     X360             2011     42.58      1.78     86.75        12.73   \n",
      "16      PS3             2010     50.50      9.87     60.99        20.81   \n",
      "17      Wii             2006     43.62      9.15     70.86        13.52   \n",
      "18       PS             1997     37.14     33.10     58.06         7.87   \n",
      "19      PS3             2009     41.40      9.03     62.65        17.85   \n",
      "20       DS             2005     41.49     29.86     47.99        10.80   \n",
      "21      Wii             2010     36.31      8.78     72.64        10.22   \n",
      "22      PS3             2008     41.81      6.60     60.59        17.83   \n",
      "23     X360             2009     33.31      1.95     74.00        11.03   \n",
      "24       DS             2006     23.07     38.56     50.01         8.17   \n",
      "25       DS             2009     25.83     24.21     60.95         8.55   \n",
      "26      PS4             2015     51.76      6.31     42.37        18.46   \n",
      "27      PS3             2013     42.27     12.13     41.45        17.40   \n",
      "28      PS3             2012     39.05     11.94     39.88        16.49   \n",
      "29      PS2             2006     21.61     17.64     49.93        14.24   \n",
      "30      PS4             2014     46.50      2.97     34.75        15.78   \n",
      "31     X360             2012     32.00      1.06     58.39         8.29   \n",
      "32       PS             2000     30.55     14.60     45.94         5.28   \n",
      "33     X360             2007     22.17      1.52     62.99         8.73   \n",
      "34       PS             1996     25.92     17.82     45.42         5.54   \n",
      "35     X360             2013     27.03      0.43     53.36         7.76   \n",
      "36       DS             2010     18.82     19.86     40.80         5.54   \n",
      "37      GBA             2004     18.15     13.52     44.43         1.81   \n",
      "38      PS2             2008     14.29      7.39     32.15        22.28   \n",
      "39      PS2             2007     10.43      9.82     32.05        23.69   \n",
      "40      GBA             2002     17.12     12.21     43.02         1.81   \n",
      "41      PS3             2007     26.10      4.22     32.16        10.71   \n",
      "42      PS4             2016     31.78      5.74     21.49        10.24   \n",
      "43       XB             2004     14.62      0.20     48.47         2.13   \n",
      "44       GB             1989      7.60     16.16     39.81         1.40   \n",
      "45      3DS             2011     18.63     12.83     27.34         4.40   \n",
      "46      GBA             2001     15.92      7.46     36.24         1.91   \n",
      "47     XOne             2015     18.47      0.17     36.03         5.47   \n",
      "48      Wii             2011     17.68      5.58     31.11         5.28   \n",
      "49      N64             1999      9.74      8.54     38.77         0.82   \n",
      "\n",
      "    total_sales  \n",
      "0        211.81  \n",
      "1        206.97  \n",
      "2        205.38  \n",
      "3        187.65  \n",
      "4        184.31  \n",
      "5        170.03  \n",
      "6        169.49  \n",
      "7        166.43  \n",
      "8        160.66  \n",
      "9        156.78  \n",
      "10       152.77  \n",
      "11       148.65  \n",
      "12       146.94  \n",
      "13       145.44  \n",
      "14       144.53  \n",
      "15       143.84  \n",
      "16       142.17  \n",
      "17       137.15  \n",
      "18       136.17  \n",
      "19       130.93  \n",
      "20       130.14  \n",
      "21       127.95  \n",
      "22       126.83  \n",
      "23       120.29  \n",
      "24       119.81  \n",
      "25       119.54  \n",
      "26       118.90  \n",
      "27       113.25  \n",
      "28       107.36  \n",
      "29       103.42  \n",
      "30       100.00  \n",
      "31        99.74  \n",
      "32        96.37  \n",
      "33        95.41  \n",
      "34        94.70  \n",
      "35        88.58  \n",
      "36        85.02  \n",
      "37        77.91  \n",
      "38        76.11  \n",
      "39        75.99  \n",
      "40        74.16  \n",
      "41        73.19  \n",
      "42        69.25  \n",
      "43        65.42  \n",
      "44        64.97  \n",
      "45        63.20  \n",
      "46        61.53  \n",
      "47        60.14  \n",
      "48        59.65  \n",
      "49        57.87  \n"
     ]
    }
   ],
   "execution_count": 327
  },
  {
   "metadata": {
    "ExecuteTime": {
     "end_time": "2025-07-10T00:41:20.067839Z",
     "start_time": "2025-07-10T00:41:19.409946Z"
    }
   },
   "cell_type": "code",
   "source": [
    "sales_per_platform_year.groupby('year_of_release')['total_sales'].sum().plot(\n",
    "    kind='bar',\n",
    "    figsize=(12,6),\n",
    "    xlabel='Año',\n",
    "    ylabel='Sales',\n",
    "    title='Ventas por año'\n",
    ")\n"
   ],
   "id": "84c7c84266dd3bed",
   "outputs": [
    {
     "data": {
      "text/plain": [
       "<Axes: title={'center': 'Ventas por año'}, xlabel='Año', ylabel='Sales'>"
      ]
     },
     "execution_count": 328,
     "metadata": {},
     "output_type": "execute_result"
    },
    {
     "data": {
      "text/plain": [
       "<Figure size 1200x600 with 1 Axes>"
      ],
      "image/png": "[encoded data removed]"
     },
     "metadata": {},
     "output_type": "display_data"
    }
   ],
   "execution_count": 328
  },
  {
   "metadata": {
    "ExecuteTime": {
     "end_time": "2025-07-10T00:41:20.797314Z",
     "start_time": "2025-07-10T00:41:20.222575Z"
    }
   },
   "cell_type": "code",
   "source": [
    "sales_per_platform_year.groupby('platform')['total_sales'].sum().plot(\n",
    "    kind='bar',\n",
    "    figsize=(12,6),\n",
    "    xlabel='Platform',\n",
    "    ylabel='Sales',\n",
    "    title='Ventas por plataforma'\n",
    ")"
   ],
   "id": "b9339cb4c187bcbf",
   "outputs": [
    {
     "data": {
      "text/plain": [
       "<Axes: title={'center': 'Ventas por plataforma'}, xlabel='Platform', ylabel='Sales'>"
      ]
     },
     "execution_count": 329,
     "metadata": {},
     "output_type": "execute_result"
    },
    {
     "data": {
      "text/plain": [
       "<Figure size 1200x600 with 1 Axes>"
      ],
      "image/png": "[encoded data removed]"
     },
     "metadata": {},
     "output_type": "display_data"
    }
   ],
   "execution_count": 329
  },
  {
   "metadata": {
    "ExecuteTime": {
     "end_time": "2025-07-10T00:41:20.954535Z",
     "start_time": "2025-07-10T00:41:20.941958Z"
    }
   },
   "cell_type": "code",
   "source": [
    "top10_sales = (\n",
    "    sales_per_platform_year.groupby('platform')['total_sales']\n",
    "    .sum()\n",
    "    .sort_values(ascending=False)\n",
    "    .head(10)\n",
    ")"
   ],
   "id": "933b816af70505e9",
   "outputs": [],
   "execution_count": 330
  },
  {
   "metadata": {
    "ExecuteTime": {
     "end_time": "2025-07-10T00:41:21.394630Z",
     "start_time": "2025-07-10T00:41:21.124619Z"
    }
   },
   "cell_type": "code",
   "source": [
    "top10_sales.plot(\n",
    "    kind='bar',\n",
    "    figsize=(12,6),\n",
    "    xlabel='Platform',\n",
    "    ylabel='Sales',\n",
    "    title='Top 10 de plataformas con mayor ventas totales'\n",
    ")"
   ],
   "id": "4bdc46dc79b201af",
   "outputs": [
    {
     "data": {
      "text/plain": [
       "<Axes: title={'center': 'Top 10 de plataformas con mayor ventas totales'}, xlabel='Platform', ylabel='Sales'>"
      ]
     },
     "execution_count": 331,
     "metadata": {},
     "output_type": "execute_result"
    },
    {
     "data": {
      "text/plain": [
       "<Figure size 1200x600 with 1 Axes>"
      ],
      "image/png": "[encoded data removed]"
     },
     "metadata": {},
     "output_type": "display_data"
    }
   ],
   "execution_count": 331
  },
  {
   "metadata": {
    "ExecuteTime": {
     "end_time": "2025-07-10T00:41:21.550332Z",
     "start_time": "2025-07-10T00:41:21.504973Z"
    }
   },
   "cell_type": "code",
   "source": [
    "top3_per_year = (\n",
    "    sales_per_platform_year\n",
    "    .sort_values(['year_of_release', 'total_sales'], ascending=[True, False])\n",
    "    .groupby('year_of_release')\n",
    "    .head(3)\n",
    "    .reset_index(drop=True)\n",
    ")\n",
    "top3_per_year = top3_per_year.sort_values(by='year_of_release',ascending=False)\n",
    "print(top3_per_year.head(51))"
   ],
   "id": "9a453bd39a4bcf21",
   "outputs": [
    {
     "name": "stdout",
     "output_type": "stream",
     "text": [
      "    platform  year_of_release  eu_sales  jp_sales  na_sales  other_sales  \\\n",
      "99      XOne             2016      9.63      0.01     14.27         2.24   \n",
      "100      3DS             2016      2.33      8.03      4.14         0.64   \n",
      "98       PS4             2016     31.78      5.74     21.49        10.24   \n",
      "96      XOne             2015     18.47      0.17     36.03         5.47   \n",
      "97       3DS             2015      5.06     15.52      6.17         1.03   \n",
      "95       PS4             2015     51.76      6.31     42.37        18.46   \n",
      "92       PS4             2014     46.50      2.97     34.75        15.78   \n",
      "93      XOne             2014     18.15      0.14     30.97         4.81   \n",
      "94       PS3             2014     18.24      6.25     16.39         6.88   \n",
      "90      X360             2013     27.03      0.43     53.36         7.76   \n",
      "89       PS3             2013     42.27     12.13     41.45        17.40   \n",
      "91       3DS             2013     14.84     23.57     15.56         2.60   \n",
      "87      X360             2012     32.00      1.06     58.39         8.29   \n",
      "88       3DS             2012     11.68     19.98     17.11         2.59   \n",
      "86       PS3             2012     39.05     11.94     39.88        16.49   \n",
      "84      X360             2011     42.58      1.78     86.75        12.73   \n",
      "85       3DS             2011     18.63     12.83     27.34         4.40   \n",
      "83       PS3             2011     56.24     14.10     64.88        21.56   \n",
      "82       Wii             2010     36.31      8.78     72.64        10.22   \n",
      "80      X360             2010     46.31      2.11    107.38        14.23   \n",
      "81       PS3             2010     50.50      9.87     60.99        20.81   \n",
      "78       PS3             2009     41.40      9.03     62.65        17.85   \n",
      "77       Wii             2009     58.31     16.57    114.55        17.54   \n",
      "79      X360             2009     33.31      1.95     74.00        11.03   \n",
      "75        DS             2008     32.72     24.56     80.21        11.16   \n",
      "76      X360             2008     40.60      2.02     89.24        13.58   \n",
      "74       Wii             2008     50.41     13.74    107.15        16.35   \n",
      "72        DS             2007     33.79     26.81     75.25        11.09   \n",
      "73      X360             2007     22.17      1.52     62.99         8.73   \n",
      "71       Wii             2007     43.96     12.12     83.14        13.55   \n",
      "68       Wii             2006     43.62      9.15     70.86        13.52   \n",
      "69        DS             2006     23.07     38.56     50.01         8.17   \n",
      "70       PS2             2006     21.61     17.64     49.93        14.24   \n",
      "66        DS             2005     41.49     29.86     47.99        10.80   \n",
      "65       PS2             2005     40.86     15.05     85.60        19.15   \n",
      "67        XB             2005     12.49      0.02     34.84         1.73   \n",
      "63       GBA             2004     18.15     13.52     44.43         1.81   \n",
      "62       PS2             2004     56.01     19.17     96.78        39.85   \n",
      "64        XB             2004     14.62      0.20     48.47         2.13   \n",
      "60       GBA             2003     13.19      8.59     33.53         1.36   \n",
      "59       PS2             2003     61.20     18.88     83.54        20.69   \n",
      "61        XB             2003     13.49      0.30     39.34         1.91   \n",
      "57       GBA             2002     17.12     12.21     43.02         1.81   \n",
      "58        GC             2002     10.49      5.28     34.71         1.33   \n",
      "56       PS2             2002     65.27     21.85     96.54        21.72   \n",
      "53       PS2             2001     52.37     17.79     79.49        16.78   \n",
      "55        PS             2001     13.72      3.86     15.84         2.17   \n",
      "54       GBA             2001     15.92      7.46     36.24         1.91   \n",
      "51       PS2             2000     10.64      8.87     16.08         3.58   \n",
      "50        PS             2000     30.55     14.60     45.94         5.28   \n",
      "52       N64             2000      5.59      7.72     19.74         0.92   \n",
      "\n",
      "     total_sales  \n",
      "99         26.15  \n",
      "100        15.14  \n",
      "98         69.25  \n",
      "96         60.14  \n",
      "97         27.78  \n",
      "95        118.90  \n",
      "92        100.00  \n",
      "93         54.07  \n",
      "94         47.76  \n",
      "90         88.58  \n",
      "89        113.25  \n",
      "91         56.57  \n",
      "87         99.74  \n",
      "88         51.36  \n",
      "86        107.36  \n",
      "84        143.84  \n",
      "85         63.20  \n",
      "83        156.78  \n",
      "82        127.95  \n",
      "80        170.03  \n",
      "81        142.17  \n",
      "78        130.93  \n",
      "77        206.97  \n",
      "79        120.29  \n",
      "75        148.65  \n",
      "76        145.44  \n",
      "74        187.65  \n",
      "72        146.94  \n",
      "73         95.41  \n",
      "71        152.77  \n",
      "68        137.15  \n",
      "69        119.81  \n",
      "70        103.42  \n",
      "66        130.14  \n",
      "65        160.66  \n",
      "67         49.08  \n",
      "63         77.91  \n",
      "62        211.81  \n",
      "64         65.42  \n",
      "60         56.67  \n",
      "59        184.31  \n",
      "61         55.04  \n",
      "57         74.16  \n",
      "58         51.81  \n",
      "56        205.38  \n",
      "53        166.43  \n",
      "55         35.59  \n",
      "54         61.53  \n",
      "51         39.17  \n",
      "50         96.37  \n",
      "52         33.97  \n"
     ]
    }
   ],
   "execution_count": 332
  },
  {
   "metadata": {},
   "cell_type": "markdown",
   "source": [
    "Basandonos en un periodo del 2000 al 2016, considerando las 3 consolas mas vendidas por año:\n",
    "- PS y PS2, dominaron el mercado entre 2000 y 2002. Sin embargo, para 2002, la PS original perdió relevancia y la PS2 se consolidó como la favorita.\n",
    "- La PS2 siguió fuerte hasta 2006, pero en 2007 se dio una transición importante: el Wii, junto con el Xbox360 y el DS, se posicionaron como los más vendidos. Es decir, la PS2 tuvo un ciclo de aproximadamente 6 años desde su lanzamiento hasta que dejó de estar entre las top 3.\n",
    "- El Xbox 360 ganó protagonismo a partir de 2007, aunque su declive comenzó hacia 2014, después del lanzamiento del Xbox One en 2013. Su periodo de mayor presencia, considerando solo el tiempo en el top 3, fue de unos 6 años, aunque su lanzamiento fue en 2005 y no entró de inmediato al ranking.\n",
    "- El Wii tuvo un ciclo de vida más corto en el top 3: unos 3 años de presencia fuerte antes de empezar a caer después de 2010. Algo similar sucedió con el DS, que fue reemplazado por el 3DS y perdió fuerza tras la llegada del PS3 en 2009.\n",
    "- En general, los periodos de transición entre consolas principales suelen durar entre 3 y 6 años. Este cálculo se basa en el tiempo que cada consola se mantiene entre las tres más vendidas, sin tomar en cuenta la fecha exacta de lanzamiento, sino el momento en que realmente logran posicionarse en el top.\n"
   ],
   "id": "42d492f2a3226425"
  },
  {
   "metadata": {
    "ExecuteTime": {
     "end_time": "2025-07-10T00:41:21.711552Z",
     "start_time": "2025-07-10T00:41:21.682095Z"
    }
   },
   "cell_type": "code",
   "source": [
    "relevant_years = sales_per_platform_year[sales_per_platform_year['year_of_release'] > 2010]\n",
    "print(relevant_years)"
   ],
   "id": "1b06553747d5c51f",
   "outputs": [
    {
     "name": "stdout",
     "output_type": "stream",
     "text": [
      "    platform  year_of_release  eu_sales  jp_sales  na_sales  other_sales  \\\n",
      "9        PS3             2011     56.24     14.10     64.88        21.56   \n",
      "15      X360             2011     42.58      1.78     86.75        12.73   \n",
      "26       PS4             2015     51.76      6.31     42.37        18.46   \n",
      "27       PS3             2013     42.27     12.13     41.45        17.40   \n",
      "28       PS3             2012     39.05     11.94     39.88        16.49   \n",
      "30       PS4             2014     46.50      2.97     34.75        15.78   \n",
      "31      X360             2012     32.00      1.06     58.39         8.29   \n",
      "35      X360             2013     27.03      0.43     53.36         7.76   \n",
      "42       PS4             2016     31.78      5.74     21.49        10.24   \n",
      "45       3DS             2011     18.63     12.83     27.34         4.40   \n",
      "47      XOne             2015     18.47      0.17     36.03         5.47   \n",
      "48       Wii             2011     17.68      5.58     31.11         5.28   \n",
      "51       3DS             2013     14.84     23.57     15.56         2.60   \n",
      "54      XOne             2014     18.15      0.14     30.97         4.81   \n",
      "58       3DS             2012     11.68     19.98     17.11         2.59   \n",
      "64       PS3             2014     18.24      6.25     16.39         6.88   \n",
      "68       3DS             2014      8.73     20.69     12.33         2.01   \n",
      "82        PC             2011     18.94      0.00     10.76         5.33   \n",
      "83      X360             2014     11.28      0.08     20.25         3.13   \n",
      "91       3DS             2015      5.06     15.52      6.17         1.03   \n",
      "96        DS             2011      5.71      4.32     14.27         1.88   \n",
      "97      XOne             2016      9.63      0.01     14.27         2.24   \n",
      "99       PS4             2013     11.05      0.94     10.13         3.87   \n",
      "102       PC             2012     12.40      0.00      8.01         2.81   \n",
      "104     WiiU             2014      6.66      3.19     10.50         1.68   \n",
      "105      Wii             2012      5.99      3.34     10.89         1.49   \n",
      "106     WiiU             2013      6.70      3.57      9.85         1.53   \n",
      "110     XOne             2013      5.34      0.02     11.85         1.75   \n",
      "111      PSP             2011      1.35     13.57      2.06         0.84   \n",
      "112     WiiU             2012      5.28      2.13      8.89         1.26   \n",
      "115      PS3             2015      6.04      3.67      4.99         2.12   \n",
      "116     WiiU             2015      5.01      3.45      6.76         1.13   \n",
      "118      PSV             2012      5.26      2.45      5.94         2.54   \n",
      "122      3DS             2016      2.33      8.03      4.14         0.64   \n",
      "123       PC             2014      8.87      0.00      3.51         0.90   \n",
      "126       PC             2013      7.39      0.00      3.88         1.11   \n",
      "128     X360             2015      3.50      0.00      7.36         1.10   \n",
      "129      PSV             2014      2.45      6.13      1.98         1.34   \n",
      "134       DS             2012      2.68      3.72      4.02         0.59   \n",
      "136      PSV             2013      2.57      4.05      2.52         1.45   \n",
      "144      Wii             2013      3.34      0.05      4.48         0.72   \n",
      "146       PC             2015      5.57      0.00      2.36         0.59   \n",
      "151      PSP             2012      0.25      7.18      0.13         0.13   \n",
      "157      PSV             2015      0.69      4.85      0.39         0.32   \n",
      "166       PC             2016      3.53      0.00      1.36         0.36   \n",
      "172      PSV             2011      1.71      0.80      1.49         0.63   \n",
      "173     WiiU             2016      1.48      0.67      2.10         0.35   \n",
      "176      PSV             2016      0.39      3.56      0.15         0.15   \n",
      "179      Wii             2014      1.86      0.00      1.59         0.30   \n",
      "182      PS3             2016      1.26      1.30      0.67         0.37   \n",
      "189      PSP             2013      0.17      2.93      0.00         0.04   \n",
      "198       DS             2013      0.85      0.00      0.57         0.12   \n",
      "199     X360             2016      0.71      0.00      0.69         0.12   \n",
      "203      Wii             2015      0.62      0.00      0.43         0.09   \n",
      "216      PS2             2011      0.13      0.09      0.13         0.10   \n",
      "226      PSP             2014      0.00      0.24      0.00         0.00   \n",
      "229      Wii             2016      0.11      0.00      0.06         0.01   \n",
      "231      PSP             2015      0.00      0.12      0.00         0.00   \n",
      "\n",
      "     total_sales  \n",
      "9         156.78  \n",
      "15        143.84  \n",
      "26        118.90  \n",
      "27        113.25  \n",
      "28        107.36  \n",
      "30        100.00  \n",
      "31         99.74  \n",
      "35         88.58  \n",
      "42         69.25  \n",
      "45         63.20  \n",
      "47         60.14  \n",
      "48         59.65  \n",
      "51         56.57  \n",
      "54         54.07  \n",
      "58         51.36  \n",
      "64         47.76  \n",
      "68         43.76  \n",
      "82         35.03  \n",
      "83         34.74  \n",
      "91         27.78  \n",
      "96         26.18  \n",
      "97         26.15  \n",
      "99         25.99  \n",
      "102        23.22  \n",
      "104        22.03  \n",
      "105        21.71  \n",
      "106        21.65  \n",
      "110        18.96  \n",
      "111        17.82  \n",
      "112        17.56  \n",
      "115        16.82  \n",
      "116        16.35  \n",
      "118        16.19  \n",
      "122        15.14  \n",
      "123        13.28  \n",
      "126        12.38  \n",
      "128        11.96  \n",
      "129        11.90  \n",
      "134        11.01  \n",
      "136        10.59  \n",
      "144         8.59  \n",
      "146         8.52  \n",
      "151         7.69  \n",
      "157         6.25  \n",
      "166         5.25  \n",
      "172         4.63  \n",
      "173         4.60  \n",
      "176         4.25  \n",
      "179         3.75  \n",
      "182         3.60  \n",
      "189         3.14  \n",
      "198         1.54  \n",
      "199         1.52  \n",
      "203         1.14  \n",
      "216         0.45  \n",
      "226         0.24  \n",
      "229         0.18  \n",
      "231         0.12  \n"
     ]
    }
   ],
   "execution_count": 333
  },
  {
   "metadata": {
    "ExecuteTime": {
     "end_time": "2025-07-10T00:41:21.876885Z",
     "start_time": "2025-07-10T00:41:21.864177Z"
    }
   },
   "cell_type": "code",
   "source": [
    "def calculo_umbral_exito(data,platform, col_sales='total_sales'):\n",
    "    juegos = data[data['platform'] == platform]\n",
    "    umbral_exito = juegos[col_sales].quantile(0.75)\n",
    "    return umbral_exito"
   ],
   "id": "3d8d18892bd5e4cb",
   "outputs": [],
   "execution_count": 334
  },
  {
   "metadata": {
    "ExecuteTime": {
     "end_time": "2025-07-10T00:41:22.055836Z",
     "start_time": "2025-07-10T00:41:22.021283Z"
    }
   },
   "cell_type": "code",
   "source": [
    "plataformas = relevant_years['platform'].unique()\n",
    "print(plataformas)\n",
    "umbrales = {platform: calculo_umbral_exito(relevant_years, platform) for platform in plataformas}\n",
    "for (plataforma, umbral) in umbrales.items():\n",
    "    print(f\"{plataforma} tiene que vender {float(umbral):.2f}M para 2017.\")\n",
    "print(\"'ESTOS DATOS SE BASAN EN EL HISTORICO DEL 2010 AL 2016'\")"
   ],
   "id": "6cca2c8d5632cf8e",
   "outputs": [
    {
     "name": "stdout",
     "output_type": "stream",
     "text": [
      "['PS3' 'X360' 'PS4' '3DS' 'XOne' 'Wii' 'PC' 'DS' 'WiiU' 'PSP' 'PSV' 'PS2']\n",
      "PS3 tiene que vender 111.78M para 2017.\n",
      "X360 tiene que vender 96.95M para 2017.\n",
      "PS4 tiene que vender 104.72M para 2017.\n",
      "3DS tiene que vender 55.27M para 2017.\n",
      "XOne tiene que vender 55.59M para 2017.\n",
      "Wii tiene que vender 18.43M para 2017.\n",
      "PC tiene que vender 20.73M para 2017.\n",
      "DS tiene que vender 18.59M para 2017.\n",
      "WiiU tiene que vender 21.65M para 2017.\n",
      "PSP tiene que vender 7.69M para 2017.\n",
      "PSV tiene que vender 11.57M para 2017.\n",
      "PS2 tiene que vender 0.45M para 2017.\n",
      "'ESTOS DATOS SE BASAN EN EL HISTORICO DEL 2010 AL 2016'\n"
     ]
    }
   ],
   "execution_count": 335
  },
  {
   "metadata": {
    "ExecuteTime": {
     "end_time": "2025-07-10T00:41:22.538375Z",
     "start_time": "2025-07-10T00:41:22.256678Z"
    }
   },
   "cell_type": "code",
   "source": [
    "relevant_years.groupby('platform')['total_sales'].sum().plot(\n",
    "    kind='bar',\n",
    "    figsize=(12,6),\n",
    "    xlabel='Platform',\n",
    "    ylabel='Sales',\n",
    "    title='Ventas por plataforma'\n",
    ")\n",
    "print(relevant_years.groupby('platform')['total_sales'].sum().reset_index(name='umbral'))"
   ],
   "id": "8ffe85d4efce8312",
   "outputs": [
    {
     "name": "stdout",
     "output_type": "stream",
     "text": [
      "   platform  umbral\n",
      "0       3DS  257.81\n",
      "1        DS   38.73\n",
      "2        PC   97.68\n",
      "3       PS2    0.45\n",
      "4       PS3  445.57\n",
      "5       PS4  314.14\n",
      "6       PSP   29.01\n",
      "7       PSV   53.81\n",
      "8       Wii   95.02\n",
      "9      WiiU   82.19\n",
      "10     X360  380.38\n",
      "11     XOne  159.32\n"
     ]
    },
    {
     "data": {
      "text/plain": [
       "<Figure size 1200x600 with 1 Axes>"
      ],
      "image/png": "[encoded data removed]"
     },
     "metadata": {},
     "output_type": "display_data"
    }
   ],
   "execution_count": 336
  },
  {
   "metadata": {},
   "cell_type": "markdown",
   "source": [
    "Según los datos del 2010 al 2016, las plataformas lideres son:\n",
    "1. PS3\n",
    "2. XBOX360\n",
    "3. PS4\n",
    "4. 3DS\n",
    "5. XBOX ONE\n",
    "\n",
    "Plataformas que van en declive:\n",
    "- PS3, a pesar de que tiene un umbral alto (445.57), con el lanzamiento del PS4, empezara a decar.\n",
    "- XBOX360, siendo el segundo umbral mas alto (380.38), tambien va a decaer con el lanzamiento del XBOX ONE.\n",
    "\n",
    "Plataformas que van en crecimiento:\n",
    "- PS4, teniendo un umbral de exito de 314.14, tiene mejor prediccion para 2017 que el PS3.\n",
    "- XBOX ONE, despues de su lanzamiento en el 2013, tiene un umbral de exito de 159.32, que aunque no es alto, tiene una mejor estimacion para el 2017 que para el XBOX360.\n",
    "- 3DS, teniendo un umbral de ~257, tiene un nicho portable, y lo que necesita vender para 2017 es baja.\n",
    "\n",
    "Las plataformas mas rentables son:\n",
    "- PS4, XBOX ONE y 3DS\n",
    "\n",
    "Observaciones:\n",
    "- Aunque xbox one requiere un numero menor en ventas vs PS4, el PS4 tiene mejor potencial para generar ingresos.\n",
    "- 3DS no tiene competencia directa al estar enfocado a un publico en especifico.\n",
    "\n"
   ],
   "id": "a76591727c712725"
  },
  {
   "metadata": {
    "ExecuteTime": {
     "end_time": "2025-07-10T00:41:23.107966Z",
     "start_time": "2025-07-10T00:41:22.661973Z"
    }
   },
   "cell_type": "code",
   "source": [
    "relevant_years.boxplot(column='total_sales', by='platform', rot=45)\n",
    "plt.title('Ventas desglosadas por plataforma')\n",
    "plt.suptitle('Ventas globales')\n",
    "plt.xlabel('Platform')\n",
    "plt.ylabel('Global sales')"
   ],
   "id": "acf1cecd8b92963c",
   "outputs": [
    {
     "data": {
      "text/plain": [
       "Text(0, 0.5, 'Global sales')"
      ]
     },
     "execution_count": 337,
     "metadata": {},
     "output_type": "execute_result"
    },
    {
     "data": {
      "text/plain": [
       "<Figure size 640x480 with 1 Axes>"
      ],
      "image/png": "[encoded data removed]"
     },
     "metadata": {},
     "output_type": "display_data"
    }
   ],
   "execution_count": 337
  },
  {
   "metadata": {
    "ExecuteTime": {
     "end_time": "2025-07-10T00:41:23.325800Z",
     "start_time": "2025-07-10T00:41:23.247893Z"
    }
   },
   "cell_type": "code",
   "source": [
    "# Para entender mejor, veamos los numeros\n",
    "relevant_years.groupby('platform')['total_sales'].describe()"
   ],
   "id": "d8a9c7ef2ab4239d",
   "outputs": [
    {
     "data": {
      "text/plain": [
       "          count       mean        std    min      25%     50%       75%  \\\n",
       "platform                                                                  \n",
       "3DS         6.0  42.968333  18.278261  15.14  31.7750  47.560   55.2675   \n",
       "DS          3.0  12.910000  12.429397   1.54   6.2750  11.010   18.5950   \n",
       "PC          6.0  16.280000  11.007403   5.25   9.4850  12.830   20.7350   \n",
       "PS2         1.0   0.450000        NaN   0.45   0.4500   0.450    0.4500   \n",
       "PS3         6.0  74.261667  60.695667   3.60  24.5550  77.560  111.7775   \n",
       "PS4         4.0  78.535000  40.567917  25.99  58.4350  84.625  104.7250   \n",
       "PSP         5.0   5.802000   7.387558   0.12   0.2400   3.140    7.6900   \n",
       "PSV         6.0   8.968333   4.729695   4.25   5.0350   8.420   11.5725   \n",
       "Wii         6.0  15.836667  22.864073   0.18   1.7925   6.170   18.4300   \n",
       "WiiU        5.0  16.438000   7.068244   4.60  16.3500  17.560   21.6500   \n",
       "X360        6.0  63.396667  56.074638   1.52  17.6550  61.660   96.9500   \n",
       "XOne        4.0  39.830000  20.313977  18.96  24.3525  40.110   55.5875   \n",
       "\n",
       "             max  \n",
       "platform          \n",
       "3DS        63.20  \n",
       "DS         26.18  \n",
       "PC         35.03  \n",
       "PS2         0.45  \n",
       "PS3       156.78  \n",
       "PS4       118.90  \n",
       "PSP        17.82  \n",
       "PSV        16.19  \n",
       "Wii        59.65  \n",
       "WiiU       22.03  \n",
       "X360      143.84  \n",
       "XOne       60.14  "
      ],
      "text/html": [
       "<div>\n",
       "<style scoped>\n",
       "    .dataframe tbody tr th:only-of-type {\n",
       "        vertical-align: middle;\n",
       "    }\n",
       "\n",
       "    .dataframe tbody tr th {\n",
       "        vertical-align: top;\n",
       "    }\n",
       "\n",
       "    .dataframe thead th {\n",
       "        text-align: right;\n",
       "    }\n",
       "</style>\n",
       "<table border=\"1\" class=\"dataframe\">\n",
       "  <thead>\n",
       "    <tr style=\"text-align: right;\">\n",
       "      <th></th>\n",
       "      <th>count</th>\n",
       "      <th>mean</th>\n",
       "      <th>std</th>\n",
       "      <th>min</th>\n",
       "      <th>25%</th>\n",
       "      <th>50%</th>\n",
       "      <th>75%</th>\n",
       "      <th>max</th>\n",
       "    </tr>\n",
       "    <tr>\n",
       "      <th>platform</th>\n",
       "      <th></th>\n",
       "      <th></th>\n",
       "      <th></th>\n",
       "      <th></th>\n",
       "      <th></th>\n",
       "      <th></th>\n",
       "      <th></th>\n",
       "      <th></th>\n",
       "    </tr>\n",
       "  </thead>\n",
       "  <tbody>\n",
       "    <tr>\n",
       "      <th>3DS</th>\n",
       "      <td>6.0</td>\n",
       "      <td>42.968333</td>\n",
       "      <td>18.278261</td>\n",
       "      <td>15.14</td>\n",
       "      <td>31.7750</td>\n",
       "      <td>47.560</td>\n",
       "      <td>55.2675</td>\n",
       "      <td>63.20</td>\n",
       "    </tr>\n",
       "    <tr>\n",
       "      <th>DS</th>\n",
       "      <td>3.0</td>\n",
       "      <td>12.910000</td>\n",
       "      <td>12.429397</td>\n",
       "      <td>1.54</td>\n",
       "      <td>6.2750</td>\n",
       "      <td>11.010</td>\n",
       "      <td>18.5950</td>\n",
       "      <td>26.18</td>\n",
       "    </tr>\n",
       "    <tr>\n",
       "      <th>PC</th>\n",
       "      <td>6.0</td>\n",
       "      <td>16.280000</td>\n",
       "      <td>11.007403</td>\n",
       "      <td>5.25</td>\n",
       "      <td>9.4850</td>\n",
       "      <td>12.830</td>\n",
       "      <td>20.7350</td>\n",
       "      <td>35.03</td>\n",
       "    </tr>\n",
       "    <tr>\n",
       "      <th>PS2</th>\n",
       "      <td>1.0</td>\n",
       "      <td>0.450000</td>\n",
       "      <td>NaN</td>\n",
       "      <td>0.45</td>\n",
       "      <td>0.4500</td>\n",
       "      <td>0.450</td>\n",
       "      <td>0.4500</td>\n",
       "      <td>0.45</td>\n",
       "    </tr>\n",
       "    <tr>\n",
       "      <th>PS3</th>\n",
       "      <td>6.0</td>\n",
       "      <td>74.261667</td>\n",
       "      <td>60.695667</td>\n",
       "      <td>3.60</td>\n",
       "      <td>24.5550</td>\n",
       "      <td>77.560</td>\n",
       "      <td>111.7775</td>\n",
       "      <td>156.78</td>\n",
       "    </tr>\n",
       "    <tr>\n",
       "      <th>PS4</th>\n",
       "      <td>4.0</td>\n",
       "      <td>78.535000</td>\n",
       "      <td>40.567917</td>\n",
       "      <td>25.99</td>\n",
       "      <td>58.4350</td>\n",
       "      <td>84.625</td>\n",
       "      <td>104.7250</td>\n",
       "      <td>118.90</td>\n",
       "    </tr>\n",
       "    <tr>\n",
       "      <th>PSP</th>\n",
       "      <td>5.0</td>\n",
       "      <td>5.802000</td>\n",
       "      <td>7.387558</td>\n",
       "      <td>0.12</td>\n",
       "      <td>0.2400</td>\n",
       "      <td>3.140</td>\n",
       "      <td>7.6900</td>\n",
       "      <td>17.82</td>\n",
       "    </tr>\n",
       "    <tr>\n",
       "      <th>PSV</th>\n",
       "      <td>6.0</td>\n",
       "      <td>8.968333</td>\n",
       "      <td>4.729695</td>\n",
       "      <td>4.25</td>\n",
       "      <td>5.0350</td>\n",
       "      <td>8.420</td>\n",
       "      <td>11.5725</td>\n",
       "      <td>16.19</td>\n",
       "    </tr>\n",
       "    <tr>\n",
       "      <th>Wii</th>\n",
       "      <td>6.0</td>\n",
       "      <td>15.836667</td>\n",
       "      <td>22.864073</td>\n",
       "      <td>0.18</td>\n",
       "      <td>1.7925</td>\n",
       "      <td>6.170</td>\n",
       "      <td>18.4300</td>\n",
       "      <td>59.65</td>\n",
       "    </tr>\n",
       "    <tr>\n",
       "      <th>WiiU</th>\n",
       "      <td>5.0</td>\n",
       "      <td>16.438000</td>\n",
       "      <td>7.068244</td>\n",
       "      <td>4.60</td>\n",
       "      <td>16.3500</td>\n",
       "      <td>17.560</td>\n",
       "      <td>21.6500</td>\n",
       "      <td>22.03</td>\n",
       "    </tr>\n",
       "    <tr>\n",
       "      <th>X360</th>\n",
       "      <td>6.0</td>\n",
       "      <td>63.396667</td>\n",
       "      <td>56.074638</td>\n",
       "      <td>1.52</td>\n",
       "      <td>17.6550</td>\n",
       "      <td>61.660</td>\n",
       "      <td>96.9500</td>\n",
       "      <td>143.84</td>\n",
       "    </tr>\n",
       "    <tr>\n",
       "      <th>XOne</th>\n",
       "      <td>4.0</td>\n",
       "      <td>39.830000</td>\n",
       "      <td>20.313977</td>\n",
       "      <td>18.96</td>\n",
       "      <td>24.3525</td>\n",
       "      <td>40.110</td>\n",
       "      <td>55.5875</td>\n",
       "      <td>60.14</td>\n",
       "    </tr>\n",
       "  </tbody>\n",
       "</table>\n",
       "</div>"
      ]
     },
     "execution_count": 338,
     "metadata": {},
     "output_type": "execute_result"
    }
   ],
   "execution_count": 338
  },
  {
   "metadata": {},
   "cell_type": "markdown",
   "source": [
    "Hallazgos:\n",
    "- PS3 y PS4 tienen las ventas promedio mas altas (~~74 y ~~78.5, respectivamente), seguido del XBOX360 (~~63 en promedio).\n",
    "- Su desviacion estandard del PS3 (~~60), indicaria que tiene juegos que se venden mas que otros, tiene mucha variabilidad, al igual que el XBOX360 (~~56).\n",
    "- Las otras plataformas tienen una variabilidad mas estables, la PSV y WiiU son las que tienen menos variabilidad, pero sus maximos en ventas son las mas bajas.\n",
    "- PS2 no tiene datos suficientes para poder ser analizado, esto se entenderia que estaba en su etapa de declive.\n",
    "- El PS3 y XBOX360 tienen una dispersion muy alta, indicaria que tuvieron titulos muy exitosos\n",
    "- Wii y WiiU muestran valores atipicos, mientras que el Wii tiene un valor atipico alto, indicaria que tuvo juegos que se vendieron mas de lo esperado, mientras que el WiiU indicaria que tuvo titulos que se vendieron muy poco, menos de lo esperado, a pesar de tener ventas promedio mas altas que el Wii, las ventas maximas del Wii son 2 veces mayores."
   ],
   "id": "15320bcffc3442d1"
  },
  {
   "metadata": {
    "ExecuteTime": {
     "end_time": "2025-07-10T00:41:23.626597Z",
     "start_time": "2025-07-10T00:41:23.579306Z"
    }
   },
   "cell_type": "code",
   "source": [
    "reseñas = games.groupby(['user_score','critic_score','platform'])[['eu_sales','jp_sales','na_sales']].sum()\n",
    "reseñas['total_sales'] = reseñas[['eu_sales','na_sales','jp_sales']].sum(axis=1)\n",
    "print(reseñas)"
   ],
   "id": "79a5607ce2ea284b",
   "outputs": [
    {
     "name": "stdout",
     "output_type": "stream",
     "text": [
      "                                  eu_sales  jp_sales  na_sales  total_sales\n",
      "user_score critic_score platform                                           \n",
      "0.0        68.967679    DS            0.00      0.00      0.66         0.66\n",
      "0.2        68.967679    PS3           0.02      0.00      0.07         0.09\n",
      "                        Wii           0.00      0.00      0.04         0.04\n",
      "0.3        68.967679    DS            0.01      0.00      0.27         0.28\n",
      "                        Wii           0.00      0.00      0.04         0.04\n",
      "...                                    ...       ...       ...          ...\n",
      "9.5        83.000000    GBA           0.02      0.00      0.06         0.08\n",
      "           86.000000    GBA           0.27      0.27      0.61         1.15\n",
      "9.6        81.000000    GBA           0.13      0.11      0.34         0.58\n",
      "           83.000000    GBA           0.04      0.00      0.10         0.14\n",
      "9.7        68.967679    PSP           0.02      0.00      0.00         0.02\n",
      "\n",
      "[6354 rows x 4 columns]\n"
     ]
    }
   ],
   "execution_count": 339
  },
  {
   "metadata": {
    "ExecuteTime": {
     "end_time": "2025-07-10T00:41:23.876130Z",
     "start_time": "2025-07-10T00:41:23.827991Z"
    }
   },
   "cell_type": "code",
   "source": [
    "reseñas = reseñas.reset_index()\n",
    "matriz_corr = reseñas.groupby('platform')[['user_score','critic_score','eu_sales','na_sales','jp_sales','total_sales']].corr(method='pearson')\n",
    "print(matriz_corr.loc['PS4'])"
   ],
   "id": "1acb160818915348",
   "outputs": [
    {
     "name": "stdout",
     "output_type": "stream",
     "text": [
      "              user_score  critic_score  eu_sales  na_sales  jp_sales  \\\n",
      "user_score      1.000000      0.549375  0.012859  0.028798  0.064983   \n",
      "critic_score    0.549375      1.000000  0.154207  0.143068  0.043703   \n",
      "eu_sales        0.012859      0.154207  1.000000  0.948754  0.918295   \n",
      "na_sales        0.028798      0.143068  0.948754  1.000000  0.949775   \n",
      "jp_sales        0.064983      0.043703  0.918295  0.949775  1.000000   \n",
      "total_sales     0.025103      0.140602  0.987257  0.985896  0.955314   \n",
      "\n",
      "              total_sales  \n",
      "user_score       0.025103  \n",
      "critic_score     0.140602  \n",
      "eu_sales         0.987257  \n",
      "na_sales         0.985896  \n",
      "jp_sales         0.955314  \n",
      "total_sales      1.000000  \n"
     ]
    }
   ],
   "execution_count": 340
  },
  {
   "metadata": {},
   "cell_type": "markdown",
   "source": [
    "Hallazgos:\n",
    "- Las ventas generales del PS4 no se ven afectadas por reseñas de usuarios o profesionales.\n",
    "- La correlacion que tienen las ventas con las reseñas profesionales en Europa y Norte America tiene una correlacion positiva debil (0.1542 y 0.1430, respectivamente), lo que daria a entender que los usuarios no consultan mucho las reseñas para tomar una decision de comprar un PS4.\n",
    "- En Japon, la correlacion es casi nula (0.04), posiblemente se guian por otros factores."
   ],
   "id": "144eaa8e2e269c43"
  },
  {
   "metadata": {
    "ExecuteTime": {
     "end_time": "2025-07-10T00:41:24.130167Z",
     "start_time": "2025-07-10T00:41:24.098637Z"
    }
   },
   "cell_type": "code",
   "source": [
    "ps4_data = reseñas[reseñas['platform'] == 'PS4']\n",
    "print(ps4_data)"
   ],
   "id": "3fd5e6b30286fbe0",
   "outputs": [
    {
     "name": "stdout",
     "output_type": "stream",
     "text": [
      "      user_score  critic_score platform  eu_sales  jp_sales  na_sales  \\\n",
      "26           1.5          32.0      PS4      0.08      0.00      0.09   \n",
      "47           1.9          25.0      PS4      0.05      0.00      0.00   \n",
      "54           2.0          47.0      PS4      0.08      0.00      0.10   \n",
      "55           2.0          48.0      PS4      0.00      0.00      0.01   \n",
      "73           2.3          42.0      PS4      0.00      0.00      0.01   \n",
      "...          ...           ...      ...       ...       ...       ...   \n",
      "5736         8.7          69.0      PS4      0.31      0.00      0.05   \n",
      "5771         8.7          79.0      PS4      0.02      0.04      0.07   \n",
      "5808         8.7          85.0      PS4      0.28      0.00      0.03   \n",
      "5968         8.8          89.0      PS4      0.45      0.34      0.65   \n",
      "6301         9.2          92.0      PS4      2.13      0.23      1.02   \n",
      "\n",
      "      total_sales  \n",
      "26           0.17  \n",
      "47           0.05  \n",
      "54           0.18  \n",
      "55           0.01  \n",
      "73           0.01  \n",
      "...           ...  \n",
      "5736         0.36  \n",
      "5771         0.13  \n",
      "5808         0.31  \n",
      "5968         1.44  \n",
      "6301         3.38  \n",
      "\n",
      "[238 rows x 7 columns]\n"
     ]
    }
   ],
   "execution_count": 341
  },
  {
   "metadata": {
    "ExecuteTime": {
     "end_time": "2025-07-10T00:41:24.718242Z",
     "start_time": "2025-07-10T00:41:24.256093Z"
    }
   },
   "cell_type": "code",
   "source": [
    "plt.figure(figsize=(14,6))\n",
    "plt.subplot(1,2,1)\n",
    "plt.scatter(\n",
    "    ps4_data['critic_score'],\n",
    "    ps4_data['eu_sales'],\n",
    "    alpha=0.5\n",
    ")\n",
    "plt.xlabel('Score')\n",
    "plt.ylabel('Sales: M.USD')\n",
    "plt.title('PS4: Correlacion de ventas en EU vs Puntuacion de criticos')\n",
    "plt.subplot(1,2,2)\n",
    "plt.scatter(\n",
    "    ps4_data['critic_score'],\n",
    "    ps4_data['na_sales'],\n",
    "    alpha=0.5\n",
    ")\n",
    "plt.title('PS4: Correlacion de ventas en NA vs Puntuacion de criticos')\n",
    "plt.xlabel('Score')\n",
    "plt.ylabel('Sales: M.USD')\n",
    "plt.tight_layout"
   ],
   "id": "2de5661e549b8f29",
   "outputs": [
    {
     "data": {
      "text/plain": [
       "<function matplotlib.pyplot.tight_layout(*, pad: 'float' = 1.08, h_pad: 'float | None' = None, w_pad: 'float | None' = None, rect: 'tuple[float, float, float, float] | None' = None) -> 'None'>"
      ]
     },
     "execution_count": 342,
     "metadata": {},
     "output_type": "execute_result"
    },
    {
     "data": {
      "text/plain": [
       "<Figure size 1400x600 with 2 Axes>"
      ],
      "image/png": "[encoded data removed]"
     },
     "metadata": {},
     "output_type": "display_data"
    }
   ],
   "execution_count": 342
  },
  {
   "metadata": {},
   "cell_type": "markdown",
   "source": [
    "Hallazgos:\n",
    "- Los datos muestran una disparidad entre las ventas vs puntuaciones altas de criticos.\n",
    "- Los datos muestran un pico maximo de ventas alrededor de los 70 puntos. Esto se le puede atribuir a las franquicias establecidas que se mantienen posiblemente gracias a los fans y marketing."
   ],
   "id": "39d76fbb7855d3c5"
  },
  {
   "metadata": {
    "ExecuteTime": {
     "end_time": "2025-07-10T00:41:24.905933Z",
     "start_time": "2025-07-10T00:41:24.845693Z"
    }
   },
   "cell_type": "code",
   "source": [
    "games_platform = games.groupby(['name','platform'])[['eu_sales','na_sales','jp_sales']].sum()\n",
    "games_platform['total_sales'] = games_platform.sum(axis=1)\n",
    "games_platform = games_platform.sort_values(by=['name','total_sales'],ascending=[True,False]).reset_index()\n",
    "print(games_platform[['name','platform','total_sales']].head(50))"
   ],
   "id": "14bfb6e310a126b0",
   "outputs": [
    {
     "name": "stdout",
     "output_type": "stream",
     "text": [
      "                                           name platform  total_sales\n",
      "0                                Beyblade Burst      3DS         0.03\n",
      "1                             Fire Emblem Fates      3DS         1.56\n",
      "2                          Frozen: Olaf's Quest      3DS         0.54\n",
      "3                          Frozen: Olaf's Quest       DS         0.47\n",
      "4                    Haikyu!! Cross Team Match!      3DS         0.04\n",
      "5                             Tales of Xillia 2      PS3         0.77\n",
      "6                                   '98 Koshien       PS         0.37\n",
      "7                    .hack//G.U. Vol.1//Rebirth      PS2         0.17\n",
      "8                  .hack//G.U. Vol.2//Reminisce      PS2         0.20\n",
      "9       .hack//G.U. Vol.2//Reminisce (jp sales)      PS2         0.16\n",
      "10                .hack//G.U. Vol.3//Redemption      PS2         0.17\n",
      "11                      .hack//Infection Part 1      PS2         1.13\n",
      "12                                  .hack//Link      PSP         0.14\n",
      "13                       .hack//Mutation Part 2      PS2         0.61\n",
      "14                       .hack//Outbreak Part 3      PS2         0.42\n",
      "15  .hack//Quarantine Part 4: The Final Chapter      PS2         0.16\n",
      "16            .hack: Sekai no Mukou ni + Versus      PS3         0.03\n",
      "17                                   007 Racing       PS         0.50\n",
      "18                       007: Quantum of Solace     X360         1.34\n",
      "19                       007: Quantum of Solace      PS3         0.96\n",
      "20                       007: Quantum of Solace      Wii         0.58\n",
      "21                       007: Quantum of Solace      PS2         0.17\n",
      "22                       007: Quantum of Solace       DS         0.12\n",
      "23                       007: Quantum of Solace       PC         0.02\n",
      "24                 007: The World is not Enough      N64         1.53\n",
      "25                 007: The World is not Enough       PS         0.86\n",
      "26                     007: Tomorrow Never Dies       PS         3.05\n",
      "27                                    1 vs. 100       DS         0.08\n",
      "28                                 1/2 Summer +      PSP         0.01\n",
      "29                           10 Minute Solution      Wii         0.07\n",
      "30                       100 All-Time Favorites       DS         0.47\n",
      "31                            100 Classic Books       DS         0.64\n",
      "32                            100 Classic Games       DS         0.03\n",
      "33       1000 Cooking Recipes from ELLE à table       DS         0.02\n",
      "34                             1001 Touch Games       DS         0.27\n",
      "35                   101-in-1 Explosive Megamix       DS         0.17\n",
      "36                   101-in-1 Party Megamix Wii      Wii         0.20\n",
      "37                      101-in-1 Sports Megamix       DS         0.08\n",
      "38                101-in-1 Sports Party Megamix      Wii         0.02\n",
      "39                1080°: TenEighty Snowboarding      N64         1.99\n",
      "40                            11eyes: CrossOver      PSP         0.02\n",
      "41                            11eyes: CrossOver     X360         0.02\n",
      "42                     12-Sai. Honto no Kimochi      3DS         0.07\n",
      "43                        12-Sai. Koisuru Diary      3DS         0.05\n",
      "44        12Riven: The Psi-Climinal of Integral      PS2         0.04\n",
      "45                                      15 Days       PC         0.01\n",
      "46                                    1701 A.D.       PC         0.25\n",
      "47             18 Wheeler: American Pro Trucker      PS2         0.35\n",
      "48             18 Wheeler: American Pro Trucker       GC         0.11\n",
      "49          18 Wheels of Steel: Extreme Trucker       PC         0.02\n"
     ]
    }
   ],
   "execution_count": 343
  },
  {
   "metadata": {},
   "cell_type": "markdown",
   "source": "En esta lista podemos ver los videojuegos exclusivos junto a los multiplataforma",
   "id": "2e8ebf342b7018d"
  },
  {
   "metadata": {
    "ExecuteTime": {
     "end_time": "2025-07-10T00:41:25.363634Z",
     "start_time": "2025-07-10T00:41:25.017622Z"
    }
   },
   "cell_type": "code",
   "source": [
    "multiplatform_games = (\n",
    "    games_platform.groupby('name')\n",
    "    .filter(lambda x: len(x) > 1)  # Juegos con 2+ plataformas\n",
    "    .sort_values(['name', 'total_sales'], ascending=[True, False])\n",
    ")\n",
    "print(multiplatform_games[['name','total_sales','platform']].head(50))"
   ],
   "id": "7e04465eb7f75a98",
   "outputs": [
    {
     "name": "stdout",
     "output_type": "stream",
     "text": [
      "                                                  name  total_sales platform\n",
      "2                                 Frozen: Olaf's Quest         0.54      3DS\n",
      "3                                 Frozen: Olaf's Quest         0.47       DS\n",
      "18                              007: Quantum of Solace         1.34     X360\n",
      "19                              007: Quantum of Solace         0.96      PS3\n",
      "20                              007: Quantum of Solace         0.58      Wii\n",
      "21                              007: Quantum of Solace         0.17      PS2\n",
      "22                              007: Quantum of Solace         0.12       DS\n",
      "23                              007: Quantum of Solace         0.02       PC\n",
      "24                        007: The World is not Enough         1.53      N64\n",
      "25                        007: The World is not Enough         0.86       PS\n",
      "40                                   11eyes: CrossOver         0.02      PSP\n",
      "41                                   11eyes: CrossOver         0.02     X360\n",
      "47                    18 Wheeler: American Pro Trucker         0.35      PS2\n",
      "48                    18 Wheeler: American Pro Trucker         0.11       GC\n",
      "51                                    187: Ride or Die         0.13      PS2\n",
      "52                                    187: Ride or Die         0.06       XB\n",
      "62   2 in 1 Combo Pack: Sonic Heroes / Super Monkey...         0.51       XB\n",
      "63   2 in 1 Combo Pack: Sonic Heroes / Super Monkey...         0.10     X360\n",
      "65                                 2002 FIFA World Cup         0.54      PS2\n",
      "66                                 2002 FIFA World Cup         0.18       XB\n",
      "67                                 2002 FIFA World Cup         0.05       GC\n",
      "68                    2010 FIFA World Cup South Africa         1.01      PS3\n",
      "69                    2010 FIFA World Cup South Africa         0.76     X360\n",
      "70                    2010 FIFA World Cup South Africa         0.39      Wii\n",
      "71                    2010 FIFA World Cup South Africa         0.34      PSP\n",
      "72                          2014 FIFA World Cup Brazil         0.52      PS3\n",
      "73                          2014 FIFA World Cup Brazil         0.40     X360\n",
      "75                                          25 to Life         0.36      PS2\n",
      "76                                          25 to Life         0.16       XB\n",
      "86                   3rd Super Robot Wars Z Jigoku Hen         0.23      PS3\n",
      "87                   3rd Super Robot Wars Z Jigoku Hen         0.19      PSV\n",
      "88                 3rd Super Robot Wars Z: Tengoku-Hen         0.19      PSV\n",
      "89                 3rd Super Robot Wars Z: Tengoku-Hen         0.15      PS3\n",
      "95                        428: Fuusa Sareta Shibuya de         0.13      Wii\n",
      "96                        428: Fuusa Sareta Shibuya de         0.04      PSP\n",
      "97                        428: Fuusa Sareta Shibuya de         0.02      PS3\n",
      "98                                           4x4 EVO 2         0.23       XB\n",
      "99                                           4x4 EVO 2         0.14       GC\n",
      "101                         50 Cent: Blood on the Sand         0.19     X360\n",
      "102                         50 Cent: Blood on the Sand         0.17      PS3\n",
      "103                               50 Cent: Bulletproof         1.61      PS2\n",
      "104                               50 Cent: Bulletproof         0.43       XB\n",
      "105                               50 Cent: Bulletproof         0.08      PSP\n",
      "106                                   50 Classic Games         0.50       DS\n",
      "107                                   50 Classic Games         0.01      3DS\n",
      "109                                      7 Days to Die         0.12      PS4\n",
      "110                                      7 Days to Die         0.05     XOne\n",
      "113                     7 Wonders of the Ancient World         0.11       DS\n",
      "114                     7 Wonders of the Ancient World         0.07      PSP\n",
      "124                                       A Bug's Life         2.68       PS\n"
     ]
    }
   ],
   "execution_count": 344
  },
  {
   "metadata": {},
   "cell_type": "markdown",
   "source": [
    "- Los videojuegos difieren mucho en multiples plataformas, a pesar de tener el mismo titulo.\n",
    "- Las plataformas con mayor presencia son PS2 y PS3.\n",
    "- Cada plataforma lidera en generos diferentes.\n"
   ],
   "id": "5c86b6758704991b"
  },
  {
   "metadata": {
    "ExecuteTime": {
     "end_time": "2025-07-10T00:41:25.536831Z",
     "start_time": "2025-07-10T00:41:25.503332Z"
    }
   },
   "cell_type": "code",
   "source": [
    "games_genre = games.groupby('genre')[['eu_sales','na_sales','jp_sales']].sum()\n",
    "games_genre['total_sales'] = games_genre.sum(axis=1)\n",
    "games_genre = games_genre.sort_values(by='total_sales',ascending=False).reset_index()\n",
    "print(games_genre[['genre','total_sales']].head(50))"
   ],
   "id": "f8e7f20b43954251",
   "outputs": [
    {
     "name": "stdout",
     "output_type": "stream",
     "text": [
      "           genre  total_sales\n",
      "0         Action      1559.57\n",
      "1         Sports      1196.76\n",
      "2        Shooter       948.34\n",
      "3   Role-Playing       874.93\n",
      "4       Platform       776.68\n",
      "5           Misc       728.12\n",
      "6         Racing       652.57\n",
      "7       Fighting       411.17\n",
      "8     Simulation       359.24\n",
      "9         Puzzle       230.19\n",
      "10     Adventure       221.10\n",
      "11      Strategy       163.38\n",
      "12       unknown         2.34\n"
     ]
    }
   ],
   "execution_count": 345
  },
  {
   "metadata": {
    "ExecuteTime": {
     "end_time": "2025-07-10T00:41:25.953279Z",
     "start_time": "2025-07-10T00:41:25.646933Z"
    }
   },
   "cell_type": "code",
   "source": [
    "games_genre.groupby('genre')['total_sales'].sum().plot(\n",
    "    kind='bar',\n",
    "    figsize=(12,6),\n",
    "    xlabel='Genre',\n",
    "    ylabel='Sales: M.USD',\n",
    "    title='Ventas por genero'\n",
    ")"
   ],
   "id": "551c1bd7b78c09f2",
   "outputs": [
    {
     "data": {
      "text/plain": [
       "<Axes: title={'center': 'Ventas por genero'}, xlabel='Genre', ylabel='Sales: M.USD'>"
      ]
     },
     "execution_count": 346,
     "metadata": {},
     "output_type": "execute_result"
    },
    {
     "data": {
      "text/plain": [
       "<Figure size 1200x600 with 1 Axes>"
      ],
      "image/png": "[encoded data removed]"
     },
     "metadata": {},
     "output_type": "display_data"
    }
   ],
   "execution_count": 346
  },
  {
   "metadata": {},
   "cell_type": "markdown",
   "source": [
    "Los generos mas rentables son:\n",
    "- Action\n",
    "- Sports\n",
    "- Shooters\n",
    "\n",
    "Mientras que los menos rentables son:\n",
    "- Puzzle\n",
    "- Adventure\n",
    "- Strategy\n",
    "\n",
    "Lo que se podria generalizar de las ventas por genero, es que cada genero esta enfocado en una plataforma, PlayStation lidera en ventas de juegos de Action y Sports, Xbox lidera en Shooter.\n",
    "Los generos mainstream (juegos que atraen a publico masivo), son liderados por XBOX y PlayStation. Para juegos de rol, son liderados por plataformas como 3DS, Wii. Otros generos se distribuyen entre todas las plataformas teniendo un titulo diferente para cada una, pero un genero en comun."
   ],
   "id": "ef1355327b118e5a"
  },
  {
   "metadata": {
    "ExecuteTime": {
     "end_time": "2025-07-10T00:41:26.101551Z",
     "start_time": "2025-07-10T00:41:26.079832Z"
    }
   },
   "cell_type": "code",
   "source": [
    "profile_region = games.groupby('genre')[['eu_sales','na_sales','jp_sales']].sum()\n",
    "profile_region = profile_region.reset_index()\n",
    "print(profile_region.head(20))"
   ],
   "id": "99eb8eb08f6b0fd4",
   "outputs": [
    {
     "name": "stdout",
     "output_type": "stream",
     "text": [
      "           genre  eu_sales  na_sales  jp_sales\n",
      "0         Action    519.13    879.01    161.43\n",
      "1      Adventure     63.54    105.26     52.30\n",
      "2       Fighting    100.33    223.36     87.48\n",
      "3           Misc    212.74    407.27    108.11\n",
      "4       Platform    200.35    445.50    130.83\n",
      "5         Puzzle     50.01    122.87     57.31\n",
      "6         Racing    236.51    359.35     56.71\n",
      "7   Role-Playing    188.71    330.81    355.41\n",
      "8        Shooter    317.34    592.24     38.76\n",
      "9     Simulation    113.52    181.92     63.80\n",
      "10        Sports    376.79    684.43    135.54\n",
      "11      Strategy     45.17     68.55     49.66\n",
      "12       unknown      0.53      1.78      0.03\n"
     ]
    }
   ],
   "execution_count": 347
  },
  {
   "metadata": {},
   "cell_type": "markdown",
   "source": "Paso 4. Crea un perfil de usuario para cada region",
   "id": "fca1fd6766e43dd7"
  },
  {
   "metadata": {
    "ExecuteTime": {
     "end_time": "2025-07-10T00:41:26.609676Z",
     "start_time": "2025-07-10T00:41:26.246745Z"
    }
   },
   "cell_type": "code",
   "source": [
    "plt.figure(figsize=(14,8))\n",
    "bar_width = 0.20\n",
    "index = np.arange(len(profile_region['genre'])) # de posiciones en el eje x para cada genero\n",
    "plt.bar(index, profile_region['eu_sales'], bar_width, label='EU')\n",
    "plt.bar(index + bar_width, profile_region['na_sales'], bar_width, label='NA')\n",
    "plt.bar(index + 2*bar_width, profile_region['jp_sales'], bar_width, label='JP')\n",
    "\n",
    "plt.legend()\n",
    "plt.xlabel('Genre')\n",
    "plt.ylabel('Sales: M.USD')\n",
    "plt.title('Ventas por genero y region')\n",
    "plt.xticks(index+bar_width, profile_region['genre'],rotation=45)"
   ],
   "id": "a0d02ab0cafa064f",
   "outputs": [
    {
     "data": {
      "text/plain": [
       "([<matplotlib.axis.XTick at 0x20560b90580>,\n",
       "  <matplotlib.axis.XTick at 0x20563422dd0>,\n",
       "  <matplotlib.axis.XTick at 0x2056ca6f2e0>,\n",
       "  <matplotlib.axis.XTick at 0x2056ca6f3d0>,\n",
       "  <matplotlib.axis.XTick at 0x2056ca6e8c0>,\n",
       "  <matplotlib.axis.XTick at 0x2056cb4ce50>,\n",
       "  <matplotlib.axis.XTick at 0x2056cb4d870>,\n",
       "  <matplotlib.axis.XTick at 0x2056cb4e290>,\n",
       "  <matplotlib.axis.XTick at 0x2056ca6ef20>,\n",
       "  <matplotlib.axis.XTick at 0x2056cb4ec20>,\n",
       "  <matplotlib.axis.XTick at 0x2056cb4f640>,\n",
       "  <matplotlib.axis.XTick at 0x2056cb4ece0>,\n",
       "  <matplotlib.axis.XTick at 0x2056cb6cac0>],\n",
       " [Text(0.2, 0, 'Action'),\n",
       "  Text(1.2, 0, 'Adventure'),\n",
       "  Text(2.2, 0, 'Fighting'),\n",
       "  Text(3.2, 0, 'Misc'),\n",
       "  Text(4.2, 0, 'Platform'),\n",
       "  Text(5.2, 0, 'Puzzle'),\n",
       "  Text(6.2, 0, 'Racing'),\n",
       "  Text(7.2, 0, 'Role-Playing'),\n",
       "  Text(8.2, 0, 'Shooter'),\n",
       "  Text(9.2, 0, 'Simulation'),\n",
       "  Text(10.2, 0, 'Sports'),\n",
       "  Text(11.2, 0, 'Strategy'),\n",
       "  Text(12.2, 0, 'unknown')])"
      ]
     },
     "execution_count": 348,
     "metadata": {},
     "output_type": "execute_result"
    },
    {
     "data": {
      "text/plain": [
       "<Figure size 1400x800 with 1 Axes>"
      ],
      "image/png": "[encoded data removed]"
     },
     "metadata": {},
     "output_type": "display_data"
    }
   ],
   "execution_count": 348
  },
  {
   "metadata": {
    "ExecuteTime": {
     "end_time": "2025-07-10T00:41:26.754038Z",
     "start_time": "2025-07-10T00:41:26.720814Z"
    }
   },
   "cell_type": "code",
   "source": [
    "top_platform_region = games.groupby('platform')[['eu_sales','na_sales','jp_sales']].sum()\n",
    "\n",
    "top5_eu = top_platform_region.sort_values('eu_sales',ascending=False).head(5)\n",
    "top5_na = top_platform_region.sort_values('na_sales',ascending=False).head(5)\n",
    "top5_jp = top_platform_region.sort_values('jp_sales',ascending=False).head(5)\n",
    "print(\"El top 5 de plataformas mas vendidas en EU son:\")\n",
    "print(top5_eu['eu_sales'])\n",
    "print(\"El top 5 de plataformas mas vendidas en NA son:\")\n",
    "print(top5_na['na_sales'])\n",
    "print(\"El top 5 de plataformas mas vendidas en JP son:\")\n",
    "print(top5_jp['jp_sales'])"
   ],
   "id": "797eab25fe281246",
   "outputs": [
    {
     "name": "stdout",
     "output_type": "stream",
     "text": [
      "El top 5 de plataformas mas vendidas en EU son:\n",
      "platform\n",
      "PS2     339.29\n",
      "PS3     330.29\n",
      "X360    270.76\n",
      "Wii     262.21\n",
      "PS      213.61\n",
      "Name: eu_sales, dtype: float64\n",
      "El top 5 de plataformas mas vendidas en NA son:\n",
      "platform\n",
      "X360    602.47\n",
      "PS2     583.84\n",
      "Wii     496.90\n",
      "PS3     393.49\n",
      "DS      382.40\n",
      "Name: na_sales, dtype: float64\n",
      "El top 5 de plataformas mas vendidas en JP son:\n",
      "platform\n",
      "DS      175.57\n",
      "PS      139.82\n",
      "PS2     139.20\n",
      "SNES    116.55\n",
      "3DS     100.67\n",
      "Name: jp_sales, dtype: float64\n"
     ]
    }
   ],
   "execution_count": 349
  },
  {
   "metadata": {
    "ExecuteTime": {
     "end_time": "2025-07-10T00:41:26.893523Z",
     "start_time": "2025-07-10T00:41:26.861630Z"
    }
   },
   "cell_type": "code",
   "source": [
    "top_platform_region = games.groupby('genre')[['eu_sales','na_sales','jp_sales']].sum()\n",
    "\n",
    "top5_eu_1 = top_platform_region.sort_values('eu_sales',ascending=False).head(5)\n",
    "top5_na_1 = top_platform_region.sort_values('na_sales',ascending=False).head(5)\n",
    "top5_jp_1 = top_platform_region.sort_values('jp_sales',ascending=False).head(5)\n",
    "print(\"El top 5 de generos mas vendidos en EU son:\")\n",
    "print(top5_eu_1['eu_sales'])\n",
    "print(\"El top 5 de generos mas vendidos en NA son:\")\n",
    "print(top5_na_1['na_sales'])\n",
    "print(\"El top 5 de generos mas vendidos en JP son:\")\n",
    "print(top5_jp_1['jp_sales'])"
   ],
   "id": "4fb97fd99cbf9c1d",
   "outputs": [
    {
     "name": "stdout",
     "output_type": "stream",
     "text": [
      "El top 5 de generos mas vendidos en EU son:\n",
      "genre\n",
      "Action     519.13\n",
      "Sports     376.79\n",
      "Shooter    317.34\n",
      "Racing     236.51\n",
      "Misc       212.74\n",
      "Name: eu_sales, dtype: float64\n",
      "El top 5 de generos mas vendidos en NA son:\n",
      "genre\n",
      "Action      879.01\n",
      "Sports      684.43\n",
      "Shooter     592.24\n",
      "Platform    445.50\n",
      "Misc        407.27\n",
      "Name: na_sales, dtype: float64\n",
      "El top 5 de generos mas vendidos en JP son:\n",
      "genre\n",
      "Role-Playing    355.41\n",
      "Action          161.43\n",
      "Sports          135.54\n",
      "Platform        130.83\n",
      "Misc            108.11\n",
      "Name: jp_sales, dtype: float64\n"
     ]
    }
   ],
   "execution_count": 350
  },
  {
   "metadata": {},
   "cell_type": "markdown",
   "source": "Paso 5. Prueba de hipotesis",
   "id": "e5e5360d679fe16b"
  },
  {
   "metadata": {},
   "cell_type": "markdown",
   "source": [
    "Afirmacion:\n",
    "- Las calificaciones promedio de los usuarios para las plataformas Xbox One y PC son las mismas\n",
    "\n",
    "Hipotesis nula:\n",
    "- No hay diferencia entre las calificaciones promedio de los usuarios para las plataformas Xbox One y PC\n",
    "\n",
    "Hipotesis alternativa:\n",
    "- Existe una diferencia significativa entre ambas plataformas.\n",
    "\n",
    "¿Por que?\n",
    "- La afirmacion sugiere igualdad, lo que la convierte en la hipotesis nula."
   ],
   "id": "b0b77a01739fb26b"
  },
  {
   "metadata": {
    "ExecuteTime": {
     "end_time": "2025-07-10T01:34:03.206813Z",
     "start_time": "2025-07-10T01:34:03.177989Z"
    }
   },
   "cell_type": "code",
   "source": [
    "xbox_one_scores = games[games['platform']=='XOne']['user_score']\n",
    "pc_scores = games[games['platform']=='PC']['user_score']\n",
    "\n",
    "alpha = 0.05 # propuesta de umbral\n",
    "\n",
    "valor_p = levene(xbox_one_scores, pc_scores)\n",
    "\n",
    "if valor_p.pvalue > alpha:\n",
    "    print(f\"Varianzas iguales: {valor_p.pvalue:.2f} equal_var=True\")\n",
    "    prueba_t = stats.ttest_ind(xbox_one_scores,pc_scores,equal_var=True)\n",
    "    if prueba_t.pvalue <= alpha:\n",
    "        print(f\"Rechazamos la hipotesis nula, valor p: {prueba_t.pvalue:.2f}\")\n",
    "    else:\n",
    "        print(f\"No podemos rechazar la hipotesis nula: valor p: {prueba_t.pvalue:.2f}\")\n",
    "else:\n",
    "    print(f\"Varianzas desiguales: {valor_p.pvalue:.2f} equal_var=False\")"
   ],
   "id": "9a7dfbb73a81fc70",
   "outputs": [
    {
     "name": "stdout",
     "output_type": "stream",
     "text": [
      "Varianzas iguales: 0.99 equal_var=True\n",
      "Rechazamos la hipotesis nula, valor p: 0.00\n"
     ]
    }
   ],
   "execution_count": 360
  },
  {
   "metadata": {},
   "cell_type": "markdown",
   "source": [
    "Los resultados indican que aunque las varianzas son muy similares y que su hay diferencias significativas entre ambos promedios.\n",
    "\n",
    "Explicacion:\n",
    "- Escogi ttest_ind porque estamos hablando de grupos independientes, es decir, son usuarios diferentes los que califican dichas plataformas, usaria ttest_rel o ttest_dep solo si fueran los mismos usuarios los que califican ambas plataformas.\n",
    "- Use la prueba de homocedasticidad (varianzas) para verificar que no existan falsos positivos o negativos, es decir, con la varianza se busca ver que tan dispersos estan los datos alrededor de la media, entonces al usar equal_var = True o False, lo que busco es ajustar los parametros para evitar errores estadisticos."
   ],
   "id": "b8437ca30d0ef2de"
  },
  {
   "metadata": {},
   "cell_type": "markdown",
   "source": [
    "Afirmacion:\n",
    "- Las calificaciones promedio de los usuarios para los géneros de Acción y Deportes\n",
    "son diferentes\n",
    "\n",
    "Hipotesis nula:\n",
    "- No hay diferencia entre las calificaciones promedio de los usuarios para los generos de accion y deportes\n",
    "\n",
    "Hipotesis alternativa:\n",
    "- Existe una diferencia significativa entre las calificaciones promedio de ambos generos.\n",
    "\n",
    "¿Por que?\n",
    "- Porque la afirmacion sugiere diferencias, y la hipotesis nula siempre sugiere igualdad o sin efecto, por lo que la afirmacion seria la alternativa."
   ],
   "id": "8eaf552674910d14"
  },
  {
   "metadata": {
    "ExecuteTime": {
     "end_time": "2025-07-10T01:34:19.179999Z",
     "start_time": "2025-07-10T01:34:19.148244Z"
    }
   },
   "cell_type": "code",
   "source": [
    "action_scores = games[games['genre']=='Action']['user_score']\n",
    "sports_scores = games[games['genre']=='Sports']['user_score']\n",
    "\n",
    "alpha = 0.05 # propuesta de umbral\n",
    "\n",
    "valor_p1 = levene(action_scores, sports_scores)\n",
    "\n",
    "if valor_p1.pvalue > alpha:\n",
    "    print(f\"Varianzas iguales: {valor_p1.pvalue:.2f} equal_var=True\")\n",
    "    prueba_t_1 = stats.ttest_ind(action_scores,sports_scores,equal_var=True)\n",
    "    if prueba_t_1.pvalue <= alpha:\n",
    "        print(f\"Rechazamos la hipotesis nula, valor p: {prueba_t_1.pvalue:.2f}\")\n",
    "    else:\n",
    "        print(f\"No podemos rechazar la hipotesis nula, valor p: {prueba_t_1.pvalue:.2f}\")\n",
    "else:\n",
    "    print(f\"Varianzas desiguales: {valor_p1.pvalue:.2f} equal_var=False\")"
   ],
   "id": "90910ccc3a407b76",
   "outputs": [
    {
     "name": "stdout",
     "output_type": "stream",
     "text": [
      "Varianzas iguales: 0.68 equal_var=True\n",
      "No podemos rechazar la hipotesis nula, valor p: 0.71\n"
     ]
    }
   ],
   "execution_count": 361
  },
  {
   "metadata": {},
   "cell_type": "markdown",
   "source": [
    "Los resultados indican que las varianzas son iguales o al menos muy similares, ademas, igualmente los promedios son muy similares, no difieren entre ambos generos. Los usuarios califican de forma similar a ambos generos.\n",
    "\n",
    "Explicacion:\n",
    "- Use la misma logica que en la prueba de hipotesis anterior."
   ],
   "id": "bad33c92aad86e94"
  },
  {
   "metadata": {},
   "cell_type": "markdown",
   "source": [
    "Conclusion general\n",
    "\n",
    "El análisis evidencia que, para que una plataforma tenga éxito, es fundamental realizar un estudio previo del mercado y la región a la que se dirige. No basta con lanzar videojuegos populares en un área y esperar el mismo resultado en otra, ya que los datos muestran diferencias claras en las preferencias. Por ejemplo, mientras que en Europa y Norteamérica los géneros de acción, deportes o shooter suelen dominar las ventas, en Japón estos géneros no alcanzan la misma popularidad. En ese mercado, plataformas como Wii o 3DS destacan por su orientación al entretenimiento familiar, lo que sugiere un consumo más colectivo, a diferencia del enfoque individual que predomina en Occidente. Las cifras de ventas y la dispersión por género y plataforma refuerzan la importancia de adaptar tanto el catálogo como la estrategia de lanzamiento a las características de cada región."
   ],
   "id": "4d6a0a1c1124bf9e"
  },
  {
   "metadata": {},
   "cell_type": "code",
   "outputs": [],
   "execution_count": null,
   "source": "",
   "id": "421433e44315da68"
  }
 ],
 "metadata": {
  "kernelspec": {
   "display_name": "Python 3",
   "language": "python",
   "name": "python3"
  },
  "language_info": {
   "codemirror_mode": {
    "name": "ipython",
    "version": 2
   },
   "file_extension": ".py",
   "mimetype": "text/x-python",
   "name": "python",
   "nbconvert_exporter": "python",
   "pygments_lexer": "ipython2",
   "version": "2.7.6"
  }
 },
 "nbformat": 4,
 "nbformat_minor": 5
}
