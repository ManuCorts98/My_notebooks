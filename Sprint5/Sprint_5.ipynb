{
 "cells": [
  {
   "cell_type": "markdown",
   "metadata": {
    "id": "3rYiDeEH0q0f"
   },
   "source": [
    "# ¿Cuál es la mejor tarifa?\n",
    "\n",
    "Trabajas como analista para el operador de telecomunicaciones Megaline. La empresa ofrece a sus clientes dos tarifas de prepago, Surf y Ultimate. El departamento comercial quiere saber cuál de las tarifas genera más ingresos para poder ajustar el presupuesto de publicidad.\n",
    "\n",
    "Vas a realizar un análisis preliminar de las tarifas basado en una selección de clientes relativamente pequeña. Tendrás los datos de 500 clientes de Megaline: quiénes son los clientes, de dónde son, qué tarifa usan, así como la cantidad de llamadas que hicieron y los mensajes de texto que enviaron en 2018. Tu trabajo es analizar el comportamiento de los clientes y determinar qué tarifa de prepago genera más ingresos."
   ]
  },
  {
   "cell_type": "markdown",
   "metadata": {
    "id": "VNddPNRQ0q0w"
   },
   "source": [
    "[Te proporcionamos algunos comentarios para orientarte mientras completas este proyecto. Pero debes asegurarte de eliminar todos los comentarios entre corchetes antes de entregar tu proyecto.]\n",
    "\n",
    "[Antes de sumergirte en el análisis de datos, explica por tu propia cuenta el propósito del proyecto y las acciones que planeas realizar.]\n",
    "\n",
    "[Ten en cuenta que estudiar, modificar y analizar datos es un proceso iterativo. Es normal volver a los pasos anteriores y corregirlos/ampliarlos para permitir nuevos pasos.]"
   ]
  },
  {
   "cell_type": "markdown",
   "metadata": {
    "id": "MQi4IPy70q0y"
   },
   "source": [
    "## Inicialización"
   ]
  },
  {
   "cell_type": "code",
   "metadata": {
    "id": "MtYIuBxu0q0z",
    "ExecuteTime": {
     "end_time": "2025-07-05T00:11:09.309823Z",
     "start_time": "2025-07-05T00:11:09.297452Z"
    }
   },
   "source": [
    "from cProfile import label\n",
    "\n",
    "# Cargar todas las librerías\n",
    "import pandas as pd\n",
    "from scipy import *\n",
    "import numpy as np\n",
    "import matplotlib.pyplot as plt"
   ],
   "outputs": [],
   "execution_count": 294
  },
  {
   "cell_type": "markdown",
   "metadata": {
    "id": "4ysWWC5i0q00"
   },
   "source": [
    "## Cargar datos"
   ]
  },
  {
   "cell_type": "code",
   "metadata": {
    "id": "CCqPW7rS0q01",
    "ExecuteTime": {
     "end_time": "2025-07-05T00:11:09.833328Z",
     "start_time": "2025-07-05T00:11:09.430282Z"
    }
   },
   "source": [
    "# Carga los archivos de datos en diferentes DataFrames\n",
    "calls = pd.read_csv('megaline_calls.csv')\n",
    "internet = pd.read_csv('megaline_internet.csv')\n",
    "messages = pd.read_csv('megaline_messages.csv')\n",
    "plans = pd.read_csv('megaline_plans.csv')\n",
    "users = pd.read_csv('megaline_users.csv')\n"
   ],
   "outputs": [],
   "execution_count": 295
  },
  {
   "cell_type": "markdown",
   "metadata": {
    "id": "69qqoJ3r0q01"
   },
   "source": [
    "## Preparar los datos"
   ]
  },
  {
   "cell_type": "markdown",
   "metadata": {
    "id": "vUuZw80S0q01"
   },
   "source": [
    "[Los datos para este proyecto se dividen en varias tablas. Explora cada una para tener una comprensión inicial de los datos. Si es necesario, haz las correcciones requeridas en cada tabla.]"
   ]
  },
  {
   "cell_type": "code",
   "metadata": {
    "ExecuteTime": {
     "end_time": "2025-07-05T00:11:09.973915Z",
     "start_time": "2025-07-05T00:11:09.914020Z"
    }
   },
   "source": [
    "calls.info()\n",
    "internet.info()\n",
    "messages.info()\n",
    "plans.info()\n",
    "users.info()"
   ],
   "outputs": [
    {
     "name": "stdout",
     "output_type": "stream",
     "text": [
      "<class 'pandas.core.frame.DataFrame'>\n",
      "RangeIndex: 137735 entries, 0 to 137734\n",
      "Data columns (total 4 columns):\n",
      " #   Column     Non-Null Count   Dtype  \n",
      "---  ------     --------------   -----  \n",
      " 0   id         137735 non-null  object \n",
      " 1   user_id    137735 non-null  int64  \n",
      " 2   call_date  137735 non-null  object \n",
      " 3   duration   137735 non-null  float64\n",
      "dtypes: float64(1), int64(1), object(2)\n",
      "memory usage: 4.2+ MB\n",
      "<class 'pandas.core.frame.DataFrame'>\n",
      "RangeIndex: 104825 entries, 0 to 104824\n",
      "Data columns (total 4 columns):\n",
      " #   Column        Non-Null Count   Dtype  \n",
      "---  ------        --------------   -----  \n",
      " 0   id            104825 non-null  object \n",
      " 1   user_id       104825 non-null  int64  \n",
      " 2   session_date  104825 non-null  object \n",
      " 3   mb_used       104825 non-null  float64\n",
      "dtypes: float64(1), int64(1), object(2)\n",
      "memory usage: 3.2+ MB\n",
      "<class 'pandas.core.frame.DataFrame'>\n",
      "RangeIndex: 76051 entries, 0 to 76050\n",
      "Data columns (total 3 columns):\n",
      " #   Column        Non-Null Count  Dtype \n",
      "---  ------        --------------  ----- \n",
      " 0   id            76051 non-null  object\n",
      " 1   user_id       76051 non-null  int64 \n",
      " 2   message_date  76051 non-null  object\n",
      "dtypes: int64(1), object(2)\n",
      "memory usage: 1.7+ MB\n",
      "<class 'pandas.core.frame.DataFrame'>\n",
      "RangeIndex: 2 entries, 0 to 1\n",
      "Data columns (total 8 columns):\n",
      " #   Column                 Non-Null Count  Dtype  \n",
      "---  ------                 --------------  -----  \n",
      " 0   messages_included      2 non-null      int64  \n",
      " 1   mb_per_month_included  2 non-null      int64  \n",
      " 2   minutes_included       2 non-null      int64  \n",
      " 3   usd_monthly_pay        2 non-null      int64  \n",
      " 4   usd_per_gb             2 non-null      int64  \n",
      " 5   usd_per_message        2 non-null      float64\n",
      " 6   usd_per_minute         2 non-null      float64\n",
      " 7   plan_name              2 non-null      object \n",
      "dtypes: float64(2), int64(5), object(1)\n",
      "memory usage: 256.0+ bytes\n",
      "<class 'pandas.core.frame.DataFrame'>\n",
      "RangeIndex: 500 entries, 0 to 499\n",
      "Data columns (total 8 columns):\n",
      " #   Column      Non-Null Count  Dtype \n",
      "---  ------      --------------  ----- \n",
      " 0   user_id     500 non-null    int64 \n",
      " 1   first_name  500 non-null    object\n",
      " 2   last_name   500 non-null    object\n",
      " 3   age         500 non-null    int64 \n",
      " 4   city        500 non-null    object\n",
      " 5   reg_date    500 non-null    object\n",
      " 6   plan        500 non-null    object\n",
      " 7   churn_date  34 non-null     object\n",
      "dtypes: int64(2), object(6)\n",
      "memory usage: 31.4+ KB\n"
     ]
    }
   ],
   "execution_count": 296
  },
  {
   "cell_type": "code",
   "metadata": {
    "ExecuteTime": {
     "end_time": "2025-07-05T00:11:10.144760Z",
     "start_time": "2025-07-05T00:11:10.118416Z"
    }
   },
   "source": [
    "print(users.isna().sum())"
   ],
   "outputs": [
    {
     "name": "stdout",
     "output_type": "stream",
     "text": [
      "user_id         0\n",
      "first_name      0\n",
      "last_name       0\n",
      "age             0\n",
      "city            0\n",
      "reg_date        0\n",
      "plan            0\n",
      "churn_date    466\n",
      "dtype: int64\n"
     ]
    }
   ],
   "execution_count": 297
  },
  {
   "cell_type": "code",
   "metadata": {
    "ExecuteTime": {
     "end_time": "2025-07-05T00:11:10.332181Z",
     "start_time": "2025-07-05T00:11:10.320146Z"
    }
   },
   "source": [
    "print(users['churn_date'].sample(50))"
   ],
   "outputs": [
    {
     "name": "stdout",
     "output_type": "stream",
     "text": [
      "356           NaN\n",
      "409           NaN\n",
      "431           NaN\n",
      "311           NaN\n",
      "151           NaN\n",
      "241           NaN\n",
      "62            NaN\n",
      "64            NaN\n",
      "196           NaN\n",
      "355           NaN\n",
      "392           NaN\n",
      "314           NaN\n",
      "299           NaN\n",
      "284           NaN\n",
      "294           NaN\n",
      "109           NaN\n",
      "114           NaN\n",
      "489           NaN\n",
      "70            NaN\n",
      "350           NaN\n",
      "48            NaN\n",
      "490           NaN\n",
      "474           NaN\n",
      "174           NaN\n",
      "341           NaN\n",
      "400           NaN\n",
      "14            NaN\n",
      "455           NaN\n",
      "464           NaN\n",
      "124           NaN\n",
      "191    2018-11-30\n",
      "185           NaN\n",
      "440           NaN\n",
      "85            NaN\n",
      "142           NaN\n",
      "386           NaN\n",
      "296    2018-12-18\n",
      "288           NaN\n",
      "200           NaN\n",
      "46            NaN\n",
      "40     2018-12-30\n",
      "321           NaN\n",
      "388           NaN\n",
      "12     2018-11-16\n",
      "217           NaN\n",
      "235           NaN\n",
      "207           NaN\n",
      "153           NaN\n",
      "251           NaN\n",
      "188           NaN\n",
      "Name: churn_date, dtype: object\n"
     ]
    }
   ],
   "execution_count": 298
  },
  {
   "metadata": {
    "ExecuteTime": {
     "end_time": "2025-07-05T00:11:10.487406Z",
     "start_time": "2025-07-05T00:11:10.460085Z"
    }
   },
   "cell_type": "code",
   "source": [
    "print(calls)\n",
    "print(internet)\n",
    "print(messages)\n",
    "print(users)"
   ],
   "outputs": [
    {
     "name": "stdout",
     "output_type": "stream",
     "text": [
      "              id  user_id   call_date  duration\n",
      "0        1000_93     1000  2018-12-27      8.52\n",
      "1       1000_145     1000  2018-12-27     13.66\n",
      "2       1000_247     1000  2018-12-27     14.48\n",
      "3       1000_309     1000  2018-12-28      5.76\n",
      "4       1000_380     1000  2018-12-30      4.22\n",
      "...          ...      ...         ...       ...\n",
      "137730  1499_199     1499  2018-11-21      8.72\n",
      "137731  1499_200     1499  2018-10-20     10.89\n",
      "137732  1499_201     1499  2018-09-21      8.12\n",
      "137733  1499_202     1499  2018-10-10      0.37\n",
      "137734  1499_203     1499  2018-12-29     13.86\n",
      "\n",
      "[137735 rows x 4 columns]\n",
      "              id  user_id session_date  mb_used\n",
      "0        1000_13     1000   2018-12-29    89.86\n",
      "1       1000_204     1000   2018-12-31     0.00\n",
      "2       1000_379     1000   2018-12-28   660.40\n",
      "3       1000_413     1000   2018-12-26   270.99\n",
      "4       1000_442     1000   2018-12-27   880.22\n",
      "...          ...      ...          ...      ...\n",
      "104820  1499_215     1499   2018-10-20   218.06\n",
      "104821  1499_216     1499   2018-12-30   304.72\n",
      "104822  1499_217     1499   2018-09-22   292.75\n",
      "104823  1499_218     1499   2018-12-07     0.00\n",
      "104824  1499_219     1499   2018-12-24   758.31\n",
      "\n",
      "[104825 rows x 4 columns]\n",
      "             id  user_id message_date\n",
      "0      1000_125     1000   2018-12-27\n",
      "1      1000_160     1000   2018-12-31\n",
      "2      1000_223     1000   2018-12-31\n",
      "3      1000_251     1000   2018-12-27\n",
      "4      1000_255     1000   2018-12-26\n",
      "...         ...      ...          ...\n",
      "76046  1497_526     1497   2018-12-24\n",
      "76047  1497_536     1497   2018-12-24\n",
      "76048  1497_547     1497   2018-12-31\n",
      "76049  1497_558     1497   2018-12-24\n",
      "76050  1497_613     1497   2018-12-23\n",
      "\n",
      "[76051 rows x 3 columns]\n",
      "     user_id first_name   last_name  age  \\\n",
      "0       1000   Anamaria       Bauer   45   \n",
      "1       1001     Mickey   Wilkerson   28   \n",
      "2       1002     Carlee     Hoffman   36   \n",
      "3       1003   Reynaldo     Jenkins   52   \n",
      "4       1004    Leonila    Thompson   40   \n",
      "..       ...        ...         ...  ...   \n",
      "495     1495      Fidel      Sharpe   67   \n",
      "496     1496      Ariel    Shepherd   49   \n",
      "497     1497      Donte     Barrera   49   \n",
      "498     1498       Scot  Williamson   51   \n",
      "499     1499      Shena     Dickson   37   \n",
      "\n",
      "                                          city    reg_date      plan  \\\n",
      "0        Atlanta-Sandy Springs-Roswell, GA MSA  2018-12-24  ultimate   \n",
      "1              Seattle-Tacoma-Bellevue, WA MSA  2018-08-13      surf   \n",
      "2         Las Vegas-Henderson-Paradise, NV MSA  2018-10-21      surf   \n",
      "3                                Tulsa, OK MSA  2018-01-28      surf   \n",
      "4              Seattle-Tacoma-Bellevue, WA MSA  2018-05-23      surf   \n",
      "..                                         ...         ...       ...   \n",
      "495  New York-Newark-Jersey City, NY-NJ-PA MSA  2018-09-04      surf   \n",
      "496               New Orleans-Metairie, LA MSA  2018-02-20      surf   \n",
      "497     Los Angeles-Long Beach-Anaheim, CA MSA  2018-12-10  ultimate   \n",
      "498  New York-Newark-Jersey City, NY-NJ-PA MSA  2018-02-04      surf   \n",
      "499          Orlando-Kissimmee-Sanford, FL MSA  2018-05-06      surf   \n",
      "\n",
      "    churn_date  \n",
      "0          NaN  \n",
      "1          NaN  \n",
      "2          NaN  \n",
      "3          NaN  \n",
      "4          NaN  \n",
      "..         ...  \n",
      "495        NaN  \n",
      "496        NaN  \n",
      "497        NaN  \n",
      "498        NaN  \n",
      "499        NaN  \n",
      "\n",
      "[500 rows x 8 columns]\n"
     ]
    }
   ],
   "execution_count": 299
  },
  {
   "cell_type": "markdown",
   "metadata": {
    "id": "ohBhimvH0q01"
   },
   "source": [
    "## Tarifas"
   ]
  },
  {
   "cell_type": "code",
   "metadata": {
    "id": "GptqP3Q40q02",
    "ExecuteTime": {
     "end_time": "2025-07-05T00:11:10.691803Z",
     "start_time": "2025-07-05T00:11:10.615421Z"
    }
   },
   "source": [
    "# Imprime la información general/resumida sobre el DataFrame de las tarifas\n",
    "plans.info()\n",
    "plans.describe()"
   ],
   "outputs": [
    {
     "name": "stdout",
     "output_type": "stream",
     "text": [
      "<class 'pandas.core.frame.DataFrame'>\n",
      "RangeIndex: 2 entries, 0 to 1\n",
      "Data columns (total 8 columns):\n",
      " #   Column                 Non-Null Count  Dtype  \n",
      "---  ------                 --------------  -----  \n",
      " 0   messages_included      2 non-null      int64  \n",
      " 1   mb_per_month_included  2 non-null      int64  \n",
      " 2   minutes_included       2 non-null      int64  \n",
      " 3   usd_monthly_pay        2 non-null      int64  \n",
      " 4   usd_per_gb             2 non-null      int64  \n",
      " 5   usd_per_message        2 non-null      float64\n",
      " 6   usd_per_minute         2 non-null      float64\n",
      " 7   plan_name              2 non-null      object \n",
      "dtypes: float64(2), int64(5), object(1)\n",
      "memory usage: 256.0+ bytes\n"
     ]
    },
    {
     "data": {
      "text/plain": [
       "       messages_included  mb_per_month_included  minutes_included  \\\n",
       "count           2.000000               2.000000          2.000000   \n",
       "mean          525.000000           23040.000000       1750.000000   \n",
       "std           671.751442           10861.160159       1767.766953   \n",
       "min            50.000000           15360.000000        500.000000   \n",
       "25%           287.500000           19200.000000       1125.000000   \n",
       "50%           525.000000           23040.000000       1750.000000   \n",
       "75%           762.500000           26880.000000       2375.000000   \n",
       "max          1000.000000           30720.000000       3000.000000   \n",
       "\n",
       "       usd_monthly_pay  usd_per_gb  usd_per_message  usd_per_minute  \n",
       "count         2.000000     2.00000         2.000000        2.000000  \n",
       "mean         45.000000     8.50000         0.020000        0.020000  \n",
       "std          35.355339     2.12132         0.014142        0.014142  \n",
       "min          20.000000     7.00000         0.010000        0.010000  \n",
       "25%          32.500000     7.75000         0.015000        0.015000  \n",
       "50%          45.000000     8.50000         0.020000        0.020000  \n",
       "75%          57.500000     9.25000         0.025000        0.025000  \n",
       "max          70.000000    10.00000         0.030000        0.030000  "
      ],
      "text/html": [
       "<div>\n",
       "<style scoped>\n",
       "    .dataframe tbody tr th:only-of-type {\n",
       "        vertical-align: middle;\n",
       "    }\n",
       "\n",
       "    .dataframe tbody tr th {\n",
       "        vertical-align: top;\n",
       "    }\n",
       "\n",
       "    .dataframe thead th {\n",
       "        text-align: right;\n",
       "    }\n",
       "</style>\n",
       "<table border=\"1\" class=\"dataframe\">\n",
       "  <thead>\n",
       "    <tr style=\"text-align: right;\">\n",
       "      <th></th>\n",
       "      <th>messages_included</th>\n",
       "      <th>mb_per_month_included</th>\n",
       "      <th>minutes_included</th>\n",
       "      <th>usd_monthly_pay</th>\n",
       "      <th>usd_per_gb</th>\n",
       "      <th>usd_per_message</th>\n",
       "      <th>usd_per_minute</th>\n",
       "    </tr>\n",
       "  </thead>\n",
       "  <tbody>\n",
       "    <tr>\n",
       "      <th>count</th>\n",
       "      <td>2.000000</td>\n",
       "      <td>2.000000</td>\n",
       "      <td>2.000000</td>\n",
       "      <td>2.000000</td>\n",
       "      <td>2.00000</td>\n",
       "      <td>2.000000</td>\n",
       "      <td>2.000000</td>\n",
       "    </tr>\n",
       "    <tr>\n",
       "      <th>mean</th>\n",
       "      <td>525.000000</td>\n",
       "      <td>23040.000000</td>\n",
       "      <td>1750.000000</td>\n",
       "      <td>45.000000</td>\n",
       "      <td>8.50000</td>\n",
       "      <td>0.020000</td>\n",
       "      <td>0.020000</td>\n",
       "    </tr>\n",
       "    <tr>\n",
       "      <th>std</th>\n",
       "      <td>671.751442</td>\n",
       "      <td>10861.160159</td>\n",
       "      <td>1767.766953</td>\n",
       "      <td>35.355339</td>\n",
       "      <td>2.12132</td>\n",
       "      <td>0.014142</td>\n",
       "      <td>0.014142</td>\n",
       "    </tr>\n",
       "    <tr>\n",
       "      <th>min</th>\n",
       "      <td>50.000000</td>\n",
       "      <td>15360.000000</td>\n",
       "      <td>500.000000</td>\n",
       "      <td>20.000000</td>\n",
       "      <td>7.00000</td>\n",
       "      <td>0.010000</td>\n",
       "      <td>0.010000</td>\n",
       "    </tr>\n",
       "    <tr>\n",
       "      <th>25%</th>\n",
       "      <td>287.500000</td>\n",
       "      <td>19200.000000</td>\n",
       "      <td>1125.000000</td>\n",
       "      <td>32.500000</td>\n",
       "      <td>7.75000</td>\n",
       "      <td>0.015000</td>\n",
       "      <td>0.015000</td>\n",
       "    </tr>\n",
       "    <tr>\n",
       "      <th>50%</th>\n",
       "      <td>525.000000</td>\n",
       "      <td>23040.000000</td>\n",
       "      <td>1750.000000</td>\n",
       "      <td>45.000000</td>\n",
       "      <td>8.50000</td>\n",
       "      <td>0.020000</td>\n",
       "      <td>0.020000</td>\n",
       "    </tr>\n",
       "    <tr>\n",
       "      <th>75%</th>\n",
       "      <td>762.500000</td>\n",
       "      <td>26880.000000</td>\n",
       "      <td>2375.000000</td>\n",
       "      <td>57.500000</td>\n",
       "      <td>9.25000</td>\n",
       "      <td>0.025000</td>\n",
       "      <td>0.025000</td>\n",
       "    </tr>\n",
       "    <tr>\n",
       "      <th>max</th>\n",
       "      <td>1000.000000</td>\n",
       "      <td>30720.000000</td>\n",
       "      <td>3000.000000</td>\n",
       "      <td>70.000000</td>\n",
       "      <td>10.00000</td>\n",
       "      <td>0.030000</td>\n",
       "      <td>0.030000</td>\n",
       "    </tr>\n",
       "  </tbody>\n",
       "</table>\n",
       "</div>"
      ]
     },
     "execution_count": 300,
     "metadata": {},
     "output_type": "execute_result"
    }
   ],
   "execution_count": 300
  },
  {
   "cell_type": "code",
   "metadata": {
    "id": "64xzjwL70q02",
    "ExecuteTime": {
     "end_time": "2025-07-05T00:11:10.957181Z",
     "start_time": "2025-07-05T00:11:10.934026Z"
    }
   },
   "source": [
    "# Imprime una muestra de los datos para las tarifas\n",
    "print(plans.sample())"
   ],
   "outputs": [
    {
     "name": "stdout",
     "output_type": "stream",
     "text": [
      "   messages_included  mb_per_month_included  minutes_included  \\\n",
      "0                 50                  15360               500   \n",
      "\n",
      "   usd_monthly_pay  usd_per_gb  usd_per_message  usd_per_minute plan_name  \n",
      "0               20          10             0.03            0.03      surf  \n"
     ]
    }
   ],
   "execution_count": 301
  },
  {
   "cell_type": "markdown",
   "metadata": {
    "id": "mEc_3_hs0q02"
   },
   "source": [
    "[Describe lo que ves y observas en la información general y en la muestra de datos impresa para el precio de datos anterior. ¿Hay algún problema (tipos de datos no adecuados, datos ausentes, etc.) que pudieran necesitar investigación y cambios adicionales? ¿Cómo se puede arreglar?]\n",
    "Inicialmente al revisar la tabla plans, en la columna de churn_date, podria entenderse que esta mal el tipo de dato, pero los valores ausentes que tiene se podrian sustituir por un 'Active', entonces quedaria bien dejarlo como tipo string.\n",
    "En cuanto a la columna de 'duracion', se esta manejando en un tipo flotante, mientras que lo correcto seria manejarlo en un tipo entero, ya que se nos indica que la compañia redondea a enteros a pesar de que se haya consumido solo 1 segundo, se sube a 1 minuto.\n",
    "El manejo de fechas estan en formato string, lo ideal es que fueran en formato datetime, pero para usos practicos de analisis, se podria considerar que string esta bien, al final se podria crear una columna adicional."
   ]
  },
  {
   "cell_type": "markdown",
   "metadata": {
    "collapsed": false,
    "id": "R3C05i1l0q03",
    "jupyter": {
     "outputs_hidden": false
    }
   },
   "source": [
    "## Corregir datos"
   ]
  },
  {
   "cell_type": "markdown",
   "metadata": {
    "id": "bIi8StZI0q03"
   },
   "source": [
    "[Corrige los problemas obvios con los datos basándote en las observaciones iniciales.]"
   ]
  },
  {
   "cell_type": "code",
   "metadata": {
    "id": "Y7SVmjGn0q03",
    "ExecuteTime": {
     "end_time": "2025-07-05T00:11:11.299502Z",
     "start_time": "2025-07-05T00:11:11.274023Z"
    }
   },
   "source": [
    "calls['duration'] = np.ceil(calls['duration']) # redondea hacia arriba siempre que > 0\n",
    "calls['duration'] = pd.to_numeric(calls['duration']).astype(int)\n",
    "print(calls)"
   ],
   "outputs": [
    {
     "name": "stdout",
     "output_type": "stream",
     "text": [
      "              id  user_id   call_date  duration\n",
      "0        1000_93     1000  2018-12-27         9\n",
      "1       1000_145     1000  2018-12-27        14\n",
      "2       1000_247     1000  2018-12-27        15\n",
      "3       1000_309     1000  2018-12-28         6\n",
      "4       1000_380     1000  2018-12-30         5\n",
      "...          ...      ...         ...       ...\n",
      "137730  1499_199     1499  2018-11-21         9\n",
      "137731  1499_200     1499  2018-10-20        11\n",
      "137732  1499_201     1499  2018-09-21         9\n",
      "137733  1499_202     1499  2018-10-10         1\n",
      "137734  1499_203     1499  2018-12-29        14\n",
      "\n",
      "[137735 rows x 4 columns]\n"
     ]
    }
   ],
   "execution_count": 302
  },
  {
   "metadata": {
    "ExecuteTime": {
     "end_time": "2025-07-05T00:11:11.564914Z",
     "start_time": "2025-07-05T00:11:11.537660Z"
    }
   },
   "cell_type": "code",
   "source": [
    "users['status'] = users['churn_date'].apply(\n",
    "    lambda x: 'Active' if pd.isna(x) else 'Inactive'\n",
    ")\n",
    "users['churn_date'] = users['churn_date'].fillna('active')\n",
    "print(users)"
   ],
   "outputs": [
    {
     "name": "stdout",
     "output_type": "stream",
     "text": [
      "     user_id first_name   last_name  age  \\\n",
      "0       1000   Anamaria       Bauer   45   \n",
      "1       1001     Mickey   Wilkerson   28   \n",
      "2       1002     Carlee     Hoffman   36   \n",
      "3       1003   Reynaldo     Jenkins   52   \n",
      "4       1004    Leonila    Thompson   40   \n",
      "..       ...        ...         ...  ...   \n",
      "495     1495      Fidel      Sharpe   67   \n",
      "496     1496      Ariel    Shepherd   49   \n",
      "497     1497      Donte     Barrera   49   \n",
      "498     1498       Scot  Williamson   51   \n",
      "499     1499      Shena     Dickson   37   \n",
      "\n",
      "                                          city    reg_date      plan  \\\n",
      "0        Atlanta-Sandy Springs-Roswell, GA MSA  2018-12-24  ultimate   \n",
      "1              Seattle-Tacoma-Bellevue, WA MSA  2018-08-13      surf   \n",
      "2         Las Vegas-Henderson-Paradise, NV MSA  2018-10-21      surf   \n",
      "3                                Tulsa, OK MSA  2018-01-28      surf   \n",
      "4              Seattle-Tacoma-Bellevue, WA MSA  2018-05-23      surf   \n",
      "..                                         ...         ...       ...   \n",
      "495  New York-Newark-Jersey City, NY-NJ-PA MSA  2018-09-04      surf   \n",
      "496               New Orleans-Metairie, LA MSA  2018-02-20      surf   \n",
      "497     Los Angeles-Long Beach-Anaheim, CA MSA  2018-12-10  ultimate   \n",
      "498  New York-Newark-Jersey City, NY-NJ-PA MSA  2018-02-04      surf   \n",
      "499          Orlando-Kissimmee-Sanford, FL MSA  2018-05-06      surf   \n",
      "\n",
      "    churn_date  status  \n",
      "0       active  Active  \n",
      "1       active  Active  \n",
      "2       active  Active  \n",
      "3       active  Active  \n",
      "4       active  Active  \n",
      "..         ...     ...  \n",
      "495     active  Active  \n",
      "496     active  Active  \n",
      "497     active  Active  \n",
      "498     active  Active  \n",
      "499     active  Active  \n",
      "\n",
      "[500 rows x 9 columns]\n"
     ]
    }
   ],
   "execution_count": 303
  },
  {
   "cell_type": "markdown",
   "metadata": {
    "id": "LJir7bml0q03"
   },
   "source": [
    "## Enriquecer los datos"
   ]
  },
  {
   "cell_type": "markdown",
   "metadata": {
    "id": "eqADpCfg0q04"
   },
   "source": [
    "[Agrega factores adicionales a los datos si crees que pudieran ser útiles.]"
   ]
  },
  {
   "cell_type": "code",
   "metadata": {
    "id": "gfcIEuXV0q04",
    "ExecuteTime": {
     "end_time": "2025-07-05T00:11:11.721248Z",
     "start_time": "2025-07-05T00:11:11.716579Z"
    }
   },
   "source": "",
   "outputs": [],
   "execution_count": null
  },
  {
   "cell_type": "markdown",
   "metadata": {
    "id": "1n2X6WXf0q04"
   },
   "source": [
    "## Usuarios/as"
   ]
  },
  {
   "cell_type": "code",
   "metadata": {
    "id": "2NgjWFqx0q05",
    "ExecuteTime": {
     "end_time": "2025-07-05T00:11:11.862494Z",
     "start_time": "2025-07-05T00:11:11.818174Z"
    }
   },
   "source": [
    "# Imprime la información general/resumida sobre el DataFrame de usuarios\n",
    "users.info()\n",
    "users.describe()"
   ],
   "outputs": [
    {
     "name": "stdout",
     "output_type": "stream",
     "text": [
      "<class 'pandas.core.frame.DataFrame'>\n",
      "RangeIndex: 500 entries, 0 to 499\n",
      "Data columns (total 9 columns):\n",
      " #   Column      Non-Null Count  Dtype \n",
      "---  ------      --------------  ----- \n",
      " 0   user_id     500 non-null    int64 \n",
      " 1   first_name  500 non-null    object\n",
      " 2   last_name   500 non-null    object\n",
      " 3   age         500 non-null    int64 \n",
      " 4   city        500 non-null    object\n",
      " 5   reg_date    500 non-null    object\n",
      " 6   plan        500 non-null    object\n",
      " 7   churn_date  500 non-null    object\n",
      " 8   status      500 non-null    object\n",
      "dtypes: int64(2), object(7)\n",
      "memory usage: 35.3+ KB\n"
     ]
    },
    {
     "data": {
      "text/plain": [
       "           user_id         age\n",
       "count   500.000000  500.000000\n",
       "mean   1249.500000   45.486000\n",
       "std     144.481833   16.972269\n",
       "min    1000.000000   18.000000\n",
       "25%    1124.750000   30.000000\n",
       "50%    1249.500000   46.000000\n",
       "75%    1374.250000   61.000000\n",
       "max    1499.000000   75.000000"
      ],
      "text/html": [
       "<div>\n",
       "<style scoped>\n",
       "    .dataframe tbody tr th:only-of-type {\n",
       "        vertical-align: middle;\n",
       "    }\n",
       "\n",
       "    .dataframe tbody tr th {\n",
       "        vertical-align: top;\n",
       "    }\n",
       "\n",
       "    .dataframe thead th {\n",
       "        text-align: right;\n",
       "    }\n",
       "</style>\n",
       "<table border=\"1\" class=\"dataframe\">\n",
       "  <thead>\n",
       "    <tr style=\"text-align: right;\">\n",
       "      <th></th>\n",
       "      <th>user_id</th>\n",
       "      <th>age</th>\n",
       "    </tr>\n",
       "  </thead>\n",
       "  <tbody>\n",
       "    <tr>\n",
       "      <th>count</th>\n",
       "      <td>500.000000</td>\n",
       "      <td>500.000000</td>\n",
       "    </tr>\n",
       "    <tr>\n",
       "      <th>mean</th>\n",
       "      <td>1249.500000</td>\n",
       "      <td>45.486000</td>\n",
       "    </tr>\n",
       "    <tr>\n",
       "      <th>std</th>\n",
       "      <td>144.481833</td>\n",
       "      <td>16.972269</td>\n",
       "    </tr>\n",
       "    <tr>\n",
       "      <th>min</th>\n",
       "      <td>1000.000000</td>\n",
       "      <td>18.000000</td>\n",
       "    </tr>\n",
       "    <tr>\n",
       "      <th>25%</th>\n",
       "      <td>1124.750000</td>\n",
       "      <td>30.000000</td>\n",
       "    </tr>\n",
       "    <tr>\n",
       "      <th>50%</th>\n",
       "      <td>1249.500000</td>\n",
       "      <td>46.000000</td>\n",
       "    </tr>\n",
       "    <tr>\n",
       "      <th>75%</th>\n",
       "      <td>1374.250000</td>\n",
       "      <td>61.000000</td>\n",
       "    </tr>\n",
       "    <tr>\n",
       "      <th>max</th>\n",
       "      <td>1499.000000</td>\n",
       "      <td>75.000000</td>\n",
       "    </tr>\n",
       "  </tbody>\n",
       "</table>\n",
       "</div>"
      ]
     },
     "execution_count": 304,
     "metadata": {},
     "output_type": "execute_result"
    }
   ],
   "execution_count": 304
  },
  {
   "cell_type": "code",
   "metadata": {
    "id": "1IN1L9uh0q05",
    "ExecuteTime": {
     "end_time": "2025-07-05T00:11:12.128077Z",
     "start_time": "2025-07-05T00:11:12.100650Z"
    }
   },
   "source": [
    "# Imprime una muestra de datos para usuarios\n",
    "print(users.sample(50))\n"
   ],
   "outputs": [
    {
     "name": "stdout",
     "output_type": "stream",
     "text": [
      "     user_id  first_name   last_name  age  \\\n",
      "492     1492       Elvie       Jones   63   \n",
      "421     1421        Zane       Hobbs   26   \n",
      "49      1049       Loise       Avery   25   \n",
      "275     1275       Elvie   Velazquez   33   \n",
      "54      1054       Denis       Frost   50   \n",
      "102     1102   Marquitta      Walton   30   \n",
      "411     1411         Man     Fleming   64   \n",
      "140     1140    Randolph      Graves   53   \n",
      "188     1188    Ethelene       Brock   31   \n",
      "42      1042  Clementina  Mclaughlin   40   \n",
      "176     1176    Terrance     Shaffer   75   \n",
      "44      1044      Devora    Galloway   74   \n",
      "360     1360      Arturo     Mullins   75   \n",
      "130     1130    Clarence  Cunningham   27   \n",
      "441     1441      Piedad       Myers   23   \n",
      "198     1198        Russ       Horne   69   \n",
      "383     1383   Margarito       Mccoy   52   \n",
      "81      1081      Grayce       Sears   44   \n",
      "17      1017       Boris       Gates   61   \n",
      "25      1025        Jess   Wilkinson   64   \n",
      "160     1160      Steven      Morgan   44   \n",
      "128     1128      Lucius   Fernandez   41   \n",
      "31      1031        Lane      Martin   52   \n",
      "408     1408      Alaine   Robertson   40   \n",
      "6       1006      Jesusa    Bradford   73   \n",
      "191     1191        Zack      Waters   75   \n",
      "404     1404     Paulita      Conley   33   \n",
      "456     1456     Seymour       Olsen   66   \n",
      "390     1390     Deloras  Strickland   61   \n",
      "212     1212     Alfredo      Pruitt   36   \n",
      "24      1024        Yuki       Tyson   74   \n",
      "355     1355       Digna       Tyson   57   \n",
      "183     1183    Jermaine    Gallegos   71   \n",
      "61      1061      Maryam    Valencia   38   \n",
      "151     1151       Ralph      Monroe   21   \n",
      "139     1139      Thomas      Lawson   66   \n",
      "422     1422  Georgianne        Huff   41   \n",
      "428     1428    Asuncion      Conrad   66   \n",
      "446     1446    Pasquale        Ball   52   \n",
      "365     1365     Milford        Rush   19   \n",
      "214     1214        Emil      Robles   34   \n",
      "274     1274      Dudley      Massey   53   \n",
      "195     1195         Roy       Velez   60   \n",
      "261     1261       Dusti      Forbes   31   \n",
      "317     1317    Ruthanne       Heath   70   \n",
      "187     1187      Tanner     Goodman   49   \n",
      "58      1058    Reinaldo       Colon   59   \n",
      "88      1088       Paris   Robertson   64   \n",
      "13      1013     Nicolas      Snider   50   \n",
      "150     1150      Earlie       Giles   46   \n",
      "\n",
      "                                                 city    reg_date      plan  \\\n",
      "492           Portland-Vancouver-Hillsboro, OR-WA MSA  2018-03-07      surf   \n",
      "421                     Phoenix-Mesa-Chandler, AZ MSA  2018-05-18      surf   \n",
      "49          New York-Newark-Jersey City, NY-NJ-PA MSA  2018-02-21      surf   \n",
      "275         New York-Newark-Jersey City, NY-NJ-PA MSA  2018-11-29  ultimate   \n",
      "54                      Phoenix-Mesa-Chandler, AZ MSA  2018-04-21      surf   \n",
      "102          Riverside-San Bernardino-Ontario, CA MSA  2018-02-20  ultimate   \n",
      "411                                 Rochester, NY MSA  2018-08-10      surf   \n",
      "140         New York-Newark-Jersey City, NY-NJ-PA MSA  2018-03-26      surf   \n",
      "188                                  Richmond, VA MSA  2018-01-10  ultimate   \n",
      "42    Philadelphia-Camden-Wilmington, PA-NJ-DE-MD MSA  2018-01-15      surf   \n",
      "176         New York-Newark-Jersey City, NY-NJ-PA MSA  2018-10-03      surf   \n",
      "44                                Albuquerque, NM MSA  2018-08-30      surf   \n",
      "360             Charlotte-Concord-Gastonia, NC-SC MSA  2018-09-20      surf   \n",
      "130   Philadelphia-Camden-Wilmington, PA-NJ-DE-MD MSA  2018-05-17      surf   \n",
      "441             Atlanta-Sandy Springs-Roswell, GA MSA  2018-03-08  ultimate   \n",
      "198         New York-Newark-Jersey City, NY-NJ-PA MSA  2018-05-01      surf   \n",
      "383           Tampa-St. Petersburg-Clearwater, FL MSA  2018-10-10  ultimate   \n",
      "81                Dallas-Fort Worth-Arlington, TX MSA  2018-04-27      surf   \n",
      "17   Washington-Arlington-Alexandria, DC-VA-MD-WV MSA  2018-08-26      surf   \n",
      "25              Atlanta-Sandy Springs-Roswell, GA MSA  2018-10-28  ultimate   \n",
      "160           Portland-Vancouver-Hillsboro, OR-WA MSA  2018-02-05      surf   \n",
      "128                                 Knoxville, TN MSA  2018-01-25  ultimate   \n",
      "31          New York-Newark-Jersey City, NY-NJ-PA MSA  2018-07-15  ultimate   \n",
      "408                 Baltimore-Columbia-Towson, MD MSA  2018-01-11      surf   \n",
      "6              San Francisco-Oakland-Berkeley, CA MSA  2018-11-27  ultimate   \n",
      "191                              St. Louis, MO-IL MSA  2018-01-21  ultimate   \n",
      "404         New York-Newark-Jersey City, NY-NJ-PA MSA  2018-04-16      surf   \n",
      "456       Minneapolis-St. Paul-Bloomington, MN-WI MSA  2018-06-02  ultimate   \n",
      "390            Chicago-Naperville-Elgin, IL-IN-WI MSA  2018-03-11  ultimate   \n",
      "212              Austin-Round Rock-Georgetown, TX MSA  2018-07-27      surf   \n",
      "24          New York-Newark-Jersey City, NY-NJ-PA MSA  2018-08-21      surf   \n",
      "355            Los Angeles-Long Beach-Anaheim, CA MSA  2018-10-07      surf   \n",
      "183            Chicago-Naperville-Elgin, IL-IN-WI MSA  2018-07-20      surf   \n",
      "61                                   Columbia, SC MSA  2018-03-08  ultimate   \n",
      "151         New York-Newark-Jersey City, NY-NJ-PA MSA  2018-03-20      surf   \n",
      "139                      New Orleans-Metairie, LA MSA  2018-11-18      surf   \n",
      "422            Los Angeles-Long Beach-Anaheim, CA MSA  2018-04-03  ultimate   \n",
      "428                     Phoenix-Mesa-Chandler, AZ MSA  2018-10-23      surf   \n",
      "446              Austin-Round Rock-Georgetown, TX MSA  2018-09-10      surf   \n",
      "365                     Grand Rapids-Kentwood, MI MSA  2018-02-09      surf   \n",
      "214            San Francisco-Oakland-Berkeley, CA MSA  2018-01-01  ultimate   \n",
      "274   Philadelphia-Camden-Wilmington, PA-NJ-DE-MD MSA  2018-06-10  ultimate   \n",
      "195           Portland-Vancouver-Hillsboro, OR-WA MSA  2018-06-09      surf   \n",
      "261                            Kansas City, MO-KS MSA  2018-02-22      surf   \n",
      "317                     Phoenix-Mesa-Chandler, AZ MSA  2018-11-11  ultimate   \n",
      "187              Austin-Round Rock-Georgetown, TX MSA  2018-02-20      surf   \n",
      "58             Los Angeles-Long Beach-Anaheim, CA MSA  2018-11-06      surf   \n",
      "88                      Phoenix-Mesa-Chandler, AZ MSA  2018-05-27  ultimate   \n",
      "13                                  Knoxville, TN MSA  2018-12-01  ultimate   \n",
      "150          Houston-The Woodlands-Sugar Land, TX MSA  2018-09-19  ultimate   \n",
      "\n",
      "     churn_date    status  \n",
      "492      active    Active  \n",
      "421      active    Active  \n",
      "49       active    Active  \n",
      "275      active    Active  \n",
      "54   2018-12-31  Inactive  \n",
      "102      active    Active  \n",
      "411      active    Active  \n",
      "140      active    Active  \n",
      "188      active    Active  \n",
      "42       active    Active  \n",
      "176      active    Active  \n",
      "44       active    Active  \n",
      "360      active    Active  \n",
      "130      active    Active  \n",
      "441  2018-08-19  Inactive  \n",
      "198      active    Active  \n",
      "383      active    Active  \n",
      "81       active    Active  \n",
      "17       active    Active  \n",
      "25       active    Active  \n",
      "160      active    Active  \n",
      "128      active    Active  \n",
      "31       active    Active  \n",
      "408      active    Active  \n",
      "6    2018-12-18  Inactive  \n",
      "191  2018-11-30  Inactive  \n",
      "404      active    Active  \n",
      "456      active    Active  \n",
      "390      active    Active  \n",
      "212      active    Active  \n",
      "24       active    Active  \n",
      "355      active    Active  \n",
      "183      active    Active  \n",
      "61       active    Active  \n",
      "151      active    Active  \n",
      "139      active    Active  \n",
      "422      active    Active  \n",
      "428      active    Active  \n",
      "446      active    Active  \n",
      "365      active    Active  \n",
      "214      active    Active  \n",
      "274      active    Active  \n",
      "195      active    Active  \n",
      "261      active    Active  \n",
      "317      active    Active  \n",
      "187      active    Active  \n",
      "58       active    Active  \n",
      "88       active    Active  \n",
      "13       active    Active  \n",
      "150      active    Active  \n"
     ]
    }
   ],
   "execution_count": 305
  },
  {
   "cell_type": "markdown",
   "metadata": {
    "id": "dCZoUq4f0q06"
   },
   "source": [
    "[Describe lo que ves y observas en la información general y en la muestra de datos impresa para el precio de datos anterior. ¿Hay algún problema (tipos de datos no adecuados, datos ausentes, etc.) que pudieran necesitar investigación y cambios adicionales? ¿Cómo se puede arreglar?\n",
    "\n",
    "Los datos ausentes que antes se tenian, ya se corrigieron, ya no tenemos ausentes porque fueron reemplazados por un string 'active', pero ademas se agrego una columna adicional que nos puede servir para representar en una metrica de activos vs inactivos, donde el valor original era de 6.8% de usuarios inactivos."
   ]
  },
  {
   "cell_type": "markdown",
   "metadata": {
    "id": "BX5FQh_I0q06"
   },
   "source": [
    "### Corregir los datos"
   ]
  },
  {
   "cell_type": "markdown",
   "metadata": {
    "id": "8OdKMwJv0q06"
   },
   "source": [
    "[Corrige los problemas obvios con los datos basándote en las observaciones iniciales.]"
   ]
  },
  {
   "cell_type": "code",
   "metadata": {
    "id": "yUqX-K0C0q07",
    "ExecuteTime": {
     "end_time": "2025-07-05T00:11:12.378888Z",
     "start_time": "2025-07-05T00:11:12.366830Z"
    }
   },
   "source": [],
   "outputs": [],
   "execution_count": null
  },
  {
   "cell_type": "markdown",
   "metadata": {
    "id": "ycwuARJp0q07"
   },
   "source": [
    "### Enriquecer los datos"
   ]
  },
  {
   "cell_type": "markdown",
   "metadata": {
    "id": "96NIh4CJ0q08"
   },
   "source": [
    "[Agrega factores adicionales a los datos si crees que pudieran ser útiles.]"
   ]
  },
  {
   "cell_type": "code",
   "metadata": {
    "id": "iq0AaBS90q08",
    "ExecuteTime": {
     "end_time": "2025-07-05T00:11:12.579335Z",
     "start_time": "2025-07-05T00:11:12.567778Z"
    }
   },
   "source": [],
   "outputs": [],
   "execution_count": null
  },
  {
   "cell_type": "markdown",
   "metadata": {
    "id": "o7MeKCid0q08"
   },
   "source": [
    "## Llamadas"
   ]
  },
  {
   "cell_type": "code",
   "metadata": {
    "id": "6dDlnoDm0q08",
    "ExecuteTime": {
     "end_time": "2025-07-05T00:11:12.827884Z",
     "start_time": "2025-07-05T00:11:12.768650Z"
    }
   },
   "source": [
    "# Imprime la información general/resumida sobre el DataFrame de las llamadas\n",
    "calls.info()\n",
    "calls.describe()"
   ],
   "outputs": [
    {
     "name": "stdout",
     "output_type": "stream",
     "text": [
      "<class 'pandas.core.frame.DataFrame'>\n",
      "RangeIndex: 137735 entries, 0 to 137734\n",
      "Data columns (total 4 columns):\n",
      " #   Column     Non-Null Count   Dtype \n",
      "---  ------     --------------   ----- \n",
      " 0   id         137735 non-null  object\n",
      " 1   user_id    137735 non-null  int64 \n",
      " 2   call_date  137735 non-null  object\n",
      " 3   duration   137735 non-null  int64 \n",
      "dtypes: int64(2), object(2)\n",
      "memory usage: 4.2+ MB\n"
     ]
    },
    {
     "data": {
      "text/plain": [
       "             user_id       duration\n",
       "count  137735.000000  137735.000000\n",
       "mean     1247.658046       7.146673\n",
       "std       139.416268       5.953919\n",
       "min      1000.000000       0.000000\n",
       "25%      1128.000000       2.000000\n",
       "50%      1247.000000       6.000000\n",
       "75%      1365.000000      11.000000\n",
       "max      1499.000000      38.000000"
      ],
      "text/html": [
       "<div>\n",
       "<style scoped>\n",
       "    .dataframe tbody tr th:only-of-type {\n",
       "        vertical-align: middle;\n",
       "    }\n",
       "\n",
       "    .dataframe tbody tr th {\n",
       "        vertical-align: top;\n",
       "    }\n",
       "\n",
       "    .dataframe thead th {\n",
       "        text-align: right;\n",
       "    }\n",
       "</style>\n",
       "<table border=\"1\" class=\"dataframe\">\n",
       "  <thead>\n",
       "    <tr style=\"text-align: right;\">\n",
       "      <th></th>\n",
       "      <th>user_id</th>\n",
       "      <th>duration</th>\n",
       "    </tr>\n",
       "  </thead>\n",
       "  <tbody>\n",
       "    <tr>\n",
       "      <th>count</th>\n",
       "      <td>137735.000000</td>\n",
       "      <td>137735.000000</td>\n",
       "    </tr>\n",
       "    <tr>\n",
       "      <th>mean</th>\n",
       "      <td>1247.658046</td>\n",
       "      <td>7.146673</td>\n",
       "    </tr>\n",
       "    <tr>\n",
       "      <th>std</th>\n",
       "      <td>139.416268</td>\n",
       "      <td>5.953919</td>\n",
       "    </tr>\n",
       "    <tr>\n",
       "      <th>min</th>\n",
       "      <td>1000.000000</td>\n",
       "      <td>0.000000</td>\n",
       "    </tr>\n",
       "    <tr>\n",
       "      <th>25%</th>\n",
       "      <td>1128.000000</td>\n",
       "      <td>2.000000</td>\n",
       "    </tr>\n",
       "    <tr>\n",
       "      <th>50%</th>\n",
       "      <td>1247.000000</td>\n",
       "      <td>6.000000</td>\n",
       "    </tr>\n",
       "    <tr>\n",
       "      <th>75%</th>\n",
       "      <td>1365.000000</td>\n",
       "      <td>11.000000</td>\n",
       "    </tr>\n",
       "    <tr>\n",
       "      <th>max</th>\n",
       "      <td>1499.000000</td>\n",
       "      <td>38.000000</td>\n",
       "    </tr>\n",
       "  </tbody>\n",
       "</table>\n",
       "</div>"
      ]
     },
     "execution_count": 306,
     "metadata": {},
     "output_type": "execute_result"
    }
   ],
   "execution_count": 306
  },
  {
   "cell_type": "code",
   "metadata": {
    "id": "kuh1vlNB0q09",
    "ExecuteTime": {
     "end_time": "2025-07-05T00:11:13.061884Z",
     "start_time": "2025-07-05T00:11:13.035174Z"
    }
   },
   "source": [
    "# Imprime una muestra de datos para las llamadas\n",
    "print(calls.sample(50))\n"
   ],
   "outputs": [
    {
     "name": "stdout",
     "output_type": "stream",
     "text": [
      "               id  user_id   call_date  duration\n",
      "31144    1117_118     1117  2018-10-12         0\n",
      "116328    1407_28     1407  2018-12-12         6\n",
      "19240     1073_47     1073  2018-08-13         0\n",
      "27713    1105_264     1105  2018-10-27         9\n",
      "7609     1036_201     1036  2018-12-05         1\n",
      "132079   1475_226     1475  2018-08-22         0\n",
      "111474   1391_333     1391  2018-12-17         2\n",
      "819      1004_340     1004  2018-11-12        22\n",
      "35540   1132_1070     1132  2018-08-07        12\n",
      "116616   1408_265     1408  2018-02-14         1\n",
      "130002   1467_238     1467  2018-11-27         8\n",
      "128809   1464_323     1464  2018-12-19         0\n",
      "38031    1142_222     1142  2018-11-08         7\n",
      "53390    1191_538     1191  2018-08-06         0\n",
      "135457   1491_354     1491  2018-11-14        16\n",
      "97240     1347_66     1347  2018-09-20        12\n",
      "99781    1358_120     1358  2018-08-28        14\n",
      "56283    1201_384     1201  2018-07-04         0\n",
      "24678   1094_1281     1094  2018-12-10         5\n",
      "87342   1320_1011     1320  2018-11-04         7\n",
      "39784    1147_573     1147  2018-05-28        12\n",
      "136239    1494_81     1494  2018-10-20         0\n",
      "81671     1294_21     1294  2018-10-10         5\n",
      "135201   1490_301     1490  2018-12-27         4\n",
      "103198   1365_394     1365  2018-12-25         2\n",
      "65234    1236_530     1236  2018-04-13        12\n",
      "81007    1291_607     1291  2018-11-19         4\n",
      "123045   1434_370     1434  2018-07-27         0\n",
      "45070    1163_129     1163  2018-10-26         4\n",
      "94863    1336_795     1336  2018-07-19         3\n",
      "101247   1361_349     1361  2018-09-10         6\n",
      "2689     1010_280     1010  2018-05-30         3\n",
      "47228    1171_259     1171  2018-07-09        16\n",
      "9611      1043_58     1043  2018-09-06         3\n",
      "74068     1263_52     1263  2018-12-19         0\n",
      "27680    1105_231     1105  2018-11-28         5\n",
      "13987    1059_209     1059  2018-08-15         5\n",
      "93432    1334_800     1334  2018-05-01         0\n",
      "124438   1439_306     1439  2018-11-07         3\n",
      "97820     1350_69     1350  2018-12-04         7\n",
      "108202  1382_1380     1382  2018-12-05        18\n",
      "46362    1167_445     1167  2018-07-29        13\n",
      "133274    1483_54     1483  2018-10-12        10\n",
      "132535    1477_91     1477  2018-11-16        13\n",
      "69270     1249_29     1249  2018-09-30         0\n",
      "4929     1022_195     1022  2018-12-15         0\n",
      "53824    1193_310     1193  2018-08-17        16\n",
      "56483    1202_507     1202  2018-11-21         9\n",
      "40150   1147_1002     1147  2018-12-13        20\n",
      "88610    1324_666     1324  2018-07-10         3\n"
     ]
    }
   ],
   "execution_count": 307
  },
  {
   "cell_type": "markdown",
   "metadata": {
    "id": "DOAxYJSx0q09"
   },
   "source": [
    "[Describe lo que ves y observas en la información general y en la muestra de datos impresa para el precio de datos anterior. ¿Hay algún problema (tipos de datos no adecuados, datos ausentes, etc.) que pudieran necesitar investigación y cambios adicionales? ¿Cómo se puede arreglar?]\n",
    "Se puede ver que tenemos una duracion promedio (media) de 7 min, con una desviacion estandar de ~6 min, por lo que su varianza seria de ~35. Tiene una mediana de 6, por lo que se puede inferir un sesgo a la derecha, pero tenemos un maximo de 38, por lo que posiblemente haya valores atipicos alrededor de 38 min por los usuarios intensivos.\n",
    "Despues de la correccion previa que se hizo convirtiendo la duracion en tipo entero y redondeando, ya no se visualizan datos por corregir."
   ]
  },
  {
   "cell_type": "markdown",
   "metadata": {
    "id": "S7hzxmbX0q0-"
   },
   "source": [
    "### Corregir los datos"
   ]
  },
  {
   "cell_type": "markdown",
   "metadata": {
    "id": "YxWyAjD20q0-"
   },
   "source": [
    "[Corrige los problemas obvios con los datos basándote en las observaciones iniciales.]"
   ]
  },
  {
   "cell_type": "code",
   "metadata": {
    "id": "S2r8xA4f0q0-",
    "ExecuteTime": {
     "end_time": "2025-07-05T00:11:13.217853Z",
     "start_time": "2025-07-05T00:11:13.211790Z"
    }
   },
   "source": [],
   "outputs": [],
   "execution_count": null
  },
  {
   "cell_type": "markdown",
   "metadata": {
    "id": "KrMgTrlG0q0_"
   },
   "source": [
    "### Enriquecer los datos"
   ]
  },
  {
   "cell_type": "markdown",
   "metadata": {
    "id": "a9MbmEvE0q0_"
   },
   "source": [
    "[Agrega factores adicionales a los datos si crees que pudieran ser útiles.]"
   ]
  },
  {
   "cell_type": "code",
   "metadata": {
    "id": "iZ1avpA_0q0_",
    "ExecuteTime": {
     "end_time": "2025-07-05T00:11:13.545703Z",
     "start_time": "2025-07-05T00:11:13.361929Z"
    }
   },
   "source": [
    "plt.boxplot(calls['duration'])\n",
    "plt.show()"
   ],
   "outputs": [
    {
     "data": {
      "text/plain": [
       "<Figure size 640x480 with 1 Axes>"
      ],
      "image/png": "[encoded data removed]"
     },
     "metadata": {},
     "output_type": "display_data"
    }
   ],
   "execution_count": 308
  },
  {
   "metadata": {
    "ExecuteTime": {
     "end_time": "2025-07-05T00:11:14.047001Z",
     "start_time": "2025-07-05T00:11:13.721853Z"
    }
   },
   "cell_type": "code",
   "source": [
    "plt.hist(calls['duration'],bins=50,alpha=0.5)\n",
    "plt.title('Distribucion segun duracion en minutos')\n",
    "plt.xlabel('Duracion')\n",
    "plt.ylabel('Usuarios')"
   ],
   "outputs": [
    {
     "data": {
      "text/plain": [
       "Text(0, 0.5, 'Usuarios')"
      ]
     },
     "execution_count": 309,
     "metadata": {},
     "output_type": "execute_result"
    },
    {
     "data": {
      "text/plain": [
       "<Figure size 640x480 with 1 Axes>"
      ],
      "image/png": "[encoded data removed]"
     },
     "metadata": {},
     "output_type": "display_data"
    }
   ],
   "execution_count": 309
  },
  {
   "cell_type": "markdown",
   "metadata": {
    "id": "mOUZSi180q0_"
   },
   "source": [
    "## Mensajes"
   ]
  },
  {
   "cell_type": "code",
   "metadata": {
    "id": "R-bYJpdV0q1A",
    "ExecuteTime": {
     "end_time": "2025-07-05T00:11:14.185794Z",
     "start_time": "2025-07-05T00:11:14.143285Z"
    }
   },
   "source": [
    "# Imprime la información general/resumida sobre el DataFrame de los mensajes\n",
    "messages.info()\n",
    "messages.describe()"
   ],
   "outputs": [
    {
     "name": "stdout",
     "output_type": "stream",
     "text": [
      "<class 'pandas.core.frame.DataFrame'>\n",
      "RangeIndex: 76051 entries, 0 to 76050\n",
      "Data columns (total 3 columns):\n",
      " #   Column        Non-Null Count  Dtype \n",
      "---  ------        --------------  ----- \n",
      " 0   id            76051 non-null  object\n",
      " 1   user_id       76051 non-null  int64 \n",
      " 2   message_date  76051 non-null  object\n",
      "dtypes: int64(1), object(2)\n",
      "memory usage: 1.7+ MB\n"
     ]
    },
    {
     "data": {
      "text/plain": [
       "            user_id\n",
       "count  76051.000000\n",
       "mean    1245.972768\n",
       "std      139.843635\n",
       "min     1000.000000\n",
       "25%     1123.000000\n",
       "50%     1251.000000\n",
       "75%     1362.000000\n",
       "max     1497.000000"
      ],
      "text/html": [
       "<div>\n",
       "<style scoped>\n",
       "    .dataframe tbody tr th:only-of-type {\n",
       "        vertical-align: middle;\n",
       "    }\n",
       "\n",
       "    .dataframe tbody tr th {\n",
       "        vertical-align: top;\n",
       "    }\n",
       "\n",
       "    .dataframe thead th {\n",
       "        text-align: right;\n",
       "    }\n",
       "</style>\n",
       "<table border=\"1\" class=\"dataframe\">\n",
       "  <thead>\n",
       "    <tr style=\"text-align: right;\">\n",
       "      <th></th>\n",
       "      <th>user_id</th>\n",
       "    </tr>\n",
       "  </thead>\n",
       "  <tbody>\n",
       "    <tr>\n",
       "      <th>count</th>\n",
       "      <td>76051.000000</td>\n",
       "    </tr>\n",
       "    <tr>\n",
       "      <th>mean</th>\n",
       "      <td>1245.972768</td>\n",
       "    </tr>\n",
       "    <tr>\n",
       "      <th>std</th>\n",
       "      <td>139.843635</td>\n",
       "    </tr>\n",
       "    <tr>\n",
       "      <th>min</th>\n",
       "      <td>1000.000000</td>\n",
       "    </tr>\n",
       "    <tr>\n",
       "      <th>25%</th>\n",
       "      <td>1123.000000</td>\n",
       "    </tr>\n",
       "    <tr>\n",
       "      <th>50%</th>\n",
       "      <td>1251.000000</td>\n",
       "    </tr>\n",
       "    <tr>\n",
       "      <th>75%</th>\n",
       "      <td>1362.000000</td>\n",
       "    </tr>\n",
       "    <tr>\n",
       "      <th>max</th>\n",
       "      <td>1497.000000</td>\n",
       "    </tr>\n",
       "  </tbody>\n",
       "</table>\n",
       "</div>"
      ]
     },
     "execution_count": 310,
     "metadata": {},
     "output_type": "execute_result"
    }
   ],
   "execution_count": 310
  },
  {
   "cell_type": "code",
   "metadata": {
    "id": "mCEl2iGE0q1A",
    "ExecuteTime": {
     "end_time": "2025-07-05T00:11:14.420290Z",
     "start_time": "2025-07-05T00:11:14.406748Z"
    }
   },
   "source": [
    "# Imprime una muestra de datos para los mensajes\n",
    "print(messages.sample(50))\n"
   ],
   "outputs": [
    {
     "name": "stdout",
     "output_type": "stream",
     "text": [
      "             id  user_id message_date\n",
      "73191  1470_819     1470   2018-09-11\n",
      "23300   1141_94     1141   2018-09-22\n",
      "53318  1339_452     1339   2018-10-26\n",
      "47244  1320_488     1320   2018-06-11\n",
      "13845  1094_245     1094   2018-12-09\n",
      "17977  1119_293     1119   2018-10-07\n",
      "25268  1151_111     1151   2018-09-03\n",
      "29203  1178_375     1178   2018-11-08\n",
      "58681   1373_99     1373   2018-10-25\n",
      "47181  1320_425     1320   2018-08-02\n",
      "68238  1440_104     1440   2018-09-26\n",
      "1463   1014_186     1014   2018-12-27\n",
      "45033  1302_138     1302   2018-12-10\n",
      "23577   1144_37     1144   2018-12-03\n",
      "12916  1084_156     1084   2018-11-13\n",
      "50445  1329_385     1329   2018-10-18\n",
      "29723  1183_118     1183   2018-10-26\n",
      "65769   1424_82     1424   2018-12-27\n",
      "21277  1132_550     1132   2018-06-19\n",
      "46135   1314_23     1314   2018-12-27\n",
      "75787   1494_25     1494   2018-09-02\n",
      "9896   1075_151     1075   2018-11-15\n",
      "9619   1069_957     1069   2018-12-07\n",
      "5020    1046_82     1046   2018-07-04\n",
      "24233   1145_88     1145   2018-11-20\n",
      "38391  1252_200     1252   2018-08-28\n",
      "14840  1100_162     1100   2018-11-11\n",
      "41150  1264_262     1264   2018-11-22\n",
      "10156  1076_353     1076   2018-12-12\n",
      "36066   1237_87     1237   2018-11-02\n",
      "18681    1121_8     1121   2018-12-16\n",
      "74610   1482_23     1482   2018-11-08\n",
      "30734  1193_463     1193   2018-12-22\n",
      "10272  1076_625     1076   2018-10-09\n",
      "62428  1392_203     1392   2018-12-16\n",
      "23522  1142_266     1142   2018-11-09\n",
      "20896   1132_23     1132   2018-11-19\n",
      "60086  1381_199     1381   2018-10-23\n",
      "16228  1110_119     1110   2018-07-15\n",
      "51018  1331_193     1331   2018-10-09\n",
      "664    1006_646     1006   2018-12-11\n",
      "50838   1331_13     1331   2018-11-20\n",
      "54108  1343_192     1343   2018-11-15\n",
      "12026   1080_29     1080   2018-12-19\n",
      "10833  1077_104     1077   2018-08-25\n",
      "18285   1120_32     1120   2018-06-28\n",
      "30713  1193_426     1193   2018-10-19\n",
      "56525  1357_155     1357   2018-09-12\n",
      "13673  1090_182     1090   2018-09-30\n",
      "61420  1384_546     1384   2018-11-13\n"
     ]
    }
   ],
   "execution_count": 311
  },
  {
   "cell_type": "markdown",
   "metadata": {
    "id": "04xDj7KH0q1A"
   },
   "source": [
    "[Describe lo que ves y observas en la información general y en la muestra de datos impresa para el precio de datos anterior. ¿Hay algún problema (tipos de datos no adecuados, datos ausentes, etc.) que pudieran necesitar investigación y cambios adicionales? ¿Cómo se puede arreglar?\n",
    "\n",
    "La media y mediana son casi iguales, por lo que su distribucion es equilibrada, tienen una distribucion normal, no contiene valores atipicos ya que su valor maximo (1497) esta dentro del rango IQR = 239"
   ]
  },
  {
   "cell_type": "markdown",
   "metadata": {
    "id": "Sprfak900q1B"
   },
   "source": [
    "### Corregir los datos"
   ]
  },
  {
   "cell_type": "markdown",
   "metadata": {
    "id": "eGw7d9j10q1B"
   },
   "source": [
    "[Corrige los problemas obvios con los datos basándote en las observaciones iniciales.]"
   ]
  },
  {
   "cell_type": "code",
   "metadata": {
    "id": "vsllvkoa0q1B",
    "ExecuteTime": {
     "end_time": "2025-07-05T00:11:14.560157Z",
     "start_time": "2025-07-05T00:11:14.547232Z"
    }
   },
   "source": [],
   "outputs": [],
   "execution_count": null
  },
  {
   "cell_type": "markdown",
   "metadata": {
    "id": "HvLid7iD0q1B"
   },
   "source": [
    "### Enriquecer los datos"
   ]
  },
  {
   "cell_type": "markdown",
   "metadata": {
    "id": "8nhPFKIe0q1C"
   },
   "source": [
    "[Agrega factores adicionales a los datos si crees que pudieran ser útiles.]"
   ]
  },
  {
   "cell_type": "code",
   "metadata": {
    "id": "zYEXZac10q1C",
    "ExecuteTime": {
     "end_time": "2025-07-05T00:11:14.811026Z",
     "start_time": "2025-07-05T00:11:14.704409Z"
    }
   },
   "source": [
    "plt.boxplot(messages['user_id'])\n",
    "plt.show()"
   ],
   "outputs": [
    {
     "data": {
      "text/plain": [
       "<Figure size 640x480 with 1 Axes>"
      ],
      "image/png": "[encoded data removed]"
     },
     "metadata": {},
     "output_type": "display_data"
    }
   ],
   "execution_count": 312
  },
  {
   "cell_type": "markdown",
   "metadata": {
    "id": "bStkaxn40q1C"
   },
   "source": [
    "## Internet"
   ]
  },
  {
   "cell_type": "code",
   "metadata": {
    "id": "e-Uz5qyn0q1C",
    "ExecuteTime": {
     "end_time": "2025-07-05T00:11:15.103873Z",
     "start_time": "2025-07-05T00:11:15.051168Z"
    }
   },
   "source": [
    "# Imprime la información general/resumida sobre el DataFrame de internet\n",
    "internet.info()\n",
    "internet.describe()"
   ],
   "outputs": [
    {
     "name": "stdout",
     "output_type": "stream",
     "text": [
      "<class 'pandas.core.frame.DataFrame'>\n",
      "RangeIndex: 104825 entries, 0 to 104824\n",
      "Data columns (total 4 columns):\n",
      " #   Column        Non-Null Count   Dtype  \n",
      "---  ------        --------------   -----  \n",
      " 0   id            104825 non-null  object \n",
      " 1   user_id       104825 non-null  int64  \n",
      " 2   session_date  104825 non-null  object \n",
      " 3   mb_used       104825 non-null  float64\n",
      "dtypes: float64(1), int64(1), object(2)\n",
      "memory usage: 3.2+ MB\n"
     ]
    },
    {
     "data": {
      "text/plain": [
       "             user_id        mb_used\n",
       "count  104825.000000  104825.000000\n",
       "mean     1242.496361     366.713701\n",
       "std       142.053913     277.170542\n",
       "min      1000.000000       0.000000\n",
       "25%      1122.000000     136.080000\n",
       "50%      1236.000000     343.980000\n",
       "75%      1367.000000     554.610000\n",
       "max      1499.000000    1693.470000"
      ],
      "text/html": [
       "<div>\n",
       "<style scoped>\n",
       "    .dataframe tbody tr th:only-of-type {\n",
       "        vertical-align: middle;\n",
       "    }\n",
       "\n",
       "    .dataframe tbody tr th {\n",
       "        vertical-align: top;\n",
       "    }\n",
       "\n",
       "    .dataframe thead th {\n",
       "        text-align: right;\n",
       "    }\n",
       "</style>\n",
       "<table border=\"1\" class=\"dataframe\">\n",
       "  <thead>\n",
       "    <tr style=\"text-align: right;\">\n",
       "      <th></th>\n",
       "      <th>user_id</th>\n",
       "      <th>mb_used</th>\n",
       "    </tr>\n",
       "  </thead>\n",
       "  <tbody>\n",
       "    <tr>\n",
       "      <th>count</th>\n",
       "      <td>104825.000000</td>\n",
       "      <td>104825.000000</td>\n",
       "    </tr>\n",
       "    <tr>\n",
       "      <th>mean</th>\n",
       "      <td>1242.496361</td>\n",
       "      <td>366.713701</td>\n",
       "    </tr>\n",
       "    <tr>\n",
       "      <th>std</th>\n",
       "      <td>142.053913</td>\n",
       "      <td>277.170542</td>\n",
       "    </tr>\n",
       "    <tr>\n",
       "      <th>min</th>\n",
       "      <td>1000.000000</td>\n",
       "      <td>0.000000</td>\n",
       "    </tr>\n",
       "    <tr>\n",
       "      <th>25%</th>\n",
       "      <td>1122.000000</td>\n",
       "      <td>136.080000</td>\n",
       "    </tr>\n",
       "    <tr>\n",
       "      <th>50%</th>\n",
       "      <td>1236.000000</td>\n",
       "      <td>343.980000</td>\n",
       "    </tr>\n",
       "    <tr>\n",
       "      <th>75%</th>\n",
       "      <td>1367.000000</td>\n",
       "      <td>554.610000</td>\n",
       "    </tr>\n",
       "    <tr>\n",
       "      <th>max</th>\n",
       "      <td>1499.000000</td>\n",
       "      <td>1693.470000</td>\n",
       "    </tr>\n",
       "  </tbody>\n",
       "</table>\n",
       "</div>"
      ]
     },
     "execution_count": 313,
     "metadata": {},
     "output_type": "execute_result"
    }
   ],
   "execution_count": 313
  },
  {
   "cell_type": "code",
   "metadata": {
    "id": "9r3x_XLw0q1C",
    "ExecuteTime": {
     "end_time": "2025-07-05T00:11:15.413683Z",
     "start_time": "2025-07-05T00:11:15.385059Z"
    }
   },
   "source": [
    "# Imprime una muestra de datos para el tráfico de internet\n",
    "print(internet.sample(50))\n"
   ],
   "outputs": [
    {
     "name": "stdout",
     "output_type": "stream",
     "text": [
      "              id  user_id session_date  mb_used\n",
      "60789    1277_92     1277   2018-07-10   353.66\n",
      "54085   1245_118     1245   2018-08-18   686.22\n",
      "54691   1247_106     1247   2018-12-24   357.44\n",
      "82287    1385_38     1385   2018-09-26   207.18\n",
      "64387   1295_359     1295   2018-11-11   382.21\n",
      "57266   1258_285     1258   2018-11-30   595.77\n",
      "5114    1028_695     1028   2018-02-28     0.00\n",
      "286     1002_172     1002   2018-10-31     0.00\n",
      "30481    1140_24     1140   2018-08-01   997.02\n",
      "13570    1064_18     1064   2018-09-14    53.01\n",
      "90198   1415_302     1415   2018-12-30   176.64\n",
      "15859   1072_104     1072   2018-12-07   638.99\n",
      "76507   1359_188     1359   2018-04-06   949.77\n",
      "43619    1194_37     1194   2018-12-07   474.32\n",
      "37075   1166_241     1166   2018-12-15   696.03\n",
      "85677   1399_288     1399   2018-06-14   404.54\n",
      "3217    1017_272     1017   2018-11-18   347.25\n",
      "43418   1193_267     1193   2018-11-28     0.00\n",
      "57482    1259_26     1259   2018-04-27   926.99\n",
      "70692    1330_41     1330   2018-12-18   487.38\n",
      "61944   1281_214     1281   2018-11-02   211.46\n",
      "39330   1176_151     1176   2018-11-12     0.00\n",
      "73633   1346_214     1346   2018-05-05     0.00\n",
      "102411  1490_226     1490   2018-12-05   803.71\n",
      "24787    1114_59     1114   2018-08-16   728.01\n",
      "69912    1327_52     1327   2018-11-06   618.66\n",
      "51848   1232_439     1232   2018-08-07   664.07\n",
      "80677   1377_102     1377   2018-08-28   347.83\n",
      "52052   1233_132     1233   2018-10-28   778.02\n",
      "11975    1059_78     1059   2018-08-19   219.43\n",
      "50913     1228_8     1228   2018-12-07   593.10\n",
      "45676     1203_1     1203   2018-10-11   481.04\n",
      "20487   1095_149     1095   2018-08-03   306.06\n",
      "12030   1059_134     1059   2018-08-26   469.11\n",
      "43040   1191_219     1191   2018-05-24     0.00\n",
      "89576    1414_32     1414   2018-09-09   288.19\n",
      "4771    1028_333     1028   2018-10-18   317.71\n",
      "47200    1211_77     1211   2018-10-14   371.86\n",
      "45937   1203_262     1203   2018-04-30    97.76\n",
      "4833    1028_402     1028   2018-09-07   715.71\n",
      "68740    1321_99     1321   2018-08-25     0.00\n",
      "17229   1077_349     1077   2018-12-16   606.24\n",
      "13438   1062_408     1062   2018-10-03   623.78\n",
      "23409   1107_308     1107   2018-12-19   295.49\n",
      "30956   1141_315     1141   2018-07-26   820.21\n",
      "56890   1257_157     1257   2018-06-21     0.00\n",
      "6633    1038_121     1038   2018-11-24   647.16\n",
      "7729    1041_569     1041   2018-08-20   529.85\n",
      "29103    1133_72     1133   2018-11-29    12.57\n",
      "76128   1358_264     1358   2018-07-16   339.99\n"
     ]
    }
   ],
   "execution_count": 314
  },
  {
   "cell_type": "markdown",
   "metadata": {
    "id": "EzOG5ik30q1D"
   },
   "source": [
    "[Describe lo que ves y observas en la información general y en la muestra de datos impresa para el precio de datos anterior. ¿Hay algún problema (tipos de datos no adecuados, datos ausentes, etc.) que pudieran necesitar investigación y cambios adicionales? ¿Cómo se puede arreglar?]\n",
    "Segun los datos que tenemos del promedio (media) y la mediana(50%), son valores muy cercanos, pero tiene un valor maximo muy alto, por lo que estara sesgado a la derecha, ademas en la distribucion de caja tendremos valores atipicos. La mayoria de los usuarios no usa tanto el internet, usan menos de lo que tiene contratado."
   ]
  },
  {
   "cell_type": "markdown",
   "metadata": {
    "id": "yA0tkPFg0q1D"
   },
   "source": [
    "### Corregir los datos"
   ]
  },
  {
   "cell_type": "markdown",
   "metadata": {
    "id": "zlZMuIEK0q1D"
   },
   "source": [
    "[Corrige los problemas obvios con los datos basándote en las observaciones iniciales.]"
   ]
  },
  {
   "cell_type": "code",
   "metadata": {
    "id": "zVeanzdd0q1E",
    "ExecuteTime": {
     "end_time": "2025-07-05T00:11:15.741951Z",
     "start_time": "2025-07-05T00:11:15.730272Z"
    }
   },
   "source": [],
   "outputs": [],
   "execution_count": null
  },
  {
   "cell_type": "markdown",
   "metadata": {
    "id": "e8_mLF4a0q1E"
   },
   "source": [
    "### Enriquecer los datos"
   ]
  },
  {
   "cell_type": "markdown",
   "metadata": {
    "id": "xhNdn2tE0q1E"
   },
   "source": [
    "[Agrega factores adicionales a los datos si crees que pudieran ser útiles.]"
   ]
  },
  {
   "cell_type": "code",
   "metadata": {
    "id": "ESiYPIEK0q1E",
    "ExecuteTime": {
     "end_time": "2025-07-05T00:11:16.251263Z",
     "start_time": "2025-07-05T00:11:16.074684Z"
    }
   },
   "source": [
    "plt.boxplot(internet['mb_used'])\n",
    "plt.show()"
   ],
   "outputs": [
    {
     "data": {
      "text/plain": [
       "<Figure size 640x480 with 1 Axes>"
      ],
      "image/png": "[encoded data removed]"
     },
     "metadata": {},
     "output_type": "display_data"
    }
   ],
   "execution_count": 315
  },
  {
   "metadata": {
    "ExecuteTime": {
     "end_time": "2025-07-05T00:11:17.180827Z",
     "start_time": "2025-07-05T00:11:16.439720Z"
    }
   },
   "cell_type": "code",
   "source": [
    "plt.hist(\n",
    "    internet['mb_used'],\n",
    "    bins=50\n",
    ")\n",
    "plt.xlabel('Mb')\n",
    "plt.ylabel('Usuarios')\n",
    "plt.title('Mb usados x usuario')"
   ],
   "outputs": [
    {
     "data": {
      "text/plain": [
       "Text(0.5, 1.0, 'Mb usados x usuario')"
      ]
     },
     "execution_count": 316,
     "metadata": {},
     "output_type": "execute_result"
    },
    {
     "data": {
      "text/plain": [
       "<Figure size 640x480 with 1 Axes>"
      ],
      "image/png": "[encoded data removed]"
     },
     "metadata": {},
     "output_type": "display_data"
    }
   ],
   "execution_count": 316
  },
  {
   "cell_type": "markdown",
   "metadata": {
    "id": "3UA2cqIW0q1E"
   },
   "source": [
    "## Estudiar las condiciones de las tarifas"
   ]
  },
  {
   "cell_type": "markdown",
   "metadata": {
    "id": "T86Sqltq0q1F"
   },
   "source": [
    "[Es sumamente importante entender cómo funcionan las tarifas, cómo se les cobra a los usuarios en función de su plan de suscripción. Así que te sugerimos imprimir la información de la tarifa para ver una vez más sus condiciones.]"
   ]
  },
  {
   "cell_type": "code",
   "metadata": {
    "id": "i409op8p0q1F",
    "ExecuteTime": {
     "end_time": "2025-07-05T00:11:17.275299Z",
     "start_time": "2025-07-05T00:11:17.262625Z"
    }
   },
   "source": [
    "# Imprime las condiciones de la tarifa y asegúrate de que te quedan claras\n",
    "print(plans)\n"
   ],
   "outputs": [
    {
     "name": "stdout",
     "output_type": "stream",
     "text": [
      "   messages_included  mb_per_month_included  minutes_included  \\\n",
      "0                 50                  15360               500   \n",
      "1               1000                  30720              3000   \n",
      "\n",
      "   usd_monthly_pay  usd_per_gb  usd_per_message  usd_per_minute plan_name  \n",
      "0               20          10             0.03            0.03      surf  \n",
      "1               70           7             0.01            0.01  ultimate  \n"
     ]
    }
   ],
   "execution_count": 317
  },
  {
   "cell_type": "markdown",
   "metadata": {
    "id": "hMR1tP5d0q1F"
   },
   "source": [
    "## Agregar datos por usuario\n",
    "\n",
    "[Ahora que los datos están limpios, agrega los datos por usuario y por periodo para que solo haya un registro por usuario y por periodo. Esto facilitará mucho el análisis posterior.]"
   ]
  },
  {
   "cell_type": "code",
   "metadata": {
    "id": "A332cedB0q1G",
    "ExecuteTime": {
     "end_time": "2025-07-05T00:11:17.431089Z",
     "start_time": "2025-07-05T00:11:17.365269Z"
    }
   },
   "source": [
    "# Calcula el número de llamadas hechas por cada usuario al mes. Guarda el resultado.\n",
    "calls['call_date'] = pd.to_datetime(calls['call_date'])\n",
    "calls['month'] = calls['call_date'].dt.to_period('M')\n",
    "sum_calls = calls.groupby(['user_id','month'])['call_date'].count().reset_index()\n",
    "print(sum_calls)"
   ],
   "outputs": [
    {
     "name": "stdout",
     "output_type": "stream",
     "text": [
      "      user_id    month  call_date\n",
      "0        1000  2018-12         16\n",
      "1        1001  2018-08         27\n",
      "2        1001  2018-09         49\n",
      "3        1001  2018-10         65\n",
      "4        1001  2018-11         64\n",
      "...       ...      ...        ...\n",
      "2253     1498  2018-12         39\n",
      "2254     1499  2018-09         41\n",
      "2255     1499  2018-10         53\n",
      "2256     1499  2018-11         45\n",
      "2257     1499  2018-12         65\n",
      "\n",
      "[2258 rows x 3 columns]\n"
     ]
    }
   ],
   "execution_count": 318
  },
  {
   "cell_type": "code",
   "metadata": {
    "id": "aw2cmuql0q1G",
    "ExecuteTime": {
     "end_time": "2025-07-05T00:11:17.620059Z",
     "start_time": "2025-07-05T00:11:17.575590Z"
    }
   },
   "source": [
    "# Calcula la cantidad de minutos usados por cada usuario al mes. Guarda el resultado.\n",
    "min_used = calls.groupby(['user_id','month'])['duration'].sum().reset_index()\n",
    "print(min_used)"
   ],
   "outputs": [
    {
     "name": "stdout",
     "output_type": "stream",
     "text": [
      "      user_id    month  duration\n",
      "0        1000  2018-12       124\n",
      "1        1001  2018-08       182\n",
      "2        1001  2018-09       315\n",
      "3        1001  2018-10       393\n",
      "4        1001  2018-11       426\n",
      "...       ...      ...       ...\n",
      "2253     1498  2018-12       339\n",
      "2254     1499  2018-09       346\n",
      "2255     1499  2018-10       385\n",
      "2256     1499  2018-11       308\n",
      "2257     1499  2018-12       496\n",
      "\n",
      "[2258 rows x 3 columns]\n"
     ]
    }
   ],
   "execution_count": 319
  },
  {
   "cell_type": "code",
   "metadata": {
    "id": "CcQvNHn60q1G",
    "ExecuteTime": {
     "end_time": "2025-07-05T00:11:17.792195Z",
     "start_time": "2025-07-05T00:11:17.747113Z"
    }
   },
   "source": [
    "# Calcula el número de mensajes enviados por cada usuario al mes. Guarda el resultado.\n",
    "messages['message_date'] = pd.to_datetime(messages['message_date'])\n",
    "messages['month'] = messages['message_date'].dt.to_period('M')\n",
    "messages_sent = messages.groupby(['user_id','month'])['message_date'].count().reset_index()\n",
    "print(messages_sent)"
   ],
   "outputs": [
    {
     "name": "stdout",
     "output_type": "stream",
     "text": [
      "      user_id    month  message_date\n",
      "0        1000  2018-12            11\n",
      "1        1001  2018-08            30\n",
      "2        1001  2018-09            44\n",
      "3        1001  2018-10            53\n",
      "4        1001  2018-11            36\n",
      "...       ...      ...           ...\n",
      "1801     1496  2018-09            21\n",
      "1802     1496  2018-10            18\n",
      "1803     1496  2018-11            13\n",
      "1804     1496  2018-12            11\n",
      "1805     1497  2018-12            50\n",
      "\n",
      "[1806 rows x 3 columns]\n"
     ]
    }
   ],
   "execution_count": 320
  },
  {
   "cell_type": "code",
   "metadata": {
    "id": "H1AqN2eG0q1H",
    "ExecuteTime": {
     "end_time": "2025-07-05T00:11:17.979482Z",
     "start_time": "2025-07-05T00:11:17.920603Z"
    }
   },
   "source": [
    "# Calcula el volumen del tráfico de Internet usado por cada usuario al mes. Guarda el resultado.\n",
    "internet['session_date'] = pd.to_datetime(internet['session_date'])\n",
    "internet['month'] = internet['session_date'].dt.to_period('M')\n",
    "mb_used_monthly = internet.groupby(['user_id', 'month'])['mb_used'].sum().reset_index()\n",
    "mb_used_monthly['mb_used'] = np.ceil(mb_used_monthly['mb_used'])\n",
    "mb_used_monthly['mb_used'] = pd.to_numeric(mb_used_monthly['mb_used']).astype(int)\n",
    "print(mb_used_monthly)"
   ],
   "outputs": [
    {
     "name": "stdout",
     "output_type": "stream",
     "text": [
      "      user_id    month  mb_used\n",
      "0        1000  2018-12     1902\n",
      "1        1001  2018-08     6920\n",
      "2        1001  2018-09    13315\n",
      "3        1001  2018-10    22331\n",
      "4        1001  2018-11    18505\n",
      "...       ...      ...      ...\n",
      "2272     1498  2018-12    23138\n",
      "2273     1499  2018-09    12985\n",
      "2274     1499  2018-10    19493\n",
      "2275     1499  2018-11    16814\n",
      "2276     1499  2018-12    22060\n",
      "\n",
      "[2277 rows x 3 columns]\n"
     ]
    }
   ],
   "execution_count": 321
  },
  {
   "cell_type": "markdown",
   "metadata": {
    "id": "VDfYXnj80q1H"
   },
   "source": [
    "[Junta los datos agregados en un DataFrame para que haya un registro que represente lo que consumió un usuario único en un mes determinado.]"
   ]
  },
  {
   "cell_type": "code",
   "metadata": {
    "id": "FW99ykyf0q1H",
    "ExecuteTime": {
     "end_time": "2025-07-05T00:11:18.103782Z",
     "start_time": "2025-07-05T00:11:18.057871Z"
    }
   },
   "source": [
    "# Fusiona los datos de llamadas, minutos, mensajes e Internet con base en user_id y month\n",
    "df = mb_used_monthly.merge(messages_sent, on=['user_id','month'], how='outer')\n",
    "df = df.merge(min_used, on=['user_id','month'], how='outer')\n",
    "df = df.merge(sum_calls, on=['user_id','month'], how='outer')\n",
    "df = df.rename(columns={\n",
    "    'mb_used':'total_mb',\n",
    "    'message_date':'total_messages',\n",
    "    'duration':'total_minutes',\n",
    "    'call_date':'total_calls'\n",
    "})\n",
    "print(df.head(20))"
   ],
   "outputs": [
    {
     "name": "stdout",
     "output_type": "stream",
     "text": [
      "    user_id    month  total_mb  total_messages  total_minutes  total_calls\n",
      "0      1000  2018-12    1902.0            11.0          124.0         16.0\n",
      "1      1001  2018-08    6920.0            30.0          182.0         27.0\n",
      "2      1001  2018-09   13315.0            44.0          315.0         49.0\n",
      "3      1001  2018-10   22331.0            53.0          393.0         65.0\n",
      "4      1001  2018-11   18505.0            36.0          426.0         64.0\n",
      "5      1001  2018-12   19370.0            44.0          412.0         56.0\n",
      "6      1002  2018-10    6553.0            15.0           59.0         11.0\n",
      "7      1002  2018-11   19346.0            32.0          386.0         55.0\n",
      "8      1002  2018-12   14397.0            41.0          384.0         47.0\n",
      "9      1003  2018-12   27045.0            50.0         1104.0        149.0\n",
      "10     1004  2018-05    6548.0             7.0          193.0         21.0\n",
      "11     1004  2018-06   20673.0            18.0          275.0         44.0\n",
      "12     1004  2018-07   24517.0            26.0          381.0         49.0\n",
      "13     1004  2018-08   27982.0            25.0          354.0         49.0\n",
      "14     1004  2018-09   18853.0            21.0          301.0         42.0\n",
      "15     1004  2018-10   14542.0            24.0          365.0         61.0\n",
      "16     1004  2018-11   21851.0            25.0          476.0         54.0\n",
      "17     1004  2018-12   21390.0            31.0          427.0         50.0\n",
      "18     1005  2018-12   17141.0            11.0          496.0         59.0\n",
      "19     1006  2018-11    2069.0            15.0           10.0          2.0\n"
     ]
    }
   ],
   "execution_count": 322
  },
  {
   "metadata": {
    "ExecuteTime": {
     "end_time": "2025-07-05T00:11:18.259101Z",
     "start_time": "2025-07-05T00:11:18.231268Z"
    }
   },
   "cell_type": "code",
   "source": [
    "# rellenamos los valores ausentes\n",
    "df['total_mb'] = df['total_mb'].fillna(0)\n",
    "df['total_messages'] = df['total_messages'].fillna(0)\n",
    "df['total_minutes'] = df['total_minutes'].fillna(0)\n",
    "df['total_calls'] = df['total_calls'].fillna(0)\n",
    "df['month'] = df['month'].ffill()\n",
    "df.info()\n",
    "print(df)"
   ],
   "outputs": [
    {
     "name": "stdout",
     "output_type": "stream",
     "text": [
      "<class 'pandas.core.frame.DataFrame'>\n",
      "RangeIndex: 2293 entries, 0 to 2292\n",
      "Data columns (total 6 columns):\n",
      " #   Column          Non-Null Count  Dtype    \n",
      "---  ------          --------------  -----    \n",
      " 0   user_id         2293 non-null   int64    \n",
      " 1   month           2293 non-null   period[M]\n",
      " 2   total_mb        2293 non-null   float64  \n",
      " 3   total_messages  2293 non-null   float64  \n",
      " 4   total_minutes   2293 non-null   float64  \n",
      " 5   total_calls     2293 non-null   float64  \n",
      "dtypes: float64(4), int64(1), period[M](1)\n",
      "memory usage: 107.6 KB\n",
      "      user_id    month  total_mb  total_messages  total_minutes  total_calls\n",
      "0        1000  2018-12    1902.0            11.0          124.0         16.0\n",
      "1        1001  2018-08    6920.0            30.0          182.0         27.0\n",
      "2        1001  2018-09   13315.0            44.0          315.0         49.0\n",
      "3        1001  2018-10   22331.0            53.0          393.0         65.0\n",
      "4        1001  2018-11   18505.0            36.0          426.0         64.0\n",
      "...       ...      ...       ...             ...            ...          ...\n",
      "2288     1498  2018-12   23138.0             0.0          339.0         39.0\n",
      "2289     1499  2018-09   12985.0             0.0          346.0         41.0\n",
      "2290     1499  2018-10   19493.0             0.0          385.0         53.0\n",
      "2291     1499  2018-11   16814.0             0.0          308.0         45.0\n",
      "2292     1499  2018-12   22060.0             0.0          496.0         65.0\n",
      "\n",
      "[2293 rows x 6 columns]\n"
     ]
    }
   ],
   "execution_count": 323
  },
  {
   "metadata": {
    "ExecuteTime": {
     "end_time": "2025-07-05T00:11:18.400782Z",
     "start_time": "2025-07-05T00:11:18.374167Z"
    }
   },
   "cell_type": "code",
   "source": [
    "# Añade la información de la tarifa\n",
    "user_plan = users.groupby(['user_id'])['plan'].first().reset_index()\n",
    "print(user_plan.head())\n",
    "df = df.merge(user_plan, on='user_id', how='outer')"
   ],
   "outputs": [
    {
     "name": "stdout",
     "output_type": "stream",
     "text": [
      "   user_id      plan\n",
      "0     1000  ultimate\n",
      "1     1001      surf\n",
      "2     1002      surf\n",
      "3     1003      surf\n",
      "4     1004      surf\n"
     ]
    }
   ],
   "execution_count": 324
  },
  {
   "cell_type": "markdown",
   "metadata": {
    "id": "1IwGo4wg0q1I"
   },
   "source": [
    "[Calcula los ingresos mensuales por usuario (resta el límite del paquete gratuito del número total de llamadas, mensajes de texto y datos; multiplica el resultado por el valor del plan de llamadas; añade la tarifa mensual en función del plan de llamadas). Nota: Dadas las condiciones del plan, ¡esto podría no ser tan trivial como un par de líneas! Así que no pasa nada si dedicas algo de tiempo a ello.]"
   ]
  },
  {
   "metadata": {
    "ExecuteTime": {
     "end_time": "2025-07-05T00:11:18.571532Z",
     "start_time": "2025-07-05T00:11:18.543140Z"
    }
   },
   "cell_type": "code",
   "source": [
    "df_merged = pd.merge(df, plans, left_on='plan', right_on='plan_name', how='left')\n",
    "print(df_merged.sample(20))"
   ],
   "outputs": [
    {
     "name": "stdout",
     "output_type": "stream",
     "text": [
      "      user_id    month  total_mb  total_messages  total_minutes  total_calls  \\\n",
      "943      1196  2018-02   20086.0            23.0          519.0         78.0   \n",
      "2262     1491  2018-12    6767.0            43.0          399.0         55.0   \n",
      "919      1191  2018-08   14179.0            14.0          403.0         68.0   \n",
      "667      1140  2018-09   14412.0            12.0          725.0         97.0   \n",
      "1549     1335  2018-06   18535.0            90.0          235.0         37.0   \n",
      "2167     1468  2018-10   18879.0            40.0          437.0         68.0   \n",
      "1482     1321  2018-12   23319.0             0.0          490.0         70.0   \n",
      "1705     1365  2018-07    5980.0            52.0         1082.0        155.0   \n",
      "43       1010  2018-09   16814.0             0.0          601.0         83.0   \n",
      "1483     1322  2018-08    3566.0             0.0           28.0          3.0   \n",
      "347      1073  2018-10   13236.0             0.0          334.0         50.0   \n",
      "1233     1259  2018-07    2115.0            17.0          197.0         24.0   \n",
      "241      1055  2018-12   15446.0            78.0          253.0         38.0   \n",
      "1538     1333  2018-12   19292.0             7.0          421.0         61.0   \n",
      "899      1187  2018-05   21074.0             8.0          626.0         92.0   \n",
      "646      1136  2018-11   21274.0            42.0          507.0         64.0   \n",
      "1975     1420  2018-07    1032.0             0.0           44.0          5.0   \n",
      "1685     1362  2018-03   17328.0            59.0          788.0        116.0   \n",
      "970      1201  2018-09   25053.0             4.0          413.0         57.0   \n",
      "377      1079  2018-08   21228.0            71.0          841.0        107.0   \n",
      "\n",
      "          plan  messages_included  mb_per_month_included  minutes_included  \\\n",
      "943   ultimate               1000                  30720              3000   \n",
      "2262      surf                 50                  15360               500   \n",
      "919   ultimate               1000                  30720              3000   \n",
      "667       surf                 50                  15360               500   \n",
      "1549      surf                 50                  15360               500   \n",
      "2167      surf                 50                  15360               500   \n",
      "1482      surf                 50                  15360               500   \n",
      "1705      surf                 50                  15360               500   \n",
      "43        surf                 50                  15360               500   \n",
      "1483      surf                 50                  15360               500   \n",
      "347       surf                 50                  15360               500   \n",
      "1233      surf                 50                  15360               500   \n",
      "241       surf                 50                  15360               500   \n",
      "1538  ultimate               1000                  30720              3000   \n",
      "899       surf                 50                  15360               500   \n",
      "646       surf                 50                  15360               500   \n",
      "1975  ultimate               1000                  30720              3000   \n",
      "1685      surf                 50                  15360               500   \n",
      "970       surf                 50                  15360               500   \n",
      "377       surf                 50                  15360               500   \n",
      "\n",
      "      usd_monthly_pay  usd_per_gb  usd_per_message  usd_per_minute plan_name  \n",
      "943                70           7             0.01            0.01  ultimate  \n",
      "2262               20          10             0.03            0.03      surf  \n",
      "919                70           7             0.01            0.01  ultimate  \n",
      "667                20          10             0.03            0.03      surf  \n",
      "1549               20          10             0.03            0.03      surf  \n",
      "2167               20          10             0.03            0.03      surf  \n",
      "1482               20          10             0.03            0.03      surf  \n",
      "1705               20          10             0.03            0.03      surf  \n",
      "43                 20          10             0.03            0.03      surf  \n",
      "1483               20          10             0.03            0.03      surf  \n",
      "347                20          10             0.03            0.03      surf  \n",
      "1233               20          10             0.03            0.03      surf  \n",
      "241                20          10             0.03            0.03      surf  \n",
      "1538               70           7             0.01            0.01  ultimate  \n",
      "899                20          10             0.03            0.03      surf  \n",
      "646                20          10             0.03            0.03      surf  \n",
      "1975               70           7             0.01            0.01  ultimate  \n",
      "1685               20          10             0.03            0.03      surf  \n",
      "970                20          10             0.03            0.03      surf  \n",
      "377                20          10             0.03            0.03      surf  \n"
     ]
    }
   ],
   "execution_count": 325
  },
  {
   "metadata": {
    "ExecuteTime": {
     "end_time": "2025-07-05T00:11:18.743442Z",
     "start_time": "2025-07-05T00:11:18.730207Z"
    }
   },
   "cell_type": "code",
   "source": [
    "def calculo_tarifa(data):\n",
    "\n",
    "    extra_mb = (data['total_mb'] - data['mb_per_month_included']).clip(lower=0)\n",
    "    extra_minutes = (data['total_minutes'] - data['minutes_included']).clip(lower=0)\n",
    "    extra_messages = (data['total_messages'] - data['messages_included']).clip(lower=0)\n",
    "    # clip(lower=0) nos va a ayudar a asignar un cero en caso de que el valor sea negativo\n",
    "    # esto nos indicaria que el usuario no excedio su tarifa\n",
    "\n",
    "    extra_gb_cost = (extra_mb / 1024) * data['usd_per_gb']\n",
    "    extra_messages_cost = extra_messages * data['usd_per_message']\n",
    "    extra_minutes_cost = extra_minutes * data['usd_per_minute']\n",
    "\n",
    "    total = round(\n",
    "        extra_gb_cost + extra_minutes_cost + extra_messages_cost + data['usd_monthly_pay'],\n",
    "        2\n",
    "    )\n",
    "\n",
    "    return total, extra_mb, extra_messages, extra_minutes"
   ],
   "outputs": [],
   "execution_count": 326
  },
  {
   "metadata": {
    "ExecuteTime": {
     "end_time": "2025-07-05T00:11:18.883591Z",
     "start_time": "2025-07-05T00:11:18.855883Z"
    }
   },
   "cell_type": "code",
   "source": "print(df_merged[['total_mb', 'total_messages', 'total_minutes']].describe())",
   "outputs": [
    {
     "name": "stdout",
     "output_type": "stream",
     "text": [
      "           total_mb  total_messages  total_minutes\n",
      "count   2293.000000     2293.000000    2293.000000\n",
      "mean   16764.890973       33.166594     429.283471\n",
      "std     7967.237366       34.070085     236.320077\n",
      "min        0.000000        0.000000       0.000000\n",
      "25%    12236.000000        3.000000     265.000000\n",
      "50%    16831.000000       26.000000     425.000000\n",
      "75%    21000.000000       51.000000     572.000000\n",
      "max    70932.000000      266.000000    1510.000000\n"
     ]
    }
   ],
   "execution_count": 327
  },
  {
   "metadata": {
    "ExecuteTime": {
     "end_time": "2025-07-05T01:26:41.541734Z",
     "start_time": "2025-07-05T01:26:41.504611Z"
    }
   },
   "cell_type": "code",
   "source": [
    "# Calcula el ingreso mensual para cada usuario\n",
    "resultados = calculo_tarifa(df_merged)\n",
    "df_merged['pago_mensual'] = resultados[0]\n",
    "df_merged['extra_mb'] = resultados[1]\n",
    "df_merged['extra_messages'] = resultados[2]\n",
    "df_merged['extra_minutes'] = resultados[3]\n",
    "print(df_merged[['user_id','plan','pago_mensual','extra_mb','extra_messages','extra_minutes']].sample(50))"
   ],
   "outputs": [
    {
     "name": "stdout",
     "output_type": "stream",
     "text": [
      "      user_id      plan  pago_mensual  extra_mb  extra_messages  extra_minutes\n",
      "1951     1414      surf        166.62   15002.0             4.0            0.0\n",
      "1657     1358      surf         49.91    3063.0             0.0            0.0\n",
      "456      1097      surf         74.31    5180.0             0.0          124.0\n",
      "1390     1299      surf         51.95    3272.0             0.0            0.0\n",
      "1453     1316      surf         20.00       0.0             0.0            0.0\n",
      "2082     1447      surf         20.00       0.0             0.0            0.0\n",
      "379      1079      surf         47.28    2016.0            21.0          232.0\n",
      "1738     1371      surf         90.48    7217.0             0.0            0.0\n",
      "2147     1465  ultimate         70.00       0.0             0.0            0.0\n",
      "1476     1321      surf         45.01    2367.0             0.0           63.0\n",
      "1766     1380  ultimate         70.00       0.0             0.0            0.0\n",
      "2118     1458  ultimate         70.00       0.0             0.0            0.0\n",
      "261      1059  ultimate         70.00       0.0             0.0            0.0\n",
      "2237     1488      surf         72.68    4749.0             0.0          210.0\n",
      "953      1196  ultimate         70.00       0.0             0.0            0.0\n",
      "71       1019      surf        147.03   12768.0            78.0            0.0\n",
      "1957     1415      surf         70.57    5178.0             0.0            0.0\n",
      "1544     1334      surf         63.97    3384.0             0.0          364.0\n",
      "829      1172      surf         20.00       0.0             0.0            0.0\n",
      "1078     1226  ultimate         70.00       0.0             0.0            0.0\n",
      "1101     1232      surf         92.61    7435.0             0.0            0.0\n",
      "45       1010      surf         20.00       0.0             0.0            0.0\n",
      "859      1179      surf         20.00       0.0             0.0            0.0\n",
      "1005     1210      surf         21.80       0.0             0.0           60.0\n",
      "818      1171      surf         26.67     683.0             0.0            0.0\n",
      "1784     1384  ultimate         70.00       0.0             0.0            0.0\n",
      "724      1151      surf         26.60       0.0             7.0          213.0\n",
      "416      1086  ultimate         70.00       0.0             0.0            0.0\n",
      "2080     1446      surf         55.62    3647.0             0.0            0.0\n",
      "989      1205      surf         20.00       0.0             0.0            0.0\n",
      "1514     1328      surf        241.07   21049.0           114.0          403.0\n",
      "589      1124  ultimate         70.00       0.0             0.0            0.0\n",
      "1884     1403  ultimate         70.00       0.0             0.0            0.0\n",
      "433      1090      surf         20.00       0.0             0.0            0.0\n",
      "2274     1494      surf         28.03     822.0             0.0            0.0\n",
      "1539     1334      surf         20.00       0.0             0.0            0.0\n",
      "446      1095      surf         24.55     466.0             0.0            0.0\n",
      "1050     1220      surf         20.00       0.0             0.0            0.0\n",
      "2211     1478  ultimate         70.00       0.0             0.0            0.0\n",
      "2297     1498      surf         57.20    3809.0             0.0            0.0\n",
      "843      1174      surf         94.22    7167.0            29.0          112.0\n",
      "112      1030  ultimate         70.00       0.0             0.0            0.0\n",
      "1917     1408      surf         20.00       0.0             0.0            0.0\n",
      "688      1144  ultimate        116.95    6868.0             0.0            0.0\n",
      "1373     1294      surf        170.18   14890.0            73.0           86.0\n",
      "1235     1259      surf         20.00       0.0             0.0            0.0\n",
      "552      1117      surf         93.17    7493.0             0.0            0.0\n",
      "509      1109      surf         20.00       0.0             0.0            0.0\n",
      "1714     1366      surf         59.60    3576.0             0.0          156.0\n",
      "513      1109      surf         20.42       0.0             0.0           14.0\n"
     ]
    }
   ],
   "execution_count": 338
  },
  {
   "cell_type": "markdown",
   "metadata": {
    "id": "-jtyHzJb0q1I"
   },
   "source": [
    "## Estudia el comportamiento de usuario"
   ]
  },
  {
   "cell_type": "markdown",
   "metadata": {
    "id": "AxU3Y0N70q1J"
   },
   "source": [
    "[Calcula algunas estadísticas descriptivas para los datos agregados y fusionados que nos sean útiles y que muestren un panorama general captado por los datos. Dibuja gráficos útiles para facilitar la comprensión. Dado que la tarea principal es comparar las tarifas y decidir cuál es más rentable, las estadísticas y gráficas deben calcularse por tarifa.]\n",
    "\n",
    "[En los comentarios hallarás pistas relevantes para las llamadas, pero no las hay para los mensajes e Internet. Sin embargo, el principio del estudio estadístico que se aplica para ellos es el mismo que para las llamadas.]"
   ]
  },
  {
   "cell_type": "markdown",
   "metadata": {
    "id": "vtW4CJEe0q1J"
   },
   "source": [
    "### Llamadas"
   ]
  },
  {
   "cell_type": "code",
   "metadata": {
    "id": "Jf5v5--k0q1J",
    "ExecuteTime": {
     "end_time": "2025-07-05T02:12:40.311703Z",
     "start_time": "2025-07-05T02:12:39.976276Z"
    }
   },
   "source": [
    "# Compara la duración promedio de llamadas por cada plan y por cada mes. Traza un gráfico de barras para visualizarla.\n",
    "prueba = calls.groupby('user_id')['duration'].sum().reset_index()\n",
    "promedio_por_plan = pd.merge(prueba, df_merged[['user_id','plan']],on='user_id')\n",
    "per_plan = promedio_por_plan.groupby('plan')['duration'].mean().reset_index()\n",
    "per_month = df_merged.groupby('month')['total_minutes'].mean().reset_index()\n",
    "plt.figure(figsize=(10, 5))\n",
    "\n",
    "plt.subplot(1, 2, 1)\n",
    "plt.bar(per_plan['plan'].astype(str), per_plan['duration'])\n",
    "plt.title('Promedio por Plan')\n",
    "plt.ylabel('Minutos')\n",
    "\n",
    "plt.subplot(1, 2, 2)\n",
    "plt.bar(per_month['month'].astype(str), per_month['total_minutes'])\n",
    "plt.title('Promedio por Mes')\n",
    "plt.xticks(rotation=45)\n",
    "\n",
    "plt.show()"
   ],
   "outputs": [
    {
     "data": {
      "text/plain": [
       "<Figure size 1000x500 with 2 Axes>"
      ],
      "image/png": "[encoded data removed]"
     },
     "metadata": {},
     "output_type": "display_data"
    }
   ],
   "execution_count": 356
  },
  {
   "cell_type": "code",
   "metadata": {
    "id": "QoLqW1S_0q1J",
    "ExecuteTime": {
     "end_time": "2025-07-05T02:27:31.525648Z",
     "start_time": "2025-07-05T02:27:31.066424Z"
    }
   },
   "source": [
    "# Compara el número de minutos mensuales que necesitan los usuarios de cada plan. Traza un histograma.\n",
    "prueba2 = calls.groupby('user_id')['duration'].sum().reset_index()\n",
    "prueba2 = pd.merge(prueba2, df_merged[['user_id', 'plan', 'month']], on='user_id')\n",
    "minutes_plan_mes = prueba2.groupby(['plan', 'month'])['duration'].mean().unstack()\n",
    "\n",
    "minutes_plan_mes.plot(kind='bar',\n",
    "                      figsize=(12,6),\n",
    "                      width=0.5\n",
    "                      )\n",
    "plt.title('Minutos mensuales promedio por plan')\n",
    "plt.ylabel('Minutos promedio')\n",
    "plt.xlabel('Plan')\n",
    "plt.xticks(rotation=45)"
   ],
   "outputs": [
    {
     "data": {
      "text/plain": [
       "(array([0, 1]), [Text(0, 0, 'surf'), Text(1, 0, 'ultimate')])"
      ]
     },
     "execution_count": 361,
     "metadata": {},
     "output_type": "execute_result"
    },
    {
     "data": {
      "text/plain": [
       "<Figure size 1200x600 with 1 Axes>"
      ],
      "image/png": "[encoded data removed]"
     },
     "metadata": {},
     "output_type": "display_data"
    }
   ],
   "execution_count": 361
  },
  {
   "cell_type": "markdown",
   "metadata": {
    "id": "bLS9T8OH0q1K"
   },
   "source": [
    "[Calcula la media y la variable de la duración de las llamadas para averiguar si los usuarios de los distintos planes se comportan de forma diferente al realizar sus llamadas.]"
   ]
  },
  {
   "cell_type": "code",
   "metadata": {
    "id": "oSndbAnt0q1K",
    "ExecuteTime": {
     "end_time": "2025-07-05T02:40:20.238018Z",
     "start_time": "2025-07-05T02:40:20.213171Z"
    }
   },
   "source": [
    "# Calcula la media y la varianza de la duración mensual de llamadas.\n",
    "surf = prueba2[prueba2['plan']=='surf']['duration'].agg(['count', 'mean', 'var', 'std', 'min', 'max'])\n",
    "ultimate = prueba2[prueba2['plan']=='ultimate']['duration'].agg(['count', 'mean', 'var', 'std', 'min', 'max'])\n",
    "\n",
    "result = pd.DataFrame({\n",
    "    'surf':surf,\n",
    "    'ultimate':ultimate\n",
    "})\n",
    "print(result)"
   ],
   "outputs": [
    {
     "name": "stdout",
     "output_type": "stream",
     "text": [
      "               surf      ultimate\n",
      "count  1.546000e+03  7.170000e+02\n",
      "mean   2.927047e+03  2.829199e+03\n",
      "var    3.396273e+06  3.456749e+06\n",
      "std    1.842898e+03  1.859233e+03\n",
      "min    6.000000e+00  1.100000e+01\n",
      "max    9.495000e+03  8.517000e+03\n"
     ]
    }
   ],
   "execution_count": 365
  },
  {
   "cell_type": "code",
   "metadata": {
    "id": "nZzoRUKc0q1K",
    "ExecuteTime": {
     "end_time": "2025-07-05T03:21:09.493893Z",
     "start_time": "2025-07-05T03:21:09.137016Z"
    }
   },
   "source": [
    "# Traza un diagrama de caja para visualizar la distribución de la duración mensual de llamadas\n",
    "prueba2.boxplot(column='duration',by='month', rot=45)\n",
    "plt.xlabel('Mes')\n",
    "plt.ylabel('Minutos')\n",
    "plt.title('Distribución de duración por mes')"
   ],
   "outputs": [
    {
     "data": {
      "text/plain": [
       "Text(0.5, 1.0, 'Distribución de duración por mes')"
      ]
     },
     "execution_count": 373,
     "metadata": {},
     "output_type": "execute_result"
    },
    {
     "data": {
      "text/plain": [
       "<Figure size 640x480 with 1 Axes>"
      ],
      "image/png": "[encoded data removed]"
     },
     "metadata": {},
     "output_type": "display_data"
    }
   ],
   "execution_count": 373
  },
  {
   "cell_type": "markdown",
   "metadata": {
    "id": "r627zBO50q1K"
   },
   "source": [
    "[Elabora las conclusiones sobre el comportamiento de los usuarios con respecto a las llamadas. ¿Su comportamiento varía en función del plan?]\n",
    "\n",
    "El comportamiento de los usuarios no difiere mucho segun sea el plan, los que tienen un plan surf consumen ligeramente mas que los que tienen un plan ultimate, esto basado en el promedio por plan, solamente en enero es cuando el promedio de minutos por mes es ligeramente mayor el plan ultimate comparado con el surf, aunque en aspectos generales, los usuarios surf tienen el promedio mayor."
   ]
  },
  {
   "cell_type": "markdown",
   "metadata": {
    "id": "8idKy8Wh0q1L"
   },
   "source": [
    "### Mensajes"
   ]
  },
  {
   "cell_type": "code",
   "metadata": {
    "id": "NXLxiTit0q1L",
    "ExecuteTime": {
     "end_time": "2025-07-05T03:47:16.345074Z",
     "start_time": "2025-07-05T03:47:15.978784Z"
    }
   },
   "source": [
    "# Compara el número de mensajes que tienden a enviar cada mes los usuarios de cada plan\n",
    "prueba3 = df_merged.groupby(['month','plan'])['total_messages'].mean().reset_index()\n",
    "surf_messages = prueba3[prueba3['plan']=='surf']\n",
    "plt.plot(surf_messages['month'].astype(str),surf_messages['total_messages'],marker='o', label='Surf')\n",
    "\n",
    "ultimate_messages = prueba3[prueba3['plan']=='ultimate']\n",
    "plt.plot(surf_messages['month'].astype(str),ultimate_messages['total_messages'],label='Ultimate')\n",
    "plt.legend()\n",
    "plt.xlabel('Mes')\n",
    "plt.ylabel('Mensajes promedio')\n",
    "plt.title('Promedio de mensajes por mes')\n",
    "plt.xticks(rotation=45)"
   ],
   "outputs": [
    {
     "data": {
      "text/plain": [
       "([0, 1, 2, 3, 4, 5, 6, 7, 8, 9, 10, 11],\n",
       " [Text(0, 0, '2018-01'),\n",
       "  Text(1, 0, '2018-02'),\n",
       "  Text(2, 0, '2018-03'),\n",
       "  Text(3, 0, '2018-04'),\n",
       "  Text(4, 0, '2018-05'),\n",
       "  Text(5, 0, '2018-06'),\n",
       "  Text(6, 0, '2018-07'),\n",
       "  Text(7, 0, '2018-08'),\n",
       "  Text(8, 0, '2018-09'),\n",
       "  Text(9, 0, '2018-10'),\n",
       "  Text(10, 0, '2018-11'),\n",
       "  Text(11, 0, '2018-12')])"
      ]
     },
     "execution_count": 391,
     "metadata": {},
     "output_type": "execute_result"
    },
    {
     "data": {
      "text/plain": [
       "<Figure size 640x480 with 1 Axes>"
      ],
      "image/png": "[encoded data removed]"
     },
     "metadata": {},
     "output_type": "display_data"
    }
   ],
   "execution_count": 391
  },
  {
   "cell_type": "code",
   "metadata": {
    "id": "dtFwCGAp0q1M",
    "ExecuteTime": {
     "end_time": "2025-07-05T00:11:19.909990Z",
     "start_time": "2025-07-05T00:11:19.899824Z"
    }
   },
   "source": [],
   "outputs": [],
   "execution_count": null
  },
  {
   "cell_type": "markdown",
   "metadata": {
    "id": "390SSL480q1M"
   },
   "source": [
    "[Elabora las conclusiones sobre el comportamiento de los usuarios con respecto a los mensajes. ¿Su comportamiento varía en función del plan?]\n",
    "\n",
    "Si, su comportamiento varia acorde a su plan, los que tienen un plan ultimate si consumen mas, pero no es un consumo muy consistente, varia segun el mes del año, comparado con los del plan surf, a pesar de tener menos, su consumo es mas consistente, la unica caida que tiene es de octubre a noviembre, los otros meses crecen constantemente."
   ]
  },
  {
   "cell_type": "markdown",
   "metadata": {
    "id": "42YSypXz0q1M"
   },
   "source": [
    "### Internet"
   ]
  },
  {
   "metadata": {
    "ExecuteTime": {
     "end_time": "2025-07-05T03:53:18.841319Z",
     "start_time": "2025-07-05T03:53:18.472843Z"
    }
   },
   "cell_type": "code",
   "source": [
    "# Compara la cantidad de tráfico de Internet consumido por usuarios por plan\n",
    "prueba4 = df_merged.groupby(['month','plan'])['total_mb'].mean().reset_index()\n",
    "surf_messages = prueba4[prueba4['plan']=='surf']\n",
    "plt.plot(surf_messages['month'].astype(str),surf_messages['total_mb'],marker='o', label='Surf')\n",
    "\n",
    "ultimate_messages = prueba4[prueba4['plan']=='ultimate']\n",
    "plt.plot(surf_messages['month'].astype(str),ultimate_messages['total_mb'],label='Ultimate')\n",
    "plt.legend()\n",
    "plt.xlabel('Mes')\n",
    "plt.ylabel('Mb promedio')\n",
    "plt.title('Promedio de mb por mes')\n",
    "plt.xticks(rotation=45)\n"
   ],
   "outputs": [
    {
     "data": {
      "text/plain": [
       "([0, 1, 2, 3, 4, 5, 6, 7, 8, 9, 10, 11],\n",
       " [Text(0, 0, '2018-01'),\n",
       "  Text(1, 0, '2018-02'),\n",
       "  Text(2, 0, '2018-03'),\n",
       "  Text(3, 0, '2018-04'),\n",
       "  Text(4, 0, '2018-05'),\n",
       "  Text(5, 0, '2018-06'),\n",
       "  Text(6, 0, '2018-07'),\n",
       "  Text(7, 0, '2018-08'),\n",
       "  Text(8, 0, '2018-09'),\n",
       "  Text(9, 0, '2018-10'),\n",
       "  Text(10, 0, '2018-11'),\n",
       "  Text(11, 0, '2018-12')])"
      ]
     },
     "execution_count": 392,
     "metadata": {},
     "output_type": "execute_result"
    },
    {
     "data": {
      "text/plain": [
       "<Figure size 640x480 with 1 Axes>"
      ],
      "image/png": "[encoded data removed]"
     },
     "metadata": {},
     "output_type": "display_data"
    }
   ],
   "execution_count": 392
  },
  {
   "cell_type": "markdown",
   "metadata": {
    "id": "UN9zwuMP0q1N"
   },
   "source": [
    "[Elabora las conclusiones sobre cómo los usuarios tienden a consumir el tráfico de Internet. ¿Su comportamiento varía en función del plan?]\n",
    "\n",
    "Los usuarios del plan ultimate si consumen mas internet que los del plan surf, pero su comportamiento cambia a partir de marzo, suelen consumir menos y se mantienen con un consumo controlado o 'constante', mientras que los del plan surf, tienden a consumir a consumir mas internet de lo que tienen contratado a partir de junio (mes 6)."
   ]
  },
  {
   "cell_type": "markdown",
   "metadata": {
    "id": "tCijq3260q1N"
   },
   "source": [
    "## Ingreso"
   ]
  },
  {
   "cell_type": "markdown",
   "metadata": {
    "id": "9nq5IAcy0q1O"
   },
   "source": [
    "[Del mismo modo que has estudiado el comportamiento de los usuarios, describe estadísticamente los ingresos de los planes.]"
   ]
  },
  {
   "cell_type": "code",
   "metadata": {
    "id": "tz-dq_V00q1O",
    "ExecuteTime": {
     "end_time": "2025-07-06T00:45:10.042403Z",
     "start_time": "2025-07-06T00:45:09.687102Z"
    }
   },
   "source": "ingresos_por_mes = df_merged.groupby(['plan'])['pago_mensual'].describe()",
   "outputs": [],
   "execution_count": 397
  },
  {
   "cell_type": "code",
   "metadata": {
    "id": "0Y1v8ZUz0q1P",
    "ExecuteTime": {
     "end_time": "2025-07-06T00:45:10.437522Z",
     "start_time": "2025-07-06T00:45:10.414709Z"
    }
   },
   "source": "print(ingresos_por_mes)",
   "outputs": [
    {
     "name": "stdout",
     "output_type": "stream",
     "text": [
      "           count       mean        std   min   25%    50%    75%     max\n",
      "plan                                                                    \n",
      "surf      1573.0  57.675677  53.861757  20.0  20.0  37.39  77.13  583.07\n",
      "ultimate   720.0  72.116319  10.769675  70.0  70.0  70.00  70.00  178.53\n"
     ]
    }
   ],
   "execution_count": 398
  },
  {
   "cell_type": "code",
   "metadata": {
    "id": "bYmwxyVh0q1P",
    "ExecuteTime": {
     "end_time": "2025-07-05T00:11:20.769541Z",
     "start_time": "2025-07-05T00:11:20.758197Z"
    }
   },
   "source": [],
   "outputs": [],
   "execution_count": null
  },
  {
   "cell_type": "markdown",
   "metadata": {
    "id": "KAFidcXZ0q1P"
   },
   "source": [
    "[Elabora las conclusiones sobre cómo difiere el ingreso entre los planes.]\n",
    "\n",
    "Por lo que se puedo observar, si nos basamos en graficas anteriores como apoyo, hemos observado que los usuarios del plan surf tienden a consumir mas, exceden sus planes, por lo que, como podemos ver, sus pagos mensuales suelen ser mucho mas altos que los usuarios del plan ultimate, que a pesar de que tambien tienen excedentes, los excedentes de surf son 3 veces mayores (tomando de referencia el maximo valor)."
   ]
  },
  {
   "cell_type": "markdown",
   "metadata": {
    "id": "ajJ7VKeI0q1Q"
   },
   "source": [
    "## Prueba las hipótesis estadísticas"
   ]
  },
  {
   "cell_type": "markdown",
   "metadata": {
    "id": "AdXAZ-yL0q1Q"
   },
   "source": [
    "[Prueba la hipótesis de que son diferentes los ingresos promedio procedentes de los usuarios de los planes de llamada Ultimate y Surf.]"
   ]
  },
  {
   "cell_type": "markdown",
   "metadata": {
    "id": "IQwa_hsh0q1Q"
   },
   "source": [
    "[Elabora las hipótesis nula y alternativa, escoge la prueba estadística, determina el valor alfa.]\n",
    "\n",
    "Hipotesis nula:  No hay diferencia de consumo entre los usuarios del plan surf y plan ultimate\n",
    "Hipotesis alternativa: Existe diferencia significativa en el consumo promedio entre los usuarios del plan surf y ultimate."
   ]
  },
  {
   "cell_type": "code",
   "metadata": {
    "id": "nFoPNlPq0q1R",
    "ExecuteTime": {
     "end_time": "2025-07-06T01:53:37.202009Z",
     "start_time": "2025-07-06T01:53:37.177261Z"
    }
   },
   "source": [
    "# Prueba las hipótesis\n",
    "df_merged['pago_mensual'] = df_merged['pago_mensual'].fillna(0)\n",
    "ingresos_surf = df_merged[df_merged['plan'] == 'surf']['pago_mensual']\n",
    "ingresos_ultimate = df_merged[df_merged['plan'] == 'ultimate']['pago_mensual']\n",
    "alpha = 0.05\n",
    "p_le = stats.levene(ingresos_surf, ingresos_ultimate)\n",
    "print(f\"Homocedasticidad Valor p: {p_le.pvalue:.5f}\")\n",
    "\n",
    "p_valor = stats.ttest_ind(ingresos_surf,ingresos_ultimate, equal_var=True)\n",
    "print(f\"Prueba t (varianzas iguales) Valor p: {p_valor.pvalue:.5f}\")\n",
    "\n",
    "p_valor1 = stats.ttest_ind(ingresos_surf,ingresos_ultimate, equal_var=False)\n",
    "print(f\"Prueba t (varianzas desiguales)Valor p: {p_valor1.pvalue:.5f}\")\n",
    "\n",
    "if p_valor.pvalue < alpha:\n",
    "    print(\"Rechazamos la hipotesis nula\")\n",
    "else:\n",
    "    print(\"No podemos rechazar la hipotesis nula\")\n",
    "\n"
   ],
   "outputs": [
    {
     "name": "stdout",
     "output_type": "stream",
     "text": [
      "Homocedasticidad Valor p: 0.00000\n",
      "Prueba t (varianzas iguales) Valor p: 0.00000\n",
      "Prueba t (varianzas desiguales)Valor p: 0.00000\n",
      "Rechazamos la hipotesis nula\n"
     ]
    }
   ],
   "execution_count": 425
  },
  {
   "cell_type": "markdown",
   "metadata": {
    "id": "tCcAruM60q1R"
   },
   "source": [
    "[Prueba la hipótesis de que el ingreso promedio de los usuarios del área NY-NJ es diferente al de los usuarios de otras regiones.]"
   ]
  },
  {
   "cell_type": "markdown",
   "metadata": {
    "id": "LsBgitqj0q1R"
   },
   "source": [
    "[Elabora las hipótesis nula y alternativa, escoge la prueba estadística, determina el valor alfa.]\n",
    "\n",
    "Hipotesis nula: No hay diferencia entre NY-NJ y otras areas.\n",
    "Hipotesis alternativa: Hay diferencia entre los ingresos de las areas NY-NJ y otras areas.\n",
    "\n",
    "New York-Newark-Jersey City, NY-NJ-PA MSA"
   ]
  },
  {
   "cell_type": "code",
   "metadata": {
    "id": "Cqcj7wrZ0q1S",
    "ExecuteTime": {
     "end_time": "2025-07-06T01:44:30.588649Z",
     "start_time": "2025-07-06T01:44:30.130979Z"
    }
   },
   "source": [
    "# Prueba las hipótesis\n",
    "df_completo = pd.merge(\n",
    "    df_merged,\n",
    "    users[['user_id','city']],\n",
    "    on='user_id',\n",
    "    how='left'\n",
    ")"
   ],
   "outputs": [],
   "execution_count": 419
  },
  {
   "metadata": {
    "ExecuteTime": {
     "end_time": "2025-07-06T01:47:13.641858Z",
     "start_time": "2025-07-06T01:47:13.616207Z"
    }
   },
   "cell_type": "code",
   "source": [
    "ny_nj = df_completo['city'] == 'New York-Newark-Jersey City, NY-NJ-PA MSA'\n",
    "ingresos_ny_nj = df_completo[ny_nj]['pago_mensual']\n",
    "ingresos_otras = df_completo[~ny_nj]['pago_mensual']"
   ],
   "outputs": [
    {
     "name": "stdout",
     "output_type": "stream",
     "text": [
      "56      20.00\n",
      "57      38.84\n",
      "75      20.00\n",
      "76      98.88\n",
      "77      20.00\n",
      "        ...  \n",
      "2294    67.87\n",
      "2295    92.93\n",
      "2296    70.99\n",
      "2297    57.20\n",
      "2298    95.96\n",
      "Name: pago_mensual, Length: 378, dtype: float64\n",
      "0       70.00\n",
      "1       20.00\n",
      "2       20.00\n",
      "3       88.17\n",
      "4       50.71\n",
      "        ...  \n",
      "2287    70.00\n",
      "2299    20.00\n",
      "2300    60.36\n",
      "2301    34.20\n",
      "2302    85.43\n",
      "Name: pago_mensual, Length: 1925, dtype: float64\n"
     ]
    }
   ],
   "execution_count": 422
  },
  {
   "metadata": {
    "ExecuteTime": {
     "end_time": "2025-07-06T01:53:09.089457Z",
     "start_time": "2025-07-06T01:53:09.064699Z"
    }
   },
   "cell_type": "code",
   "source": [
    "p_le_ny_nj_otras = stats.levene(ingresos_ny_nj, ingresos_otras)\n",
    "print(f\"Homocedasticidad Valor p: {p_le_ny_nj_otras.pvalue:.5f}\")\n",
    "\n",
    "p_le_ny_nj_otras_2 = stats.ttest_ind(ingresos_ny_nj,ingresos_otras, equal_var=True)\n",
    "print(f\"Prueba t (varianzas iguales) Valor p: {p_le_ny_nj_otras_2.pvalue:.5f}\")\n",
    "\n",
    "p_le_ny_nj_otras_3 = stats.ttest_ind(ingresos_ny_nj,ingresos_otras, equal_var=False)\n",
    "print(f\"Prueba t (varianzas desiguales)Valor p: {p_le_ny_nj_otras_3.pvalue:.5f}\")\n",
    "\n",
    "if p_le_ny_nj_otras_2.pvalue < alpha:\n",
    "    print(\"Rechazamos la hipotesis nula\")\n",
    "else:\n",
    "    print(\"No podemos rechazar la hipotesis nula\")"
   ],
   "outputs": [
    {
     "name": "stdout",
     "output_type": "stream",
     "text": [
      "Homocedasticidad Valor p: 0.28062\n",
      "Prueba t (varianzas iguales) Valor p: 0.03241\n",
      "Prueba t (varianzas desiguales)Valor p: 0.02348\n",
      "Rechazamos la hipotesis nula\n"
     ]
    }
   ],
   "execution_count": 424
  },
  {
   "metadata": {
    "ExecuteTime": {
     "end_time": "2025-07-06T01:55:17.768914Z",
     "start_time": "2025-07-06T01:55:17.745431Z"
    }
   },
   "cell_type": "code",
   "source": [
    "print(f\"Promedio de ingresos en NY-NJ: {ingresos_ny_nj.mean()}\")\n",
    "print(f\"Promedio de ingresos en otras: {ingresos_otras.mean()}\")"
   ],
   "outputs": [
    {
     "name": "stdout",
     "output_type": "stream",
     "text": [
      "Promedio de ingresos en NY-NJ: 57.35383597883598\n",
      "Promedio de ingresos en otras: 62.840436363636364\n"
     ]
    }
   ],
   "execution_count": 427
  },
  {
   "metadata": {
    "id": "bbTR8UQO0q1T"
   },
   "cell_type": "markdown",
   "source": "Como podemos ver, si hay una diferencia de ingresos, donde el ingreso en otras areas es mayor."
  },
  {
   "metadata": {},
   "cell_type": "markdown",
   "source": [
    "p## Conclusión general\n",
    "\n",
    "[En esta sección final, enumera tus conclusiones importantes. Asegúrate de que estas abarquen todas las decisiones (suposiciones) importantes que adoptaste y que determinaron la forma elegida para procesar y analizar los datos.]"
   ]
  },
  {
   "metadata": {},
   "cell_type": "markdown",
   "source": [
    "1. Podemos notar que el promedio en NY-NJ es menor al de otras regiones, no hay mucha diferencia, la varianza es igual, como nos dice la homocedasticidad.\n",
    "2. Hay un patron que se puede ver en los usuarios del plan surf, tienden a consumir de manera constante mas de lo que tienen en sus planes, se puede decir que es mas variables, especialmente desde junio, mientras que los usuarios del plan ultimiate son mas estables y no consumen mas de lo que tienen, hay pocos usuarios que si sobrepasan sus consumos, pero son valores atipicos, en su consumo promedio se pudo ver que surf consume 5 veces mas.\n",
    "3. En consumo de mensajes, los del plan ultimate si consumen mas que los del plan surf, aunque son muy variables, hay meses que consumen menos, mientras que los usuarios de surf son mas estables, aunque segun la grafica, no sobrepasan su consumo.\n",
    "4. En el consumo de llamadas, aunque tienen un promedio casi similar, se puede ver que en las graficas que plan surf su consumo sigue siendo mayor, no hay mucha diferencia, en cuanto al promedio y valor maximo, la diferencia es poca, aunque en el mes de enero es cuando los del plan ultimate si consumen mas, aunque en el valor minimo, si hay mucha diferencia, mientras que los usuarios del plan ultimate, los que menos consumen suelen ser de ~1 min, los del plan surf su minimo es de ~6 min. En el segundo semestre del año, considerando la comparativa de ambos planes, se puede ver que hay un mayor numero de valores atipicos, concuerda con el patron de comportamiento de los usuarios del plan surf, suelen consumir mas en el segundo semestre.\n",
    "5. Recomendaciones: Migracion de usuarios surf a ultimate con promociones basado en analisis ROI y una prueba piloto (corto plazo), paquetes personalizados basados en sus consumos (largo plazo)."
   ]
  }
 ],
 "metadata": {
  "ExecuteTimeLog": [
   {
    "duration": 828,
    "start_time": "2021-11-16T09:21:11.304Z"
   },
   {
    "duration": 893,
    "start_time": "2021-11-16T09:21:17.728Z"
   },
   {
    "duration": 1150,
    "start_time": "2021-11-16T09:21:29.568Z"
   },
   {
    "duration": 3,
    "start_time": "2021-11-16T09:24:14.495Z"
   },
   {
    "duration": 120,
    "start_time": "2021-11-16T09:24:46.630Z"
   },
   {
    "duration": 3,
    "start_time": "2021-11-16T09:28:27.882Z"
   },
   {
    "duration": 4,
    "start_time": "2021-11-16T09:29:54.281Z"
   },
   {
    "duration": 3,
    "start_time": "2021-11-16T09:30:45.936Z"
   },
   {
    "duration": 4,
    "start_time": "2021-11-16T09:31:06.300Z"
   },
   {
    "duration": 113,
    "start_time": "2021-11-16T09:31:37.208Z"
   },
   {
    "duration": 143,
    "start_time": "2021-11-16T09:31:48.656Z"
   },
   {
    "duration": 98,
    "start_time": "2021-11-16T09:31:55.678Z"
   },
   {
    "duration": 3,
    "start_time": "2021-11-16T09:32:08.535Z"
   },
   {
    "duration": 111,
    "start_time": "2021-11-16T09:32:10.120Z"
   },
   {
    "duration": 3,
    "start_time": "2021-11-16T09:32:15.732Z"
   },
   {
    "duration": 4,
    "start_time": "2021-11-16T09:32:29.423Z"
   },
   {
    "duration": 3,
    "start_time": "2021-11-16T10:03:03.074Z"
   },
   {
    "duration": 3,
    "start_time": "2021-11-16T10:10:01.288Z"
   },
   {
    "duration": 3,
    "start_time": "2021-11-16T10:10:46.923Z"
   },
   {
    "duration": 121,
    "start_time": "2021-11-16T10:37:46.494Z"
   },
   {
    "duration": 125,
    "start_time": "2021-11-16T10:38:20.632Z"
   },
   {
    "duration": 112,
    "start_time": "2021-11-16T10:46:53.001Z"
   },
   {
    "duration": 110,
    "start_time": "2021-11-16T10:48:25.775Z"
   },
   {
    "duration": 3,
    "start_time": "2021-11-16T10:50:18.720Z"
   },
   {
    "duration": 4,
    "start_time": "2021-11-16T10:50:37.649Z"
   },
   {
    "duration": 2,
    "start_time": "2021-11-16T10:50:51.884Z"
   },
   {
    "duration": 3,
    "start_time": "2021-11-16T10:51:56.237Z"
   },
   {
    "duration": 101,
    "start_time": "2021-11-16T10:53:13.791Z"
   },
   {
    "duration": 3,
    "start_time": "2021-11-16T10:55:59.186Z"
   },
   {
    "duration": 3,
    "start_time": "2021-11-16T10:56:10.751Z"
   },
   {
    "duration": 3,
    "start_time": "2021-11-16T10:56:49.038Z"
   },
   {
    "duration": 3,
    "start_time": "2021-11-16T10:56:49.174Z"
   },
   {
    "duration": 4,
    "start_time": "2021-11-16T10:56:49.414Z"
   },
   {
    "duration": 3,
    "start_time": "2021-11-16T10:56:49.680Z"
   },
   {
    "duration": 3,
    "start_time": "2021-11-16T10:56:50.370Z"
   },
   {
    "duration": 114,
    "start_time": "2021-11-16T10:59:34.518Z"
   },
   {
    "duration": 3,
    "start_time": "2021-11-16T11:01:41.201Z"
   },
   {
    "duration": 116,
    "start_time": "2021-11-16T11:01:48.754Z"
   },
   {
    "duration": 3,
    "start_time": "2021-11-16T11:02:16.685Z"
   },
   {
    "duration": 3,
    "start_time": "2021-11-16T11:02:19.479Z"
   },
   {
    "duration": 3,
    "start_time": "2021-11-16T11:02:47.067Z"
   },
   {
    "duration": 3,
    "start_time": "2021-11-16T11:02:49.353Z"
   },
   {
    "duration": 3,
    "start_time": "2021-11-16T11:03:07.835Z"
   },
   {
    "duration": 3,
    "start_time": "2021-11-16T11:03:07.953Z"
   },
   {
    "duration": 112,
    "start_time": "2021-11-16T11:07:52.072Z"
   },
   {
    "duration": 187,
    "start_time": "2021-11-16T11:09:23.468Z"
   },
   {
    "duration": 4,
    "start_time": "2021-11-16T11:10:01.455Z"
   },
   {
    "duration": 3,
    "start_time": "2021-11-16T11:10:05.069Z"
   },
   {
    "duration": 4,
    "start_time": "2021-11-16T11:10:13.376Z"
   },
   {
    "duration": 3,
    "start_time": "2021-11-16T11:10:14.434Z"
   },
   {
    "duration": 3,
    "start_time": "2021-11-16T11:10:22.853Z"
   },
   {
    "duration": 4,
    "start_time": "2021-11-16T11:27:29.279Z"
   },
   {
    "duration": 4,
    "start_time": "2021-11-16T11:29:08.919Z"
   },
   {
    "duration": 118,
    "start_time": "2021-11-16T11:29:46.703Z"
   },
   {
    "duration": 437,
    "start_time": "2021-11-16T11:36:02.181Z"
   },
   {
    "duration": 157,
    "start_time": "2021-11-16T11:36:14.388Z"
   },
   {
    "duration": 207,
    "start_time": "2021-11-16T11:47:15.898Z"
   },
   {
    "duration": 3,
    "start_time": "2021-11-16T11:53:52.092Z"
   },
   {
    "duration": 3,
    "start_time": "2021-11-16T11:53:52.236Z"
   },
   {
    "duration": 3,
    "start_time": "2021-11-16T11:59:12.005Z"
   },
   {
    "duration": 112,
    "start_time": "2021-11-16T12:00:33.446Z"
   },
   {
    "duration": 3,
    "start_time": "2021-11-16T12:02:14.453Z"
   },
   {
    "duration": 3,
    "start_time": "2021-11-16T12:02:39.512Z"
   },
   {
    "duration": 106,
    "start_time": "2021-11-16T12:03:03.460Z"
   },
   {
    "duration": 3,
    "start_time": "2021-11-17T20:37:21.139Z"
   },
   {
    "duration": 3,
    "start_time": "2021-11-17T20:37:22.229Z"
   },
   {
    "duration": 3,
    "start_time": "2021-11-17T20:38:38.806Z"
   },
   {
    "duration": 3,
    "start_time": "2021-11-17T20:38:41.958Z"
   },
   {
    "duration": 3,
    "start_time": "2021-11-17T20:43:46.551Z"
   },
   {
    "duration": 4,
    "start_time": "2021-11-17T20:58:21.835Z"
   },
   {
    "duration": 3,
    "start_time": "2021-11-17T20:59:21.872Z"
   },
   {
    "duration": 4,
    "start_time": "2021-11-17T20:59:45.352Z"
   },
   {
    "duration": 4,
    "start_time": "2021-11-17T20:59:49.646Z"
   },
   {
    "duration": 159,
    "start_time": "2021-11-17T21:02:26.949Z"
   },
   {
    "duration": 3,
    "start_time": "2021-11-17T21:03:53.461Z"
   },
   {
    "duration": 3,
    "start_time": "2021-11-17T21:03:53.694Z"
   },
   {
    "duration": 3,
    "start_time": "2021-11-17T21:05:28.145Z"
   },
   {
    "duration": 116,
    "start_time": "2021-11-17T21:05:57.787Z"
   },
   {
    "duration": 3,
    "start_time": "2021-11-17T21:06:37.993Z"
   },
   {
    "duration": 3,
    "start_time": "2021-11-17T21:06:38.261Z"
   },
   {
    "duration": 3,
    "start_time": "2021-11-17T21:11:54.358Z"
   },
   {
    "duration": 3,
    "start_time": "2021-11-17T21:12:43.846Z"
   },
   {
    "duration": 4,
    "start_time": "2021-11-17T21:13:08.773Z"
   },
   {
    "duration": 3,
    "start_time": "2021-11-17T21:14:44.441Z"
   },
   {
    "duration": 3,
    "start_time": "2021-11-17T21:15:42.059Z"
   },
   {
    "duration": 4,
    "start_time": "2021-11-17T21:15:51.995Z"
   },
   {
    "duration": 3,
    "start_time": "2021-11-17T21:15:53.923Z"
   },
   {
    "duration": 3,
    "start_time": "2021-11-17T21:15:55.282Z"
   },
   {
    "duration": 3,
    "start_time": "2021-11-17T21:16:28.492Z"
   },
   {
    "duration": 3,
    "start_time": "2021-11-17T21:16:32.603Z"
   },
   {
    "duration": 3,
    "start_time": "2021-11-17T21:17:06.941Z"
   },
   {
    "duration": 98,
    "start_time": "2021-11-17T21:18:05.733Z"
   },
   {
    "duration": 4,
    "start_time": "2021-11-17T21:21:35.255Z"
   },
   {
    "duration": 3,
    "start_time": "2021-11-17T21:21:37.804Z"
   },
   {
    "duration": 4,
    "start_time": "2021-11-17T21:23:06.071Z"
   },
   {
    "duration": 3,
    "start_time": "2021-11-17T21:23:24.799Z"
   },
   {
    "duration": 3,
    "start_time": "2021-11-17T21:23:32.591Z"
   },
   {
    "duration": 98,
    "start_time": "2021-11-17T21:28:31.559Z"
   },
   {
    "duration": 3,
    "start_time": "2021-11-17T21:28:45.448Z"
   },
   {
    "duration": 3,
    "start_time": "2021-11-17T21:29:17.303Z"
   },
   {
    "duration": 3,
    "start_time": "2021-11-17T21:29:29.617Z"
   },
   {
    "duration": 3,
    "start_time": "2021-11-17T21:29:32.681Z"
   },
   {
    "duration": 3,
    "start_time": "2021-11-17T21:36:11.474Z"
   },
   {
    "duration": 3,
    "start_time": "2021-11-17T21:36:14.791Z"
   },
   {
    "duration": 3,
    "start_time": "2021-11-17T21:36:53.943Z"
   },
   {
    "duration": 3,
    "start_time": "2021-11-17T21:36:56.165Z"
   },
   {
    "duration": 4,
    "start_time": "2021-11-17T21:37:16.590Z"
   },
   {
    "duration": 3,
    "start_time": "2021-11-17T21:37:22.702Z"
   },
   {
    "duration": 4,
    "start_time": "2021-11-17T21:38:03.479Z"
   },
   {
    "duration": 3,
    "start_time": "2021-11-17T21:38:08.601Z"
   },
   {
    "duration": 3,
    "start_time": "2021-11-17T21:38:12.928Z"
   },
   {
    "duration": 3,
    "start_time": "2021-11-17T21:38:48.896Z"
   },
   {
    "duration": 2,
    "start_time": "2021-11-17T21:38:49.171Z"
   },
   {
    "duration": 4,
    "start_time": "2021-11-17T21:39:57.889Z"
   },
   {
    "duration": 3,
    "start_time": "2021-11-17T21:39:58.057Z"
   },
   {
    "duration": 3,
    "start_time": "2021-11-17T21:41:20.108Z"
   },
   {
    "duration": 3,
    "start_time": "2021-11-17T21:41:20.629Z"
   },
   {
    "duration": 3,
    "start_time": "2021-11-17T21:42:49.136Z"
   },
   {
    "duration": 3,
    "start_time": "2021-11-17T21:43:15.137Z"
   },
   {
    "duration": 4,
    "start_time": "2021-11-17T21:43:16.766Z"
   },
   {
    "duration": 4,
    "start_time": "2021-11-17T21:43:31.711Z"
   },
   {
    "duration": 3,
    "start_time": "2021-11-17T21:43:36.312Z"
   },
   {
    "duration": 4,
    "start_time": "2021-11-17T21:45:08.825Z"
   },
   {
    "duration": 4,
    "start_time": "2021-11-17T21:45:10.119Z"
   },
   {
    "duration": 4,
    "start_time": "2021-11-17T21:45:13.748Z"
   },
   {
    "duration": 3,
    "start_time": "2021-11-17T21:45:22.219Z"
   },
   {
    "duration": 3,
    "start_time": "2021-11-17T21:45:33.412Z"
   },
   {
    "duration": 2,
    "start_time": "2021-11-17T21:46:01.885Z"
   },
   {
    "duration": 3,
    "start_time": "2021-11-17T21:46:03.628Z"
   },
   {
    "duration": 107,
    "start_time": "2021-11-17T21:47:32.512Z"
   },
   {
    "duration": 103,
    "start_time": "2021-11-17T21:50:36.243Z"
   },
   {
    "duration": 3,
    "start_time": "2021-11-18T06:28:31.440Z"
   },
   {
    "duration": 3,
    "start_time": "2021-11-18T06:29:00.168Z"
   },
   {
    "duration": 3,
    "start_time": "2021-11-18T06:31:27.008Z"
   },
   {
    "duration": 2,
    "start_time": "2021-11-18T06:35:34.288Z"
   },
   {
    "duration": 2,
    "start_time": "2021-11-18T06:38:04.527Z"
   }
  ],
  "colab": {
   "provenance": []
  },
  "kernelspec": {
   "display_name": "Python 3 (ipykernel)",
   "language": "python",
   "name": "python3"
  },
  "language_info": {
   "codemirror_mode": {
    "name": "ipython",
    "version": 3
   },
   "file_extension": ".py",
   "mimetype": "text/x-python",
   "name": "python",
   "nbconvert_exporter": "python",
   "pygments_lexer": "ipython3",
   "version": "3.9.23"
  },
  "toc": {
   "base_numbering": 1,
   "nav_menu": {},
   "number_sections": true,
   "sideBar": true,
   "skip_h1_title": false,
   "title_cell": "Table of Contents",
   "title_sidebar": "Contents",
   "toc_cell": false,
   "toc_position": {},
   "toc_section_display": true,
   "toc_window_display": true
  }
 },
 "nbformat": 4,
 "nbformat_minor": 4
}
