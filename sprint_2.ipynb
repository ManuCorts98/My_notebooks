{
 "cells": [
  {
   "cell_type": "markdown",
   "id": "52e77052",
   "metadata": {
    "id": "52e77052"
   },
   "source": [
    "\n",
    "## Introducción de los datos\n",
    "\n",
    "La tienda Store 1 almacena información de sus usuarios en listas anidadas. Cada sublista contiene:\n",
    "\n",
    "- `user_id`: identificador único\n",
    "- `user_name`: nombre y apellido en un solo string\n",
    "- `user_age`: edad\n",
    "- `fav_categories`: categorías favoritas de compra (mayúsculas)\n",
    "- `total_spendings`: montos correspondientes a cada categoría\n",
    "\n",
    "Ejemplo:\n",
    "\n",
    "```python\n",
    "users = [\n",
    "    ['32415', ' mike_reed ', 32.0, ['ELECTRONICS', 'SPORT', 'BOOKS'], [894, 213, 173]],\n",
    "    ...\n",
    "]\n",
    "```\n"
   ]
  },
  {
   "cell_type": "markdown",
   "id": "qNY8a8aV9hba",
   "metadata": {
    "id": "qNY8a8aV9hba"
   },
   "source": "## Paso 1: Limpieza inicial de un registro de cliente\n"
  },
  {
   "cell_type": "code",
   "id": "UVTQJ13U9nXo",
   "metadata": {
    "colab": {
     "base_uri": "https://localhost:8080/"
    },
    "id": "UVTQJ13U9nXo",
    "outputId": "ab5afb86-b00d-4439-819d-e19ae56ff770",
    "ExecuteTime": {
     "end_time": "2025-06-15T01:36:39.264833Z",
     "start_time": "2025-06-15T01:36:39.240704Z"
    }
   },
   "source": [
    "# Usuario de ejemplo\n",
    "user = ['32415', ' mike_reed ', 32.0, ['ELECTRONICS', 'SPORT', 'BOOKS'], [894, 213, 173]]\n",
    "\n",
    "user[1] = user[1].replace(\"_\", \" \").strip().split()\n",
    "user[2] = int(user[2])\n",
    "\n",
    "# Mostrar resultado\n",
    "print(user)\n"
   ],
   "outputs": [
    {
     "name": "stdout",
     "output_type": "stream",
     "text": [
      "['32415', ['mike', 'reed'], 32, ['ELECTRONICS', 'SPORT', 'BOOKS'], [894, 213, 173]]\n"
     ]
    }
   ],
   "execution_count": 2
  },
  {
   "cell_type": "markdown",
   "id": "OTkEIE7u_kBA",
   "metadata": {
    "id": "OTkEIE7u_kBA"
   },
   "source": "## Paso 2: Convertir las categorías a minúsculas\n"
  },
  {
   "cell_type": "code",
   "id": "6O748VFu_mn3",
   "metadata": {
    "colab": {
     "base_uri": "https://localhost:8080/"
    },
    "id": "6O748VFu_mn3",
    "outputId": "1ebbcf0f-754d-415a-f71d-c0d304bd3459",
    "ExecuteTime": {
     "end_time": "2025-06-15T01:51:10.562443Z",
     "start_time": "2025-06-15T01:51:10.540945Z"
    }
   },
   "source": [
    "# Lista original de categorías favoritas escritas en mayúsculas\n",
    "fav_categories = ['ELECTRONICS', 'SPORT', 'BOOKS']\n",
    "\n",
    "# Lista vacía donde almacenaremos las categorías convertidas a minúsculas\n",
    "fav_categories_low = []\n",
    "\n",
    "# Recorremos cada categoría en la lista original\n",
    "fav_categories_low = [category.lower() for category in fav_categories]\n",
    "\n",
    "# Mostramos en pantalla la lista resultante con las categorías en minúsculas\n",
    "print(fav_categories_low)\n"
   ],
   "outputs": [
    {
     "name": "stdout",
     "output_type": "stream",
     "text": [
      "['electronics', 'sport', 'books']\n"
     ]
    }
   ],
   "execution_count": 3
  },
  {
   "cell_type": "markdown",
   "id": "1dd1da3e",
   "metadata": {
    "id": "1dd1da3e"
   },
   "source": [
    "\n",
    "## Paso 3: Limpieza completa de un usuario\n"
   ]
  },
  {
   "cell_type": "code",
   "id": "c12d4efc",
   "metadata": {
    "colab": {
     "base_uri": "https://localhost:8080/",
     "height": 106
    },
    "id": "c12d4efc",
    "outputId": "48c395c9-9cfc-4a72-ed46-258ea05b7d32",
    "ExecuteTime": {
     "end_time": "2025-06-15T02:04:16.214674Z",
     "start_time": "2025-06-15T02:04:16.192827Z"
    }
   },
   "source": [
    "\n",
    "def clean_user(user):\n",
    "    # Limpia y divide el nombre\n",
    "    name = user[1].replace(\"_\", \" \").strip().split()\n",
    "\n",
    "    # Edad como entero\n",
    "    age = int(user[2])\n",
    "\n",
    "    # Categorías a minúsculas\n",
    "    categories = [category.lower() for category in user[3]]\n",
    "\n",
    "    return [user[0], name, age, categories, user[4]]\n",
    "\n",
    "# Prueba\n",
    "test_user = ['32415', ' mike_reed ', 32.0, ['ELECTRONICS', 'SPORT', 'BOOKS'], [894, 213, 173]]\n",
    "print(clean_user(test_user))\n"
   ],
   "outputs": [
    {
     "name": "stdout",
     "output_type": "stream",
     "text": [
      "['32415', ['mike', 'reed'], 32, ['electronics', 'sport', 'books'], [894, 213, 173]]\n"
     ]
    }
   ],
   "execution_count": 4
  },
  {
   "cell_type": "markdown",
   "id": "8322ba1a",
   "metadata": {
    "id": "8322ba1a"
   },
   "source": "## Paso 4: Limpieza de toda la base de usuarios\n"
  },
  {
   "cell_type": "code",
   "id": "92a4fd70",
   "metadata": {
    "colab": {
     "base_uri": "https://localhost:8080/"
    },
    "id": "92a4fd70",
    "outputId": "93a85ff9-60cc-4d1d-a9f9-0ee1b35fb236",
    "ExecuteTime": {
     "end_time": "2025-06-15T02:26:52.134252Z",
     "start_time": "2025-06-15T02:26:52.105153Z"
    }
   },
   "source": [
    "\n",
    "users_raw = [\n",
    "    ['32415', ' mike_reed ', 32.0, ['ELECTRONICS', 'SPORT', 'BOOKS'], [894, 213, 173]],\n",
    "    ['31980', 'kate morgan', 24.0, ['CLOTHES', 'BOOKS'], [439, 390]],\n",
    "    ['32156', ' john doe ', 37.0, ['ELECTRONICS', 'HOME', 'FOOD'], [459, 120, 99]],\n",
    "    ['32761', 'SAMANTHA SMITH', 29.0, ['CLOTHES', 'ELECTRONICS', 'BEAUTY'], [299, 679, 85]],\n",
    "    ['32984', 'David White', 41.0, ['BOOKS', 'HOME', 'SPORT'], [234, 329, 243]],\n",
    "    ['33001', 'emily brown', 26.0, ['BEAUTY', 'HOME', 'FOOD'], [213, 659, 79]],\n",
    "    ['33767', ' Maria Garcia', 33.0, ['CLOTHES', 'FOOD', 'BEAUTY'], [499, 189, 63]],\n",
    "    ['33912', 'JOSE MARTINEZ', 22.0, ['SPORT', 'ELECTRONICS', 'HOME'], [259, 549, 109]],\n",
    "    ['34009', 'lisa wilson ', 35.0, ['HOME', 'BOOKS', 'CLOTHES'], [329, 189, 329]],\n",
    "    ['34278', 'James Lee', 28.0, ['BEAUTY', 'CLOTHES', 'ELECTRONICS'], [189, 299, 579]]\n",
    "]\n",
    "\n",
    "users_clean = []\n",
    "\n",
    "for category in users_raw:\n",
    "    cleaned = clean_user(category)\n",
    "    users_clean.append(cleaned)\n",
    "\n",
    "\n",
    "print(users_clean)\n"
   ],
   "outputs": [
    {
     "name": "stdout",
     "output_type": "stream",
     "text": [
      "[['32415', ['mike', 'reed'], 32, ['electronics', 'sport', 'books'], [894, 213, 173]], ['31980', ['kate', 'morgan'], 24, ['clothes', 'books'], [439, 390]], ['32156', ['john', 'doe'], 37, ['electronics', 'home', 'food'], [459, 120, 99]], ['32761', ['SAMANTHA', 'SMITH'], 29, ['clothes', 'electronics', 'beauty'], [299, 679, 85]], ['32984', ['David', 'White'], 41, ['books', 'home', 'sport'], [234, 329, 243]], ['33001', ['emily', 'brown'], 26, ['beauty', 'home', 'food'], [213, 659, 79]], ['33767', ['Maria', 'Garcia'], 33, ['clothes', 'food', 'beauty'], [499, 189, 63]], ['33912', ['JOSE', 'MARTINEZ'], 22, ['sport', 'electronics', 'home'], [259, 549, 109]], ['34009', ['lisa', 'wilson'], 35, ['home', 'books', 'clothes'], [329, 189, 329]], ['34278', ['James', 'Lee'], 28, ['beauty', 'clothes', 'electronics'], [189, 299, 579]]]\n"
     ]
    }
   ],
   "execution_count": 5
  },
  {
   "cell_type": "markdown",
   "id": "06335abb",
   "metadata": {
    "id": "06335abb"
   },
   "source": "## Paso 5: Calcular ingresos totales\n"
  },
  {
   "cell_type": "code",
   "id": "e52afb0f",
   "metadata": {
    "colab": {
     "base_uri": "https://localhost:8080/"
    },
    "id": "e52afb0f",
    "outputId": "9151b8db-b55f-44f4-ee67-e50d8c06a168",
    "ExecuteTime": {
     "end_time": "2025-06-15T02:34:29.678802Z",
     "start_time": "2025-06-15T02:34:29.659044Z"
    }
   },
   "source": [
    "\n",
    "users_clean = [['32415', ['mike', 'reed'], 32, ['electronics', 'sport', 'books'], [894, 213, 173]],\n",
    "         \t\t\t ['31980', ['kate', 'morgan'], 24, ['clothes', 'books'], [439, 390]],\n",
    "         \t\t\t ['32156', ['john', 'doe'], 37, ['electronics', 'home', 'food'], [459, 120, 99]],\n",
    "         \t\t\t ['32761', ['samantha', 'smith'], 29, ['clothes', 'electronics', 'beauty'], [299, 679, 85]],\n",
    "         \t\t\t ['32984', ['david', 'white'], 41, ['books', 'home', 'sport'], [234, 329, 243]],\n",
    "         \t\t\t ['33001', ['emily', 'brown'], 26, ['beauty', 'home', 'food'], [213, 659, 79]],\n",
    "         \t\t\t ['33767', ['maria', 'garcia'], 33, ['clothes', 'food', 'beauty'], [499, 189, 63]],\n",
    "         \t\t\t ['33912', ['jose', 'martinez'], 22, ['sport', 'electronics', 'home'], [259, 549, 109]],\n",
    "         \t\t\t ['34009', ['lisa', 'wilson'], 35, ['home', 'books', 'clothes'], [329, 189, 329]],\n",
    "         \t\t\t ['34278', ['james', 'lee'], 28, ['beauty', 'clothes', 'electronics'], [189, 299, 579]]]\n",
    "\n",
    "revenue = 0\n",
    "\n",
    "for expenses in users_clean:\n",
    "    revenue += sum(expenses[-1])\n",
    "\n",
    "print(revenue)"
   ],
   "outputs": [
    {
     "name": "stdout",
     "output_type": "stream",
     "text": [
      "9189\n"
     ]
    }
   ],
   "execution_count": 9
  },
  {
   "cell_type": "markdown",
   "id": "1df1faed",
   "metadata": {
    "id": "1df1faed"
   },
   "source": "## Paso 6: Usuarios menores de 30 años\n"
  },
  {
   "cell_type": "code",
   "id": "a24763b7",
   "metadata": {
    "colab": {
     "base_uri": "https://localhost:8080/"
    },
    "id": "a24763b7",
    "outputId": "da9aaca3-f549-4bc5-863a-4357c5f2eb87",
    "ExecuteTime": {
     "end_time": "2025-06-15T02:39:07.048014Z",
     "start_time": "2025-06-15T02:39:07.026481Z"
    }
   },
   "source": [
    "users_clean = [['32415', ['mike', 'reed'], 32, ['electronics', 'sport', 'books'], [894, 213, 173]],\n",
    "         \t\t\t ['31980', ['kate', 'morgan'], 24, ['clothes', 'books'], [439, 390]],\n",
    "         \t\t\t ['32156', ['john', 'doe'], 37, ['electronics', 'home', 'food'], [459, 120, 99]],\n",
    "         \t\t\t ['32761', ['samantha', 'smith'], 29, ['clothes', 'electronics', 'beauty'], [299, 679, 85]],\n",
    "         \t\t\t ['32984', ['david', 'white'], 41, ['books', 'home', 'sport'], [234, 329, 243]],\n",
    "         \t\t\t ['33001', ['emily', 'brown'], 26, ['beauty', 'home', 'food'], [213, 659, 79]],\n",
    "         \t\t\t ['33767', ['maria', 'garcia'], 33, ['clothes', 'food', 'beauty'], [499, 189, 63]],\n",
    "         \t\t\t ['33912', ['jose', 'martinez'], 22, ['sport', 'electronics', 'home'], [259, 549, 109]],\n",
    "         \t\t\t ['34009', ['lisa', 'wilson'], 35, ['home', 'books', 'clothes'], [329, 189, 329]],\n",
    "         \t\t\t ['34278', ['james', 'lee'], 28, ['beauty', 'clothes', 'electronics'], [189, 299, 579]]]\n",
    "\n",
    "for user in users_clean:\n",
    "    if user[2] < 30:\n",
    "        print(user[1][0])\n"
   ],
   "outputs": [
    {
     "name": "stdout",
     "output_type": "stream",
     "text": [
      "kate\n",
      "samantha\n",
      "emily\n",
      "jose\n",
      "james\n"
     ]
    }
   ],
   "execution_count": 11
  },
  {
   "cell_type": "markdown",
   "id": "678371ce",
   "metadata": {
    "id": "678371ce"
   },
   "source": "### Paso 7: Jóvenes con alto gasto\n"
  },
  {
   "cell_type": "code",
   "id": "00e49c67",
   "metadata": {
    "colab": {
     "base_uri": "https://localhost:8080/"
    },
    "id": "00e49c67",
    "outputId": "be80b712-adfc-4c28-d444-d2b3e5211e73",
    "ExecuteTime": {
     "end_time": "2025-06-15T02:45:35.234933Z",
     "start_time": "2025-06-15T02:45:35.216845Z"
    }
   },
   "source": [
    "\n",
    "users_clean = [['32415', ['mike', 'reed'], 32, ['electronics', 'sport', 'books'], [894, 213, 173]],\n",
    "         \t\t\t ['31980', ['kate', 'morgan'], 24, ['clothes', 'books'], [439, 390]],\n",
    "         \t\t\t ['32156', ['john', 'doe'], 37, ['electronics', 'home', 'food'], [459, 120, 99]],\n",
    "         \t\t\t ['32761', ['samantha', 'smith'], 29, ['clothes', 'electronics', 'beauty'], [299, 679, 85]],\n",
    "         \t\t\t ['32984', ['david', 'white'], 41, ['books', 'home', 'sport'], [234, 329, 243]],\n",
    "         \t\t\t ['33001', ['emily', 'brown'], 26, ['beauty', 'home', 'food'], [213, 659, 79]],\n",
    "         \t\t\t ['33767', ['maria', 'garcia'], 33, ['clothes', 'food', 'beauty'], [499, 189, 63]],\n",
    "         \t\t\t ['33912', ['jose', 'martinez'], 22, ['sport', 'electronics', 'home'], [259, 549, 109]],\n",
    "         \t\t\t ['34009', ['lisa', 'wilson'], 35, ['home', 'books', 'clothes'], [329, 189, 329]],\n",
    "         \t\t\t ['34278', ['james', 'lee'], 28, ['beauty', 'clothes', 'electronics'], [189, 299, 579]]]\n",
    "\n",
    "for user in users_clean:\n",
    "    if user[2] < 30:\n",
    "        if sum(user[-1]) > 1000:\n",
    "            print(user[1][0])"
   ],
   "outputs": [
    {
     "name": "stdout",
     "output_type": "stream",
     "text": [
      "samantha\n",
      "james\n"
     ]
    }
   ],
   "execution_count": 12
  },
  {
   "cell_type": "markdown",
   "id": "307b3fe5",
   "metadata": {
    "id": "307b3fe5"
   },
   "source": "### Paso 8: Usuarios que compraron ropa\n"
  },
  {
   "cell_type": "code",
   "id": "f48c05ee",
   "metadata": {
    "colab": {
     "base_uri": "https://localhost:8080/"
    },
    "id": "f48c05ee",
    "outputId": "eba91178-d1a6-48c7-b7ae-23a57b89898a",
    "ExecuteTime": {
     "end_time": "2025-06-15T02:49:26.889475Z",
     "start_time": "2025-06-15T02:49:26.874904Z"
    }
   },
   "source": [
    "users_clean = [['32415', ['mike', 'reed'], 32, ['electronics', 'sport', 'books'], [894, 213, 173]],\n",
    "         \t\t\t ['31980', ['kate', 'morgan'], 24, ['clothes', 'books'], [439, 390]],\n",
    "         \t\t\t ['32156', ['john', 'doe'], 37, ['electronics', 'home', 'food'], [459, 120, 99]],\n",
    "         \t\t\t ['32761', ['samantha', 'smith'], 29, ['clothes', 'electronics', 'beauty'], [299, 679, 85]],\n",
    "         \t\t\t ['32984', ['david', 'white'], 41, ['books', 'home', 'sport'], [234, 329, 243]],\n",
    "         \t\t\t ['33001', ['emily', 'brown'], 26, ['beauty', 'home', 'food'], [213, 659, 79]],\n",
    "         \t\t\t ['33767', ['maria', 'garcia'], 33, ['clothes', 'food', 'beauty'], [499, 189, 63]],\n",
    "         \t\t\t ['33912', ['jose', 'martinez'], 22, ['sport', 'electronics', 'home'], [259, 549, 109]],\n",
    "         \t\t\t ['34009', ['lisa', 'wilson'], 35, ['home', 'books', 'clothes'], [329, 189, 329]],\n",
    "         \t\t\t ['34278', ['james', 'lee'], 28, ['beauty', 'clothes', 'electronics'], [189, 299, 579]]]\n",
    "\n",
    "for user in users_clean:\n",
    "    if 'clothes' in user[3]:\n",
    "        print(user[1][0], user[2])\n"
   ],
   "outputs": [
    {
     "name": "stdout",
     "output_type": "stream",
     "text": [
      "kate 24\n",
      "samantha 29\n",
      "maria 33\n",
      "lisa 35\n",
      "james 28\n"
     ]
    }
   ],
   "execution_count": 13
  },
  {
   "cell_type": "markdown",
   "id": "5edada87",
   "metadata": {
    "id": "5edada87"
   },
   "source": "### Paso 9: Función con filtro por categoría\n"
  },
  {
   "cell_type": "code",
   "id": "5964a53b",
   "metadata": {
    "colab": {
     "base_uri": "https://localhost:8080/"
    },
    "id": "5964a53b",
    "outputId": "093ec27f-b2a2-4af2-b8b8-4d65ac4d7ad0",
    "ExecuteTime": {
     "end_time": "2025-06-15T18:11:41.252502Z",
     "start_time": "2025-06-15T18:11:41.226857Z"
    }
   },
   "source": [
    "users_clean = [['32415', ['mike', 'reed'], 32, ['electronics', 'sport', 'books'], [894, 213, 173]],\n",
    "         \t\t\t ['31980', ['kate', 'morgan'], 24, ['clothes', 'books'], [439, 390]],\n",
    "         \t\t\t ['32156', ['john', 'doe'], 37, ['electronics', 'home', 'food'], [459, 120, 99]],\n",
    "         \t\t\t ['32761', ['samantha', 'smith'], 29, ['clothes', 'electronics', 'beauty'], [299, 679, 85]],\n",
    "         \t\t\t ['32984', ['david', 'white'], 41, ['books', 'home', 'sport'], [234, 329, 243]],\n",
    "         \t\t\t ['33001', ['emily', 'brown'], 26, ['beauty', 'home', 'food'], [213, 659, 79]],\n",
    "         \t\t\t ['33767', ['maria', 'garcia'], 33, ['clothes', 'food', 'beauty'], [499, 189, 63]],\n",
    "         \t\t\t ['33912', ['jose', 'martinez'], 22, ['sport', 'electronics', 'home'], [259, 549, 109]],\n",
    "         \t\t\t ['34009', ['lisa', 'wilson'], 35, ['home', 'books', 'clothes'], [329, 189, 329]],\n",
    "         \t\t\t ['34278', ['james', 'lee'], 28, ['beauty', 'clothes', 'electronics'], [189, 299, 579]]]\n",
    "\n",
    "def get_clients_by_category(data, category):\n",
    "    result = []\n",
    "    for user in data:\n",
    "        if category in user[3]:\n",
    "            new_user_list = user[:3] + [sum(user[4])]\n",
    "            result.append(new_user_list)\n",
    "    return result\n",
    "\n",
    "# Prueba con la categoría 'home'\n",
    "filtered = get_clients_by_category(users_clean, 'home')\n",
    "print(filtered)\n"
   ],
   "outputs": [
    {
     "name": "stdout",
     "output_type": "stream",
     "text": [
      "[['32156', ['john', 'doe'], 37, 678], ['32984', ['david', 'white'], 41, 806], ['33001', ['emily', 'brown'], 26, 951], ['33912', ['jose', 'martinez'], 22, 917], ['34009', ['lisa', 'wilson'], 35, 847]]\n"
     ]
    }
   ],
   "execution_count": 31
  }
 ],
 "metadata": {
  "colab": {
   "provenance": []
  },
  "kernelspec": {
   "display_name": "Python 3 (ipykernel)",
   "language": "python",
   "name": "python3"
  },
  "language_info": {
   "name": "python"
  }
 },
 "nbformat": 4,
 "nbformat_minor": 5
}
